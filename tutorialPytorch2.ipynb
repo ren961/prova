{
 "cells": [
  {
   "cell_type": "code",
   "execution_count": 437,
   "metadata": {},
   "outputs": [],
   "source": [
    "import torch\n",
    "import torchvision\n",
    "from torchvision.datasets import MNIST          # Importa il dataset di MNIST (quello dei numeri)"
   ]
  },
  {
   "attachments": {},
   "cell_type": "markdown",
   "metadata": {},
   "source": [
    "# Importare e settare dataset"
   ]
  },
  {
   "attachments": {},
   "cell_type": "markdown",
   "metadata": {},
   "source": [
    "Download e creazione di un dataset nella cartella data/ che si trova nella stessa cartella del notebook\n",
    "questo dataset è quello che si utilizzerà per il training"
   ]
  },
  {
   "cell_type": "code",
   "execution_count": 490,
   "metadata": {},
   "outputs": [],
   "source": [
    "dataset = MNIST(root = 'data/', download = True)"
   ]
  },
  {
   "attachments": {},
   "cell_type": "markdown",
   "metadata": {},
   "source": [
    "Creazione di un dataset di testing, bisogna specificare che non verrà usato per il training ponendo train = False"
   ]
  },
  {
   "cell_type": "code",
   "execution_count": 439,
   "metadata": {},
   "outputs": [],
   "source": [
    "test_dataset = MNIST(root = 'data/', train = False)"
   ]
  },
  {
   "cell_type": "code",
   "execution_count": 440,
   "metadata": {},
   "outputs": [
    {
     "data": {
      "text/plain": [
       "(<PIL.Image.Image image mode=L size=28x28>, 5)"
      ]
     },
     "execution_count": 440,
     "metadata": {},
     "output_type": "execute_result"
    }
   ],
   "source": [
    "dataset[0]"
   ]
  },
  {
   "cell_type": "code",
   "execution_count": 441,
   "metadata": {},
   "outputs": [],
   "source": [
    "import matplotlib.pyplot as plt\n",
    "%matplotlib inline\n",
    "\n",
    "# %matplotlib inline serve per non far vedere le immagini in una finestra pop up ma direttamente qui sul notebook"
   ]
  },
  {
   "cell_type": "code",
   "execution_count": 442,
   "metadata": {},
   "outputs": [
    {
     "name": "stdout",
     "output_type": "stream",
     "text": [
      "Label: 5\n"
     ]
    },
    {
     "data": {
      "image/png": "[encoded data removed]",
      "text/plain": [
       "<Figure size 640x480 with 1 Axes>"
      ]
     },
     "metadata": {},
     "output_type": "display_data"
    }
   ],
   "source": [
    "image, label = dataset[0]\n",
    "plt.imshow(image, cmap = 'gray')      #permette di stampare un dato come immagine, cmap specifica i colori utilizzati\n",
    "print('Label:', label)"
   ]
  },
  {
   "cell_type": "code",
   "execution_count": 443,
   "metadata": {},
   "outputs": [],
   "source": [
    "import torchvision.transforms as transforms"
   ]
  },
  {
   "attachments": {},
   "cell_type": "markdown",
   "metadata": {},
   "source": [
    "Importiamo il dataset e lo trasformiamo in un tensore"
   ]
  },
  {
   "cell_type": "code",
   "execution_count": 444,
   "metadata": {},
   "outputs": [],
   "source": [
    "dataset = MNIST(root = 'data/', \n",
    "                train = True,\n",
    "                transform = transforms.ToTensor()         # Trasforma l'immagine in un tensore shape: [colore, altezza, lunghezza]\n",
    "                )"
   ]
  },
  {
   "cell_type": "code",
   "execution_count": 445,
   "metadata": {},
   "outputs": [
    {
     "name": "stdout",
     "output_type": "stream",
     "text": [
      "torch.Size([1, 28, 28]) 5\n"
     ]
    }
   ],
   "source": [
    "img_tensor, label = dataset[0]\n",
    "print(img_tensor.shape, label)\n",
    "\n",
    "# Risultato: torch.Size(#colori, altezza, lunghezza)"
   ]
  },
  {
   "cell_type": "code",
   "execution_count": 446,
   "metadata": {},
   "outputs": [
    {
     "name": "stdout",
     "output_type": "stream",
     "text": [
      "tensor([[0.0039, 0.6039, 0.9922, 0.3529, 0.0000],\n",
      "        [0.0000, 0.5451, 0.9922, 0.7451, 0.0078],\n",
      "        [0.0000, 0.0431, 0.7451, 0.9922, 0.2745],\n",
      "        [0.0000, 0.0000, 0.1373, 0.9451, 0.8824],\n",
      "        [0.0000, 0.0000, 0.0000, 0.3176, 0.9412]])\n",
      "tensor(1.) tensor(0.)\n"
     ]
    }
   ],
   "source": [
    "print(img_tensor[0,10:15,10:15])        # prendo il primo layer (0) e i pixel da 10 a 15 in altezza e lunghezzza \n",
    "print(torch.max(img_tensor), torch.min(img_tensor))\n",
    "\n",
    "# I valori sono tra 0 e 1 con 0 che rappresenta il nero e 1 il bianco"
   ]
  },
  {
   "cell_type": "code",
   "execution_count": 447,
   "metadata": {},
   "outputs": [
    {
     "data": {
      "text/plain": [
       "<matplotlib.image.AxesImage at 0x7fd6c3171990>"
      ]
     },
     "execution_count": 447,
     "metadata": {},
     "output_type": "execute_result"
    },
    {
     "data": {
      "image/png": "[encoded data removed]",
      "text/plain": [
       "<Figure size 640x480 with 1 Axes>"
      ]
     },
     "metadata": {},
     "output_type": "display_data"
    }
   ],
   "source": [
    "plt.imshow(img_tensor[0,10:15,10:15], cmap='gray')"
   ]
  },
  {
   "attachments": {},
   "cell_type": "markdown",
   "metadata": {},
   "source": [
    "# Training e validazione dataset"
   ]
  },
  {
   "attachments": {},
   "cell_type": "markdown",
   "metadata": {},
   "source": [
    "Il dataset solitamente viene diviso in 3 parti:\n",
    "\n",
    "1. Training set: \"allenamento\" del modello, calcolo della perdita e aggiustamento di pesi e bias\n",
    "1. Validation set: usato per valutare il modello durante il training, sceglie la migliore versione del modello\n",
    "1. Test set: usato per comparare diversi modelli e per capire l'accuratezza del modello"
   ]
  },
  {
   "cell_type": "code",
   "execution_count": 448,
   "metadata": {},
   "outputs": [],
   "source": [
    "from torch.utils.data import random_split\n",
    "\n",
    "# funzione che permette di dividere un set in maniera random"
   ]
  },
  {
   "cell_type": "code",
   "execution_count": 449,
   "metadata": {},
   "outputs": [
    {
     "data": {
      "text/plain": [
       "(50000, 10000)"
      ]
     },
     "execution_count": 449,
     "metadata": {},
     "output_type": "execute_result"
    }
   ],
   "source": [
    "train_ds, val_ds = random_split(dataset, [50000, 10000])        # divide il set e ne assegna 50000 a train_ds e 10000 a val_ds\n",
    "len(train_ds), len(val_ds)"
   ]
  },
  {
   "cell_type": "code",
   "execution_count": 450,
   "metadata": {},
   "outputs": [],
   "source": [
    "from torch.utils.data import DataLoader\n",
    "\n",
    "# DataLoader permette la creazione di diversi lotti"
   ]
  },
  {
   "cell_type": "code",
   "execution_count": 451,
   "metadata": {},
   "outputs": [],
   "source": [
    "batch_size = 128\n",
    "\n",
    "train_loader = DataLoader(train_ds, batch_size, shuffle = True)       # shuffle = True per prendere i dati in maniera casuale\n",
    "val_loader = DataLoader(val_ds, batch_size)                     # val: validation\n",
    "\n",
    "# creazione set di training (in lotti di 128) "
   ]
  },
  {
   "attachments": {},
   "cell_type": "markdown",
   "metadata": {},
   "source": [
    "# Modello"
   ]
  },
  {
   "attachments": {},
   "cell_type": "markdown",
   "metadata": {},
   "source": [
    "Usiamo un modello di regressione lineare (come nella lezione 1): pred = x @ w.t() + b"
   ]
  },
  {
   "attachments": {},
   "cell_type": "markdown",
   "metadata": {},
   "source": [
    "nn.Linear si aspetta di riceve in input un vettore, quindi si dovrà appiattire il tensore a un vettore di dimensione 1 * 28 * 28 = 784"
   ]
  },
  {
   "cell_type": "code",
   "execution_count": 480,
   "metadata": {},
   "outputs": [],
   "source": [
    "import torch.nn as nn"
   ]
  },
  {
   "cell_type": "code",
   "execution_count": 453,
   "metadata": {},
   "outputs": [],
   "source": [
    "input_size = 28*28\n",
    "num_classes = 10"
   ]
  },
  {
   "attachments": {},
   "cell_type": "markdown",
   "metadata": {},
   "source": [
    "Tramite la libreria torch.nn creiamo un modello di regressione lineare dati un numero di input e un numero di obiettivi (output)"
   ]
  },
  {
   "cell_type": "code",
   "execution_count": 454,
   "metadata": {},
   "outputs": [],
   "source": [
    "model = nn.Linear(input_size, num_classes)\n",
    "\n",
    "# Modello regressione lineare"
   ]
  },
  {
   "cell_type": "code",
   "execution_count": 455,
   "metadata": {},
   "outputs": [
    {
     "name": "stdout",
     "output_type": "stream",
     "text": [
      "torch.Size([10, 784])\n"
     ]
    },
    {
     "data": {
      "text/plain": [
       "Parameter containing:\n",
       "tensor([[-0.0078,  0.0339,  0.0144,  ...,  0.0319, -0.0244,  0.0071],\n",
       "        [ 0.0310, -0.0104, -0.0132,  ..., -0.0340,  0.0117,  0.0072],\n",
       "        [-0.0081,  0.0155, -0.0349,  ...,  0.0070, -0.0300,  0.0103],\n",
       "        ...,\n",
       "        [ 0.0083,  0.0326,  0.0216,  ..., -0.0331, -0.0120,  0.0004],\n",
       "        [-0.0334,  0.0060,  0.0012,  ...,  0.0287, -0.0208,  0.0208],\n",
       "        [ 0.0163,  0.0300, -0.0038,  ...,  0.0257,  0.0173,  0.0097]],\n",
       "       requires_grad=True)"
      ]
     },
     "execution_count": 455,
     "metadata": {},
     "output_type": "execute_result"
    }
   ],
   "source": [
    "print(model.weight.shape)\n",
    "model.weight"
   ]
  },
  {
   "cell_type": "code",
   "execution_count": 456,
   "metadata": {},
   "outputs": [
    {
     "name": "stdout",
     "output_type": "stream",
     "text": [
      "torch.Size([10])\n"
     ]
    },
    {
     "data": {
      "text/plain": [
       "Parameter containing:\n",
       "tensor([ 0.0099,  0.0081, -0.0185, -0.0232,  0.0047, -0.0196, -0.0035,  0.0223,\n",
       "        -0.0168,  0.0223], requires_grad=True)"
      ]
     },
     "execution_count": 456,
     "metadata": {},
     "output_type": "execute_result"
    }
   ],
   "source": [
    "print(model.bias.shape)\n",
    "model.bias"
   ]
  },
  {
   "attachments": {},
   "cell_type": "markdown",
   "metadata": {},
   "source": [
    "***"
   ]
  },
  {
   "attachments": {},
   "cell_type": "markdown",
   "metadata": {},
   "source": [
    "Non si può utilizzare questa forma perché le shape non combaciano"
   ]
  },
  {
   "cell_type": "code",
   "execution_count": 457,
   "metadata": {},
   "outputs": [],
   "source": [
    "# for images, labels in train_loader:\n",
    "#    print(labels)\n",
    "#    print(images)\n",
    "#    outputs = model(images)\n",
    "#    print(outputs)\n",
    "#    break\n",
    "\n",
    "# se si passano le image al modello si ottiene un errore perché si aspetta un vettore di dimensione 28*28, non un vettore multidimensionale.\n",
    "# Quindi bisogna rendelrlo un vettore"
   ]
  },
  {
   "cell_type": "code",
   "execution_count": 458,
   "metadata": {},
   "outputs": [],
   "source": [
    "# images.shape"
   ]
  },
  {
   "cell_type": "code",
   "execution_count": 459,
   "metadata": {},
   "outputs": [],
   "source": [
    "# images.reshape(128, 784).shape\n",
    "\n",
    "# modifica la shape per ottenere un tensore [128, 724]"
   ]
  },
  {
   "attachments": {},
   "cell_type": "markdown",
   "metadata": {},
   "source": [
    "***"
   ]
  },
  {
   "attachments": {},
   "cell_type": "markdown",
   "metadata": {},
   "source": [
    "**CREAZIONE DI UNA CLASSE**"
   ]
  },
  {
   "attachments": {},
   "cell_type": "markdown",
   "metadata": {},
   "source": [
    "Esempio di una classe:"
   ]
  },
  {
   "cell_type": "code",
   "execution_count": 460,
   "metadata": {},
   "outputs": [],
   "source": [
    "#class person:\n",
    "    # costrutto della classe\n",
    "#    def __init__(self, name, age):\n",
    "#        self.name = name\n",
    "#        self.age = age\n",
    "    \n",
    "    # NB! il primo attributo di ogni classe è sempre self che si riferisce a se stesso\n",
    "\n",
    "    # definizione di metodi della classe\n",
    "#    def say_hello(self):\n",
    "#        print(\"Hello my name is: \" + self.name + '!')"
   ]
  },
  {
   "cell_type": "code",
   "execution_count": 461,
   "metadata": {},
   "outputs": [],
   "source": [
    "class MnistModel(nn.Module):            # nn.Module classe base di ogni rete neurale\n",
    "\n",
    "    # All'interno di __init__ instaziamo pesi e bias attraverso nn.Linear\n",
    "\n",
    "    def __init__(self):\n",
    "        super().__init__()              # superlcasse, classe che include classi al suo interno (nn.Module)\n",
    "        self.linear = nn.Linear(input_size, num_classes)        #crea un attributo linear in cui definisce un modello lineare con la libreria nn di pytorch \n",
    "\n",
    "    # Nel metodo forward(self, xb) quando passiamo un lotto di di input questo viene appiattito e passato a self.linear\n",
    "    # xb: dimensione di un lotto\n",
    "\n",
    "    def forward(self, xb):              #funzione che \"scorre\" i lotti\n",
    "        xb = xb.reshape(-1, 784)           # xb = numero di lotto\n",
    "        out = self.linear(xb)\n",
    "        return out\n",
    "\n",
    "# -1 dentro al reshape viene usata per non dare una misura a una delle dimensioni così si sistemerà in base all'altra dimensione        "
   ]
  },
  {
   "cell_type": "code",
   "execution_count": 462,
   "metadata": {},
   "outputs": [],
   "source": [
    "model = MnistModel()        #creazione effettiva del modello attraverso la classe"
   ]
  },
  {
   "cell_type": "code",
   "execution_count": 463,
   "metadata": {},
   "outputs": [
    {
     "data": {
      "text/plain": [
       "Linear(in_features=784, out_features=10, bias=True)"
      ]
     },
     "execution_count": 463,
     "metadata": {},
     "output_type": "execute_result"
    }
   ],
   "source": [
    "model.linear"
   ]
  },
  {
   "cell_type": "code",
   "execution_count": 464,
   "metadata": {},
   "outputs": [
    {
     "name": "stdout",
     "output_type": "stream",
     "text": [
      "torch.Size([10, 784]) torch.Size([10])\n"
     ]
    }
   ],
   "source": [
    "print(model.linear.weight.shape, model.linear.bias.shape)"
   ]
  },
  {
   "attachments": {},
   "cell_type": "markdown",
   "metadata": {},
   "source": [
    "**NB!** model non ha più gli attributi weight e bias che si trovano all'interno dell'attributo .linear"
   ]
  },
  {
   "attachments": {},
   "cell_type": "markdown",
   "metadata": {},
   "source": [
    "In compenso possiede un metodo .parameters() che restituisce una lista che contiene pesi e bias"
   ]
  },
  {
   "cell_type": "code",
   "execution_count": 465,
   "metadata": {},
   "outputs": [
    {
     "data": {
      "text/plain": [
       "[Parameter containing:\n",
       " tensor([[ 0.0155,  0.0124,  0.0203,  ...,  0.0047,  0.0064, -0.0007],\n",
       "         [-0.0032,  0.0122,  0.0348,  ...,  0.0080,  0.0192,  0.0273],\n",
       "         [ 0.0316, -0.0060,  0.0307,  ..., -0.0316,  0.0222, -0.0197],\n",
       "         ...,\n",
       "         [ 0.0036,  0.0295,  0.0250,  ..., -0.0071,  0.0081, -0.0049],\n",
       "         [ 0.0195, -0.0068,  0.0235,  ..., -0.0331,  0.0256, -0.0069],\n",
       "         [ 0.0207,  0.0273,  0.0167,  ..., -0.0028, -0.0219, -0.0347]],\n",
       "        requires_grad=True),\n",
       " Parameter containing:\n",
       " tensor([ 0.0319, -0.0250,  0.0125, -0.0149, -0.0251,  0.0194, -0.0028,  0.0269,\n",
       "         -0.0231, -0.0309], requires_grad=True)]"
      ]
     },
     "execution_count": 465,
     "metadata": {},
     "output_type": "execute_result"
    }
   ],
   "source": [
    "list(model.parameters())"
   ]
  },
  {
   "cell_type": "code",
   "execution_count": 466,
   "metadata": {},
   "outputs": [
    {
     "name": "stdout",
     "output_type": "stream",
     "text": [
      "image shape: torch.Size([128, 1, 28, 28])\n",
      "outputs.shape :  torch.Size([128, 10])\n",
      "Sample outputs :\n",
      " tensor([[-0.1766,  0.1228, -0.0766, -0.0513, -0.2693,  0.1569, -0.2847,  0.0731,\n",
      "         -0.3180, -0.2129],\n",
      "        [-0.1586,  0.0361, -0.3071, -0.2176, -0.0334,  0.1079, -0.2469,  0.1000,\n",
      "         -0.2234, -0.0089],\n",
      "        [-0.0685,  0.2238,  0.0554,  0.1443, -0.0094,  0.1558, -0.1394,  0.2618,\n",
      "         -0.1399, -0.1088],\n",
      "        [-0.0990,  0.4120, -0.2473,  0.0699, -0.1667,  0.0541, -0.4155,  0.2109,\n",
      "         -0.2344, -0.3260],\n",
      "        [-0.1352,  0.0905, -0.1839, -0.0675, -0.0231,  0.1886, -0.1461,  0.0716,\n",
      "         -0.1733, -0.0946],\n",
      "        [-0.0664,  0.1812, -0.1799,  0.2976, -0.2948,  0.4100, -0.5161,  0.1327,\n",
      "         -0.3943, -0.1343],\n",
      "        [-0.0438,  0.1947, -0.1322,  0.1296, -0.3390,  0.2343, -0.6710,  0.3537,\n",
      "         -0.2630,  0.0660],\n",
      "        [ 0.0922,  0.1143, -0.0549,  0.1292, -0.1722,  0.2002, -0.1058,  0.2365,\n",
      "         -0.2944, -0.0074],\n",
      "        [ 0.1653,  0.2611, -0.3969, -0.0101, -0.2569,  0.4002, -0.4718,  0.2064,\n",
      "         -0.2465,  0.1205],\n",
      "        [-0.3366,  0.0746, -0.3461,  0.0034, -0.0976,  0.1577, -0.1417, -0.1476,\n",
      "          0.0664, -0.2042]])\n"
     ]
    }
   ],
   "source": [
    "for images, labels in train_loader:\n",
    "    print('image shape:', images.shape)\n",
    "    outputs = model(images)\n",
    "    break\n",
    "\n",
    "print('outputs.shape : ', outputs.shape)\n",
    "print('Sample outputs :\\n', outputs[:10].data)"
   ]
  },
  {
   "attachments": {},
   "cell_type": "markdown",
   "metadata": {},
   "source": [
    "NB! Gli output devono rappresentare delle probabilità (positiva) e la loro somma risultare 1 (100% di possibilità). Per poter ottenere questo risultato possiamo applicare la funzione softmax presente nella libreria torch.nn.Functional"
   ]
  },
  {
   "cell_type": "code",
   "execution_count": 467,
   "metadata": {},
   "outputs": [],
   "source": [
    "import torch.nn.functional as F"
   ]
  },
  {
   "cell_type": "code",
   "execution_count": 468,
   "metadata": {},
   "outputs": [
    {
     "name": "stdout",
     "output_type": "stream",
     "text": [
      "Sample probabilities:\n",
      " tensor([[0.0917, 0.1237, 0.1013, 0.1039, 0.0836, 0.1280, 0.0823, 0.1177, 0.0796,\n",
      "         0.0884],\n",
      "        [0.0929, 0.1128, 0.0801, 0.0875, 0.1053, 0.1212, 0.0850, 0.1203, 0.0870,\n",
      "         0.1079]])\n",
      "Sum:  1.0\n"
     ]
    }
   ],
   "source": [
    "# Apply softmax for each output row\n",
    "probs = F.softmax(outputs, dim = 1)      # F.softmax(risultato regressione lineare, dim = 1: cerca il valore massimo su una riga) \n",
    "\n",
    "print(\"Sample probabilities:\\n\", probs[:2].data)        # stampa le probabilità dei primi 2\n",
    "\n",
    "print(\"Sum: \", torch.sum(probs[0]).item())      # controllo della probabilità totale della prima immagine"
   ]
  },
  {
   "attachments": {},
   "cell_type": "markdown",
   "metadata": {},
   "source": [
    "Una volta stabilite le proprietà si può assumere che il collegamento con il peso maggiore sia quello che predice il nostro modello, quindi bisogna cercare il valore più grande all'interno delle 10 probabilità dell'immagine per capire quale valore ha predetto il modello"
   ]
  },
  {
   "attachments": {},
   "cell_type": "markdown",
   "metadata": {},
   "source": [
    "*Esempio: [0.0738, 0.0691, 0.1152, 0.0685, 0.0973, 0.0998, 0.0880,* **0.1613**, *0.0999, 0.1272] il valore maggiore è 0.1613, quindi il modello ha predetto che il valore all'interno dell'immagine è il numero 7 ([0, 1, 2, 3, 4, 5, 6,* **7**, *8, 9])*"
   ]
  },
  {
   "cell_type": "code",
   "execution_count": 469,
   "metadata": {},
   "outputs": [
    {
     "name": "stdout",
     "output_type": "stream",
     "text": [
      "tensor([5, 5, 7, 1, 5, 5, 7, 7, 5, 5, 3, 3, 7, 1, 5, 5, 5, 3, 7, 3, 5, 5, 5, 3,\n",
      "        5, 1, 5, 9, 5, 5, 5, 3, 3, 3, 5, 5, 5, 5, 3, 5, 5, 1, 5, 1, 1, 1, 7, 1,\n",
      "        1, 5, 5, 5, 1, 5, 7, 5, 1, 2, 9, 1, 5, 1, 5, 3, 5, 3, 1, 5, 5, 2, 5, 5,\n",
      "        5, 3, 7, 5, 3, 5, 5, 1, 3, 5, 1, 3, 1, 7, 1, 5, 3, 3, 5, 7, 9, 5, 5, 1,\n",
      "        5, 1, 5, 9, 5, 5, 1, 3, 3, 1, 1, 7, 7, 5, 5, 1, 3, 0, 1, 7, 3, 7, 5, 3,\n",
      "        7, 1, 5, 5, 3, 5, 5, 7])\n",
      "tensor([0.1280, 0.1212, 0.1238, 0.1576, 0.1257, 0.1529, 0.1434, 0.1234, 0.1467,\n",
      "        0.1273, 0.1469, 0.1513, 0.1253, 0.1522, 0.1304, 0.1627, 0.1604, 0.1238,\n",
      "        0.1214, 0.1441, 0.1394, 0.1426, 0.1507, 0.1348, 0.1360, 0.1262, 0.1200,\n",
      "        0.1240, 0.1306, 0.1435, 0.1643, 0.1413, 0.1191, 0.1476, 0.1349, 0.1356,\n",
      "        0.1159, 0.1217, 0.1407, 0.1419, 0.1331, 0.1615, 0.1390, 0.1203, 0.1070,\n",
      "        0.1252, 0.1147, 0.1221, 0.1362, 0.1409, 0.1409, 0.1472, 0.1313, 0.1280,\n",
      "        0.1170, 0.1285, 0.1239, 0.1257, 0.1302, 0.1251, 0.1776, 0.1339, 0.1406,\n",
      "        0.1551, 0.1344, 0.1210, 0.1379, 0.1438, 0.1302, 0.1170, 0.1302, 0.1477,\n",
      "        0.1223, 0.1338, 0.1432, 0.1513, 0.1274, 0.1134, 0.1298, 0.1233, 0.1295,\n",
      "        0.1530, 0.1311, 0.1538, 0.1304, 0.1408, 0.1327, 0.1192, 0.1614, 0.1370,\n",
      "        0.1487, 0.1379, 0.1238, 0.1527, 0.1472, 0.1507, 0.1343, 0.1385, 0.1252,\n",
      "        0.1307, 0.1538, 0.1405, 0.1551, 0.1188, 0.1379, 0.1311, 0.1199, 0.1382,\n",
      "        0.1308, 0.1252, 0.1418, 0.1497, 0.1420, 0.1195, 0.1424, 0.1176, 0.1361,\n",
      "        0.1372, 0.1274, 0.1361, 0.1253, 0.1332, 0.1555, 0.1419, 0.1235, 0.1490,\n",
      "        0.1288, 0.1256], grad_fn=<MaxBackward0>)\n"
     ]
    }
   ],
   "source": [
    "max_probs, preds = torch.max(probs, dim = 1)\n",
    "print(preds)\n",
    "print(max_probs)"
   ]
  },
  {
   "attachments": {},
   "cell_type": "markdown",
   "metadata": {},
   "source": [
    "Andiamo a controllarli con i risultati effettivi:"
   ]
  },
  {
   "cell_type": "code",
   "execution_count": 470,
   "metadata": {},
   "outputs": [
    {
     "data": {
      "text/plain": [
       "tensor([7, 3, 1, 7, 1, 7, 7, 7, 8, 6, 8, 0, 7, 2, 6, 0, 4, 5, 1, 7, 9, 0, 6, 2,\n",
       "        8, 3, 1, 7, 0, 4, 6, 0, 5, 4, 3, 5, 1, 7, 2, 8, 4, 2, 9, 8, 1, 8, 1, 1,\n",
       "        3, 4, 6, 5, 6, 4, 1, 6, 5, 0, 0, 0, 6, 3, 3, 0, 5, 8, 8, 9, 3, 3, 6, 4,\n",
       "        5, 4, 4, 9, 0, 1, 9, 1, 0, 7, 5, 5, 3, 2, 3, 1, 4, 3, 4, 9, 5, 7, 3, 7,\n",
       "        4, 2, 3, 3, 6, 7, 6, 7, 8, 3, 2, 2, 9, 3, 9, 3, 4, 8, 7, 1, 4, 4, 9, 7,\n",
       "        9, 3, 3, 3, 3, 9, 7, 4])"
      ]
     },
     "execution_count": 470,
     "metadata": {},
     "output_type": "execute_result"
    }
   ],
   "source": [
    "labels"
   ]
  },
  {
   "attachments": {},
   "cell_type": "markdown",
   "metadata": {},
   "source": [
    "# Valutazione misurazione e funzione di perdita"
   ]
  },
  {
   "attachments": {},
   "cell_type": "markdown",
   "metadata": {},
   "source": [
    "Valutiamo l'accuratezza della prevision attraverso una funzione di accuratezza"
   ]
  },
  {
   "cell_type": "code",
   "execution_count": 471,
   "metadata": {},
   "outputs": [
    {
     "name": "stdout",
     "output_type": "stream",
     "text": [
      "tensor([5, 5, 7, 1, 5, 5, 7, 7, 5, 5, 3, 3, 7, 1, 5, 5, 5, 3, 7, 3, 5, 5, 5, 3,\n",
      "        5, 1, 5, 9, 5, 5, 5, 3, 3, 3, 5, 5, 5, 5, 3, 5, 5, 1, 5, 1, 1, 1, 7, 1,\n",
      "        1, 5, 5, 5, 1, 5, 7, 5, 1, 2, 9, 1, 5, 1, 5, 3, 5, 3, 1, 5, 5, 2, 5, 5,\n",
      "        5, 3, 7, 5, 3, 5, 5, 1, 3, 5, 1, 3, 1, 7, 1, 5, 3, 3, 5, 7, 9, 5, 5, 1,\n",
      "        5, 1, 5, 9, 5, 5, 1, 3, 3, 1, 1, 7, 7, 5, 5, 1, 3, 0, 1, 7, 3, 7, 5, 3,\n",
      "        7, 1, 5, 5, 3, 5, 5, 7])\n",
      "tensor([7, 3, 1, 7, 1, 7, 7, 7, 8, 6, 8, 0, 7, 2, 6, 0, 4, 5, 1, 7, 9, 0, 6, 2,\n",
      "        8, 3, 1, 7, 0, 4, 6, 0, 5, 4, 3, 5, 1, 7, 2, 8, 4, 2, 9, 8, 1, 8, 1, 1,\n",
      "        3, 4, 6, 5, 6, 4, 1, 6, 5, 0, 0, 0, 6, 3, 3, 0, 5, 8, 8, 9, 3, 3, 6, 4,\n",
      "        5, 4, 4, 9, 0, 1, 9, 1, 0, 7, 5, 5, 3, 2, 3, 1, 4, 3, 4, 9, 5, 7, 3, 7,\n",
      "        4, 2, 3, 3, 6, 7, 6, 7, 8, 3, 2, 2, 9, 3, 9, 3, 4, 8, 7, 1, 4, 4, 9, 7,\n",
      "        9, 3, 3, 3, 3, 9, 7, 4])\n",
      "tensor([False, False, False, False, False, False,  True,  True, False, False,\n",
      "        False, False,  True, False, False, False, False, False, False, False,\n",
      "        False, False, False, False, False, False, False, False, False, False,\n",
      "        False, False, False, False, False,  True, False, False, False, False,\n",
      "        False, False, False, False,  True, False, False,  True, False, False,\n",
      "        False,  True, False, False, False, False, False, False, False, False,\n",
      "        False, False, False, False,  True, False, False, False, False, False,\n",
      "        False, False,  True, False, False, False, False, False, False,  True,\n",
      "        False, False, False, False, False, False, False, False, False,  True,\n",
      "        False, False, False, False, False, False, False, False, False, False,\n",
      "        False, False, False, False, False, False, False, False, False, False,\n",
      "        False, False, False, False, False, False, False, False, False, False,\n",
      "        False, False, False, False,  True, False, False, False])\n"
     ]
    }
   ],
   "source": [
    "print(preds)\n",
    "print(labels)\n",
    "print(preds == labels)"
   ]
  },
  {
   "cell_type": "code",
   "execution_count": 472,
   "metadata": {},
   "outputs": [],
   "source": [
    "def accuracy(outputs, labels):\n",
    "    _, preds = torch.max(outputs, dim = 1)      # outputs: risultati della regressione lineare senza applicare il softmax\n",
    "    # _ (undescore da solo come variabile) restituisce l'ultimo risultato ottenuto dall'ultima espressione eseguita da Python\n",
    "\n",
    "    return torch.tensor(torch.sum(preds == labels).item() / len(preds))\n",
    "\n",
    "# torch.sum(preds == labels) è un counter, conta ogni volta che si trova un'iterazione vera in cui la\n",
    "# previsione corrisponde alla sua label"
   ]
  },
  {
   "cell_type": "code",
   "execution_count": 473,
   "metadata": {},
   "outputs": [
    {
     "data": {
      "text/plain": [
       "tensor(0.0938)"
      ]
     },
     "execution_count": 473,
     "metadata": {},
     "output_type": "execute_result"
    }
   ],
   "source": [
    "accuracy(outputs, labels)"
   ]
  },
  {
   "attachments": {},
   "cell_type": "markdown",
   "metadata": {},
   "source": [
    "**NB!** La funzione di accuratezza serve a noi per capire l'efficienza del modello ma non possiamo usarla come funzione di perdita per migliorare il modello poiché:\n",
    "1. Non è una funzione differenziabile\n",
    "1. Non tiene conto delle effettive probabilità"
   ]
  },
  {
   "attachments": {},
   "cell_type": "markdown",
   "metadata": {},
   "source": [
    "Una funzione di perdita molto utilizzata è la **cross-entropy** "
   ]
  },
  {
   "attachments": {},
   "cell_type": "markdown",
   "metadata": {},
   "source": [
    "* Per ogni fila di output viene selezionata la probabilità predetta per la label corretta (es: [0.1, 0.3, 0.2, ...] e la label corretta è il 1 quindi la sua probabilità è di 0.3)\n",
    "* Quindi si esegue il logaritmo della probabilità selezionata (se la probabilità è alta allora il logaritmo sarà un numero negativo molto piccolo e vicino allo 0 mentre se la probabilità è bassa allora si avrà un numero negativo molto grande)\n",
    "* Successivamente moltiplicando per -1 si ottiene la perdita di ogni riga\n",
    "* Infine si fa la media della cross-entropy su tutte le righe di output per trovare la perdità complessivo del lotto"
   ]
  },
  {
   "cell_type": "code",
   "execution_count": 474,
   "metadata": {},
   "outputs": [],
   "source": [
    "loss_fn = F.cross_entropy"
   ]
  },
  {
   "cell_type": "code",
   "execution_count": 475,
   "metadata": {},
   "outputs": [
    {
     "name": "stdout",
     "output_type": "stream",
     "text": [
      "tensor(2.3406, grad_fn=<NllLossBackward0>)\n"
     ]
    }
   ],
   "source": [
    "loss = loss_fn(outputs, labels)\n",
    "print(loss)"
   ]
  },
  {
   "attachments": {},
   "cell_type": "markdown",
   "metadata": {},
   "source": [
    "# Training del modello"
   ]
  },
  {
   "attachments": {},
   "cell_type": "markdown",
   "metadata": {},
   "source": [
    "Nella fase lineare bisogna aggiungere una **fase di validazione** per valutare il modello in ogni epoca"
   ]
  },
  {
   "cell_type": "code",
   "execution_count": 491,
   "metadata": {},
   "outputs": [],
   "source": [
    "def fit(epochs, lr, model, train_loader, val_loader, opt_func=torch.optim.SGD):     # lr: learning rate?\n",
    "    optimizer = opt_func(model.parameters(), lr)        # model.parameters() mette pesi e bias all'interno di una list\n",
    "    history = []            # per salvare il risultato di ogni epoch\n",
    "    \n",
    "    # ripetizione per il numero di epochs dato\n",
    "    for epoch in range(epochs):\n",
    "        \n",
    "        # Fase di training (in lotti)\n",
    "        for batch in train_loader:\n",
    "\n",
    "            # 1. calcolo perdita\n",
    "            loss = model.training_step(batch)\n",
    "\n",
    "            # 2. calcolo derivat\n",
    "            loss.backward()\n",
    "\n",
    "            # 3. Aggiornamento parametri usando le derivate\n",
    "            optimizer.step()\n",
    "\n",
    "            #4. Reset della derivata a 0\n",
    "            optimizer.zero_grad()\n",
    "        \n",
    "        #  Fase di validazione\n",
    "        result = evaluate(model, val_loader)            # val_loader: dataLoader di validazione\n",
    "        model.epoch_end(epoch, result)\n",
    "        history.append(result)\n",
    "\n",
    "    return history\n",
    "\n",
    "# NB! questa parte del codice può essere riutilizzata per ogni problema di deep learning "
   ]
  },
  {
   "cell_type": "code",
   "execution_count": 477,
   "metadata": {},
   "outputs": [],
   "source": [
    "def evaluate(model, val_loader):\n",
    "    outputs = [model.validation_step(batch) for batch in val_loader]        # esegue l'operazione per il numero di batch nel val_loader\n",
    "    return model.validation_epoch_end(outputs)"
   ]
  },
  {
   "cell_type": "code",
   "execution_count": 478,
   "metadata": {},
   "outputs": [],
   "source": [
    "class MnistModel(nn.Module):\n",
    "    def __init__(self):\n",
    "        super().__init__()\n",
    "        self.linear = nn.Linear(input_size, num_classes)\n",
    "\n",
    "    # Trasforma il batch in un array monodimensionale ed esegue la regressione lineare su questo\n",
    "    def forward(self, xb):\n",
    "        xb = xb.reshape(-1, 784)\n",
    "        out = self.linear(xb)\n",
    "        return out\n",
    "    \n",
    "    # Riceve in input un lotto di dati e restituisce la perdita\n",
    "    def training_step(self, batch):\n",
    "        images, labels = batch                      # Estrazione di immagini ed etichette dal lotto\n",
    "        out = self(images)                          # Generazione previsioni\n",
    "        loss = F.cross_entropy(out, labels)         # Calcolo perdita\n",
    "        return loss\n",
    "    \n",
    "    # Dato un lotto calcola la perdita e l'accuratezza\n",
    "\n",
    "    def validation_step(self, batch):\n",
    "        images, labels = batch \n",
    "        out = self(images)                              # Generazione previsioni\n",
    "        loss = F.cross_entropy(out, labels)             # Calculo perdita\n",
    "        acc = accuracy(out, labels)                     # Calculo accuratezza\n",
    "        return {'val_loss': loss, 'val_acc': acc}\n",
    "\n",
    "    # Restituisce la media delle perdite e delle accuratezze di tutto il lotto\n",
    "\n",
    "    def validation_epoch_end(self, outputs):\n",
    "        batch_losses = [x['val_loss'] for x in outputs]\n",
    "        epoch_loss = torch.stack(batch_losses).mean()           # Unione delle perdite\n",
    "        batch_accs = [x['val_acc'] for x in outputs]\n",
    "        epoch_acc = torch.stack(batch_accs).mean()              # Unione accuratezze\n",
    "        return {'val_loss': epoch_loss.item(), 'val_acc': epoch_acc.item()}\n",
    "    \n",
    "    # Stampa i risultati ottenuti da validation_epoch_end\n",
    "\n",
    "    def epoch_end(self, epoch, result):\n",
    "        print(\"Epoch [{}], val_loss: {:.4f}, val_acc: {:.4f}\".format(epoch, result['val_loss'], result['val_acc']))\n",
    "    \n",
    "model = MnistModel()"
   ]
  },
  {
   "cell_type": "code",
   "execution_count": 487,
   "metadata": {},
   "outputs": [
    {
     "data": {
      "text/plain": [
       "{'val_loss': 0.6680988073348999, 'val_acc': 0.858188271522522}"
      ]
     },
     "execution_count": 487,
     "metadata": {},
     "output_type": "execute_result"
    }
   ],
   "source": [
    "result0 = evaluate(model, val_loader)\n",
    "result0"
   ]
  },
  {
   "cell_type": "code",
   "execution_count": 482,
   "metadata": {},
   "outputs": [
    {
     "name": "stdout",
     "output_type": "stream",
     "text": [
      "Epoch [0], val_loss: 1.9606, val_acc: 0.6004\n",
      "Epoch [1], val_loss: 1.6896, val_acc: 0.7007\n",
      "Epoch [2], val_loss: 1.4871, val_acc: 0.7456\n",
      "Epoch [3], val_loss: 1.3341, val_acc: 0.7750\n",
      "Epoch [4], val_loss: 1.2162, val_acc: 0.7951\n"
     ]
    }
   ],
   "source": [
    "history1 = fit(5, 0.001, model, train_loader, val_loader)\n",
    "\n",
    "# Cos'è learning rate e come sceglierlo?"
   ]
  },
  {
   "cell_type": "code",
   "execution_count": 483,
   "metadata": {},
   "outputs": [
    {
     "name": "stdout",
     "output_type": "stream",
     "text": [
      "Epoch [0], val_loss: 1.1234, val_acc: 0.8082\n",
      "Epoch [1], val_loss: 1.0489, val_acc: 0.8185\n",
      "Epoch [2], val_loss: 0.9878, val_acc: 0.8242\n",
      "Epoch [3], val_loss: 0.9369, val_acc: 0.8283\n",
      "Epoch [4], val_loss: 0.8939, val_acc: 0.8330\n"
     ]
    }
   ],
   "source": [
    "history2 = fit(5, 0.001, model, train_loader, val_loader)"
   ]
  },
  {
   "cell_type": "code",
   "execution_count": 484,
   "metadata": {},
   "outputs": [
    {
     "name": "stdout",
     "output_type": "stream",
     "text": [
      "Epoch [0], val_loss: 0.8570, val_acc: 0.8386\n",
      "Epoch [1], val_loss: 0.8250, val_acc: 0.8413\n",
      "Epoch [2], val_loss: 0.7970, val_acc: 0.8445\n",
      "Epoch [3], val_loss: 0.7723, val_acc: 0.8471\n",
      "Epoch [4], val_loss: 0.7503, val_acc: 0.8491\n"
     ]
    }
   ],
   "source": [
    "history3 = fit(5, 0.001, model, train_loader, val_loader)"
   ]
  },
  {
   "cell_type": "code",
   "execution_count": 485,
   "metadata": {},
   "outputs": [
    {
     "name": "stdout",
     "output_type": "stream",
     "text": [
      "Epoch [0], val_loss: 0.7305, val_acc: 0.8507\n",
      "Epoch [1], val_loss: 0.7126, val_acc: 0.8520\n",
      "Epoch [2], val_loss: 0.6964, val_acc: 0.8538\n",
      "Epoch [3], val_loss: 0.6817, val_acc: 0.8564\n",
      "Epoch [4], val_loss: 0.6681, val_acc: 0.8582\n"
     ]
    }
   ],
   "source": [
    "history4 = fit(5, 0.001, model, train_loader, val_loader)"
   ]
  },
  {
   "cell_type": "code",
   "execution_count": 488,
   "metadata": {},
   "outputs": [
    {
     "data": {
      "text/plain": [
       "Text(0.5, 1.0, 'Accuracy vs # epochs')"
      ]
     },
     "execution_count": 488,
     "metadata": {},
     "output_type": "execute_result"
    },
    {
     "data": {
      "image/png": "[encoded data removed]",
      "text/plain": [
       "<Figure size 640x480 with 1 Axes>"
      ]
     },
     "metadata": {},
     "output_type": "display_data"
    }
   ],
   "source": [
    "history = [result0] + history1 + history2 + history3 + history4\n",
    "accuracies = [result['val_acc'] for result in history]          # cosa fa val_acc?\n",
    "plt.plot(accuracies, '-x')\n",
    "plt.xlabel('epoch')\n",
    "plt.ylabel('accuracy')\n",
    "plt.title('Accuracy vs # epochs')"
   ]
  },
  {
   "attachments": {},
   "cell_type": "markdown",
   "metadata": {},
   "source": [
    "# Testing con singole immagini"
   ]
  },
  {
   "cell_type": "code",
   "execution_count": 493,
   "metadata": {},
   "outputs": [],
   "source": [
    "# Definizione del dataset di testing\n",
    "\n",
    "test_dataset = MNIST(root = 'data/',\n",
    "                     train = False,\n",
    "                     transform = transforms.ToTensor())"
   ]
  },
  {
   "attachments": {},
   "cell_type": "markdown",
   "metadata": {},
   "source": [
    "Creiamo una funzione per predirre le immagini, questa ci restituisce la label della singola immagine passata"
   ]
  },
  {
   "attachments": {},
   "cell_type": "markdown",
   "metadata": {},
   "source": [
    "NB! il modello funziona con lotti di immagini mentre noi stiamo usando una singola immagine, quindi utilizziamo la funzione **.unsqueeze(0)** per aggiungere una dimensione per creare un lotto con una singola immagine: **[1, 28, 28]  --> [1, 1, 28, 28]**"
   ]
  },
  {
   "cell_type": "code",
   "execution_count": 494,
   "metadata": {},
   "outputs": [],
   "source": [
    "def predict_image(img, model):\n",
    "    xb = img.unsqueeze(0)                   # Crea un lotto con una singola immagine\n",
    "    yb = model(xb)\n",
    "    _, preds = torch.max(yb, dim = 1)\n",
    "    return preds[0].item()                  # .item() estra il numero dal tensore"
   ]
  },
  {
   "attachments": {},
   "cell_type": "markdown",
   "metadata": {},
   "source": [
    "Alcune prove:"
   ]
  },
  {
   "cell_type": "code",
   "execution_count": 495,
   "metadata": {},
   "outputs": [
    {
     "name": "stdout",
     "output_type": "stream",
     "text": [
      "Label:  7 , Predicted:  7\n"
     ]
    },
    {
     "data": {
      "image/png": "[encoded data removed]",
      "text/plain": [
       "<Figure size 640x480 with 1 Axes>"
      ]
     },
     "metadata": {},
     "output_type": "display_data"
    }
   ],
   "source": [
    "img, label = test_dataset[0]\n",
    "plt.imshow(img[0], cmap = 'gray')\n",
    "print('Label: ', label, ', Predicted: ', predict_image(img, model))"
   ]
  },
  {
   "cell_type": "code",
   "execution_count": 497,
   "metadata": {},
   "outputs": [
    {
     "name": "stdout",
     "output_type": "stream",
     "text": [
      "Label:  0 , Predicted:  0\n"
     ]
    },
    {
     "data": {
      "image/png": "[encoded data removed]",
      "text/plain": [
       "<Figure size 640x480 with 1 Axes>"
      ]
     },
     "metadata": {},
     "output_type": "display_data"
    }
   ],
   "source": [
    "img, label = test_dataset[10]\n",
    "plt.imshow(img[0], cmap = 'gray')\n",
    "print('Label: ', label, ', Predicted: ', predict_image(img, model))"
   ]
  },
  {
   "cell_type": "code",
   "execution_count": 498,
   "metadata": {},
   "outputs": [
    {
     "name": "stdout",
     "output_type": "stream",
     "text": [
      "Label:  9 , Predicted:  9\n"
     ]
    },
    {
     "data": {
      "image/png": "[encoded data removed]",
      "text/plain": [
       "<Figure size 640x480 with 1 Axes>"
      ]
     },
     "metadata": {},
     "output_type": "display_data"
    }
   ],
   "source": [
    "img, label = test_dataset[193]\n",
    "plt.imshow(img[0], cmap = 'gray')\n",
    "print('Label: ', label, ', Predicted: ', predict_image(img, model))"
   ]
  },
  {
   "cell_type": "code",
   "execution_count": 499,
   "metadata": {},
   "outputs": [
    {
     "name": "stdout",
     "output_type": "stream",
     "text": [
      "Label:  2 , Predicted:  8\n"
     ]
    },
    {
     "data": {
      "image/png": "[encoded data removed]",
      "text/plain": [
       "<Figure size 640x480 with 1 Axes>"
      ]
     },
     "metadata": {},
     "output_type": "display_data"
    }
   ],
   "source": [
    "img, label = test_dataset[1839]\n",
    "plt.imshow(img[0], cmap = 'gray')\n",
    "print('Label: ', label, ', Predicted: ', predict_image(img, model))"
   ]
  },
  {
   "attachments": {},
   "cell_type": "markdown",
   "metadata": {},
   "source": [
    "NB! Dovremmo avere che accuratezza e perdita del validation set se non dovesse esserlo abbiamo bisogno di un migliore validation set "
   ]
  },
  {
   "cell_type": "code",
   "execution_count": 502,
   "metadata": {},
   "outputs": [
    {
     "data": {
      "text/plain": [
       "{'val_loss': 0.6405655145645142, 'val_acc': 0.8623046875}"
      ]
     },
     "execution_count": 502,
     "metadata": {},
     "output_type": "execute_result"
    }
   ],
   "source": [
    "test_loader = DataLoader(test_dataset, batch_size = 256)\n",
    "result = evaluate(model, test_loader)\n",
    "result"
   ]
  },
  {
   "attachments": {},
   "cell_type": "markdown",
   "metadata": {},
   "source": [
    "# Salvataggio e caricamento del modello"
   ]
  },
  {
   "attachments": {},
   "cell_type": "markdown",
   "metadata": {},
   "source": [
    "Una volta raggiunto un buon risultato con il modello possiamo salvarlo per utilizzarlo successivamente senza dover rifare il training"
   ]
  },
  {
   "cell_type": "code",
   "execution_count": 503,
   "metadata": {},
   "outputs": [],
   "source": [
    "torch.save(model.state_dict(), 'mnist-logistic.pth')"
   ]
  },
  {
   "cell_type": "code",
   "execution_count": 506,
   "metadata": {},
   "outputs": [
    {
     "data": {
      "text/plain": [
       "OrderedDict([('linear.weight',\n",
       "              tensor([[-0.0081,  0.0169, -0.0055,  ..., -0.0099, -0.0084,  0.0035],\n",
       "                      [ 0.0074,  0.0259, -0.0140,  ...,  0.0045, -0.0319, -0.0125],\n",
       "                      [ 0.0335, -0.0002, -0.0345,  ...,  0.0091, -0.0271,  0.0213],\n",
       "                      ...,\n",
       "                      [-0.0119, -0.0143,  0.0043,  ...,  0.0119,  0.0235,  0.0100],\n",
       "                      [-0.0034,  0.0278, -0.0197,  ...,  0.0120,  0.0026, -0.0274],\n",
       "                      [-0.0198, -0.0174, -0.0194,  ...,  0.0329, -0.0222, -0.0263]])),\n",
       "             ('linear.bias',\n",
       "              tensor([-0.0455,  0.0618, -0.0352, -0.0551,  0.0166,  0.0531,  0.0052,  0.0633,\n",
       "                      -0.0884,  0.0096]))])"
      ]
     },
     "execution_count": 506,
     "metadata": {},
     "output_type": "execute_result"
    }
   ],
   "source": [
    "model.state_dict()"
   ]
  },
  {
   "attachments": {},
   "cell_type": "markdown",
   "metadata": {},
   "source": [
    "Per importare i pesi del modello si può instaziare la classe MnistModel usando il metodo .load_state_dict"
   ]
  },
  {
   "cell_type": "code",
   "execution_count": 507,
   "metadata": {},
   "outputs": [
    {
     "data": {
      "text/plain": [
       "OrderedDict([('linear.weight',\n",
       "              tensor([[-0.0081,  0.0169, -0.0055,  ..., -0.0099, -0.0084,  0.0035],\n",
       "                      [ 0.0074,  0.0259, -0.0140,  ...,  0.0045, -0.0319, -0.0125],\n",
       "                      [ 0.0335, -0.0002, -0.0345,  ...,  0.0091, -0.0271,  0.0213],\n",
       "                      ...,\n",
       "                      [-0.0119, -0.0143,  0.0043,  ...,  0.0119,  0.0235,  0.0100],\n",
       "                      [-0.0034,  0.0278, -0.0197,  ...,  0.0120,  0.0026, -0.0274],\n",
       "                      [-0.0198, -0.0174, -0.0194,  ...,  0.0329, -0.0222, -0.0263]])),\n",
       "             ('linear.bias',\n",
       "              tensor([-0.0455,  0.0618, -0.0352, -0.0551,  0.0166,  0.0531,  0.0052,  0.0633,\n",
       "                      -0.0884,  0.0096]))])"
      ]
     },
     "execution_count": 507,
     "metadata": {},
     "output_type": "execute_result"
    }
   ],
   "source": [
    "model2 = MnistModel()\n",
    "model2.load_state_dict(torch.load('mnist-logistic.pth'))\n",
    "model2.state_dict()"
   ]
  },
  {
   "attachments": {},
   "cell_type": "markdown",
   "metadata": {},
   "source": [
    "Per controllare che effettivamente siano stati salvati e importati i dati corretti possiamo fare una valutazione attraverso la funzione evaluate()"
   ]
  },
  {
   "cell_type": "code",
   "execution_count": 508,
   "metadata": {},
   "outputs": [
    {
     "data": {
      "text/plain": [
       "{'val_loss': 0.6405655145645142, 'val_acc': 0.8623046875}"
      ]
     },
     "execution_count": 508,
     "metadata": {},
     "output_type": "execute_result"
    }
   ],
   "source": [
    "test_loader = DataLoader(test_dataset, batch_size = 256)\n",
    "result = evaluate(model2, test_loader)\n",
    "result"
   ]
  }
 ],
 "metadata": {
  "kernelspec": {
   "display_name": "base",
   "language": "python",
   "name": "python3"
  },
  "language_info": {
   "codemirror_mode": {
    "name": "ipython",
    "version": 3
   },
   "file_extension": ".py",
   "mimetype": "text/x-python",
   "name": "python",
   "nbconvert_exporter": "python",
   "pygments_lexer": "ipython3",
   "version": "3.10.10"
  },
  "orig_nbformat": 4
 },
 "nbformat": 4,
 "nbformat_minor": 2
}
