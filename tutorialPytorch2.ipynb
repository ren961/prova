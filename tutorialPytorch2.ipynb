{
 "cells": [
  {
   "cell_type": "code",
   "execution_count": 1,
   "metadata": {},
   "outputs": [],
   "source": [
    "import torch\n",
    "import torchvision\n",
    "from torchvision.datasets import MNIST          # Importa il dataset di MNIST (quello dei numeri)"
   ]
  },
  {
   "attachments": {},
   "cell_type": "markdown",
   "metadata": {},
   "source": [
    "# Importare e settare dataset"
   ]
  },
  {
   "attachments": {},
   "cell_type": "markdown",
   "metadata": {},
   "source": [
    "Download e creazione di un dataset nella cartella data/ che si trova nella stessa cartella del notebook\n",
    "questo dataset è quello che si utilizzerà per il training"
   ]
  },
  {
   "cell_type": "code",
   "execution_count": 2,
   "metadata": {},
   "outputs": [],
   "source": [
    "dataset = MNIST(root = 'data/', download = True)"
   ]
  },
  {
   "attachments": {},
   "cell_type": "markdown",
   "metadata": {},
   "source": [
    "Creazione di un dataset di testing, bisogna specificare che non verrà usato per il training ponendo train = False"
   ]
  },
  {
   "cell_type": "code",
   "execution_count": 3,
   "metadata": {},
   "outputs": [],
   "source": [
    "test_dataset = MNIST(root = 'data/', train = False)"
   ]
  },
  {
   "cell_type": "code",
   "execution_count": 4,
   "metadata": {},
   "outputs": [
    {
     "data": {
      "text/plain": [
       "(<PIL.Image.Image image mode=L size=28x28>, 5)"
      ]
     },
     "execution_count": 4,
     "metadata": {},
     "output_type": "execute_result"
    }
   ],
   "source": [
    "dataset[0]"
   ]
  },
  {
   "cell_type": "code",
   "execution_count": 5,
   "metadata": {},
   "outputs": [],
   "source": [
    "import matplotlib.pyplot as plt\n",
    "%matplotlib inline\n",
    "\n",
    "# %matplotlib inline serve per non far vedere le immagini in una finestra pop up ma direttamente qui sul notebook"
   ]
  },
  {
   "cell_type": "code",
   "execution_count": 6,
   "metadata": {},
   "outputs": [
    {
     "name": "stdout",
     "output_type": "stream",
     "text": [
      "Label: 5\n"
     ]
    },
    {
     "data": {
      "image/png": "[encoded data removed]",
      "text/plain": [
       "<Figure size 640x480 with 1 Axes>"
      ]
     },
     "metadata": {},
     "output_type": "display_data"
    }
   ],
   "source": [
    "image, label = dataset[0]\n",
    "plt.imshow(image, cmap = 'gray')      #permette di stampare un dato come immagine, cmap specifica i colori utilizzati\n",
    "print('Label:', label)"
   ]
  },
  {
   "cell_type": "code",
   "execution_count": 7,
   "metadata": {},
   "outputs": [],
   "source": [
    "import torchvision.transforms as transforms"
   ]
  },
  {
   "attachments": {},
   "cell_type": "markdown",
   "metadata": {},
   "source": [
    "Importiamo il dataset e lo trasformiamo in un tensore"
   ]
  },
  {
   "cell_type": "code",
   "execution_count": 8,
   "metadata": {},
   "outputs": [],
   "source": [
    "dataset = MNIST(root = 'data/', \n",
    "                train = True,\n",
    "                transform = transforms.ToTensor()         # Trasforma l'immagine in un tensore shape: [colore, altezza, lunghezza]\n",
    "                )"
   ]
  },
  {
   "cell_type": "code",
   "execution_count": 9,
   "metadata": {},
   "outputs": [
    {
     "name": "stdout",
     "output_type": "stream",
     "text": [
      "torch.Size([1, 28, 28]) 5\n"
     ]
    }
   ],
   "source": [
    "img_tensor, label = dataset[0]\n",
    "print(img_tensor.shape, label)\n",
    "\n",
    "# Risultato: torch.Size(#colori, altezza, lunghezza)"
   ]
  },
  {
   "cell_type": "code",
   "execution_count": 10,
   "metadata": {},
   "outputs": [
    {
     "name": "stdout",
     "output_type": "stream",
     "text": [
      "tensor([[0.0039, 0.6039, 0.9922, 0.3529, 0.0000],\n",
      "        [0.0000, 0.5451, 0.9922, 0.7451, 0.0078],\n",
      "        [0.0000, 0.0431, 0.7451, 0.9922, 0.2745],\n",
      "        [0.0000, 0.0000, 0.1373, 0.9451, 0.8824],\n",
      "        [0.0000, 0.0000, 0.0000, 0.3176, 0.9412]])\n",
      "tensor(1.) tensor(0.)\n"
     ]
    }
   ],
   "source": [
    "print(img_tensor[0,10:15,10:15])        # prendo il primo layer (0) e i pixel da 10 a 15 in altezza e lunghezzza \n",
    "print(torch.max(img_tensor), torch.min(img_tensor))\n",
    "\n",
    "# I valori sono tra 0 e 1 con 0 che rappresenta il nero e 1 il bianco"
   ]
  },
  {
   "cell_type": "code",
   "execution_count": 11,
   "metadata": {},
   "outputs": [
    {
     "data": {
      "text/plain": [
       "<matplotlib.image.AxesImage at 0x7fa15aaf0dc0>"
      ]
     },
     "execution_count": 11,
     "metadata": {},
     "output_type": "execute_result"
    },
    {
     "data": {
      "image/png": "[encoded data removed]",
      "text/plain": [
       "<Figure size 640x480 with 1 Axes>"
      ]
     },
     "metadata": {},
     "output_type": "display_data"
    }
   ],
   "source": [
    "plt.imshow(img_tensor[0,10:15,10:15], cmap='gray')"
   ]
  },
  {
   "attachments": {},
   "cell_type": "markdown",
   "metadata": {},
   "source": [
    "# Training e validazione dataset"
   ]
  },
  {
   "attachments": {},
   "cell_type": "markdown",
   "metadata": {},
   "source": [
    "Il dataset solitamente viene diviso in 3 parti:\n",
    "\n",
    "1. Training set: \"allenamento\" del modello, calcolo della perdita e aggiustamento di pesi e bias\n",
    "1. Validation set: usato per valutare il modello durante il training, sceglie la migliore versione del modello\n",
    "1. Test set: usato per comparare diversi modelli e per capire l'accuratezza del modello"
   ]
  },
  {
   "cell_type": "code",
   "execution_count": 12,
   "metadata": {},
   "outputs": [],
   "source": [
    "from torch.utils.data import random_split\n",
    "\n",
    "# funzione che permette di dividere un set in maniera random"
   ]
  },
  {
   "cell_type": "code",
   "execution_count": 13,
   "metadata": {},
   "outputs": [
    {
     "data": {
      "text/plain": [
       "(50000, 10000)"
      ]
     },
     "execution_count": 13,
     "metadata": {},
     "output_type": "execute_result"
    }
   ],
   "source": [
    "train_ds, val_ds = random_split(dataset, [50000, 10000])        # divide il set e ne assegna 50000 a train_ds e 10000 a val_ds\n",
    "len(train_ds), len(val_ds)"
   ]
  },
  {
   "cell_type": "code",
   "execution_count": 14,
   "metadata": {},
   "outputs": [],
   "source": [
    "from torch.utils.data import DataLoader\n",
    "\n",
    "# DataLoader permette la creazione di diversi lotti"
   ]
  },
  {
   "cell_type": "code",
   "execution_count": 15,
   "metadata": {},
   "outputs": [],
   "source": [
    "batch_size = 128\n",
    "\n",
    "train_loader = DataLoader(train_ds, batch_size, shuffle = True)       # shuffle = True per prendere i dati in maniera casuale\n",
    "val_loader = DataLoader(val_ds, batch_size)                     # val: validation\n",
    "\n",
    "# creazione set di training (in lotti di 128) "
   ]
  },
  {
   "attachments": {},
   "cell_type": "markdown",
   "metadata": {},
   "source": [
    "# Modello"
   ]
  },
  {
   "attachments": {},
   "cell_type": "markdown",
   "metadata": {},
   "source": [
    "Usiamo un modello di regressione lineare (come nella lezione 1): pred = x @ w.t() + b"
   ]
  },
  {
   "attachments": {},
   "cell_type": "markdown",
   "metadata": {},
   "source": [
    "nn.Linear si aspetta di riceve in input un vettore, quindi si dovrà appiattire il tensore a un vettore di dimensione 1 * 28 * 28 = 784"
   ]
  },
  {
   "cell_type": "code",
   "execution_count": 16,
   "metadata": {},
   "outputs": [],
   "source": [
    "import torch.nn as nn"
   ]
  },
  {
   "cell_type": "code",
   "execution_count": 17,
   "metadata": {},
   "outputs": [],
   "source": [
    "input_size = 28*28\n",
    "num_classes = 10"
   ]
  },
  {
   "attachments": {},
   "cell_type": "markdown",
   "metadata": {},
   "source": [
    "Tramite la libreria torch.nn creiamo un modello di regressione lineare dati un numero di input e un numero di obiettivi (output)"
   ]
  },
  {
   "cell_type": "code",
   "execution_count": 18,
   "metadata": {},
   "outputs": [],
   "source": [
    "model = nn.Linear(input_size, num_classes)\n",
    "\n",
    "# Modello regressione lineare"
   ]
  },
  {
   "cell_type": "code",
   "execution_count": 19,
   "metadata": {},
   "outputs": [
    {
     "name": "stdout",
     "output_type": "stream",
     "text": [
      "torch.Size([10, 784])\n"
     ]
    },
    {
     "data": {
      "text/plain": [
       "Parameter containing:\n",
       "tensor([[-0.0045,  0.0109,  0.0295,  ..., -0.0346,  0.0147,  0.0308],\n",
       "        [-0.0321,  0.0354, -0.0310,  ...,  0.0202, -0.0155,  0.0206],\n",
       "        [ 0.0260,  0.0268,  0.0100,  ..., -0.0226, -0.0110, -0.0005],\n",
       "        ...,\n",
       "        [ 0.0119, -0.0235,  0.0050,  ..., -0.0286,  0.0273,  0.0041],\n",
       "        [-0.0331, -0.0338,  0.0053,  ..., -0.0037,  0.0059,  0.0294],\n",
       "        [-0.0280,  0.0195,  0.0236,  ...,  0.0059, -0.0142, -0.0240]],\n",
       "       requires_grad=True)"
      ]
     },
     "execution_count": 19,
     "metadata": {},
     "output_type": "execute_result"
    }
   ],
   "source": [
    "print(model.weight.shape)\n",
    "model.weight"
   ]
  },
  {
   "cell_type": "code",
   "execution_count": 20,
   "metadata": {},
   "outputs": [
    {
     "name": "stdout",
     "output_type": "stream",
     "text": [
      "torch.Size([10])\n"
     ]
    },
    {
     "data": {
      "text/plain": [
       "Parameter containing:\n",
       "tensor([ 0.0352,  0.0072, -0.0041,  0.0077, -0.0236, -0.0312, -0.0183,  0.0174,\n",
       "        -0.0290,  0.0284], requires_grad=True)"
      ]
     },
     "execution_count": 20,
     "metadata": {},
     "output_type": "execute_result"
    }
   ],
   "source": [
    "print(model.bias.shape)\n",
    "model.bias"
   ]
  },
  {
   "attachments": {},
   "cell_type": "markdown",
   "metadata": {},
   "source": [
    "***"
   ]
  },
  {
   "attachments": {},
   "cell_type": "markdown",
   "metadata": {},
   "source": [
    "Non si può utilizzare questa forma perché le shape non combaciano"
   ]
  },
  {
   "cell_type": "code",
   "execution_count": 21,
   "metadata": {},
   "outputs": [],
   "source": [
    "# for images, labels in train_loader:\n",
    "#    print(labels)\n",
    "#    print(images)\n",
    "#    outputs = model(images)\n",
    "#    print(outputs)\n",
    "#    break\n",
    "\n",
    "# se si passano le image al modello si ottiene un errore perché si aspetta un vettore di dimensione 28*28, non un vettore multidimensionale.\n",
    "# Quindi bisogna rendelrlo un vettore"
   ]
  },
  {
   "cell_type": "code",
   "execution_count": 22,
   "metadata": {},
   "outputs": [],
   "source": [
    "# images.shape"
   ]
  },
  {
   "cell_type": "code",
   "execution_count": 23,
   "metadata": {},
   "outputs": [],
   "source": [
    "# images.reshape(128, 784).shape\n",
    "\n",
    "# modifica la shape per ottenere un tensore [128, 724]"
   ]
  },
  {
   "attachments": {},
   "cell_type": "markdown",
   "metadata": {},
   "source": [
    "***"
   ]
  },
  {
   "attachments": {},
   "cell_type": "markdown",
   "metadata": {},
   "source": [
    "**CREAZIONE DI UNA CLASSE**"
   ]
  },
  {
   "attachments": {},
   "cell_type": "markdown",
   "metadata": {},
   "source": [
    "Esempio di una classe:"
   ]
  },
  {
   "cell_type": "code",
   "execution_count": 24,
   "metadata": {},
   "outputs": [],
   "source": [
    "#class person:\n",
    "    # costrutto della classe\n",
    "#    def __init__(self, name, age):\n",
    "#        self.name = name\n",
    "#        self.age = age\n",
    "    \n",
    "    # NB! il primo attributo di ogni classe è sempre self che si riferisce a se stesso\n",
    "\n",
    "    # definizione di metodi della classe\n",
    "#    def say_hello(self):\n",
    "#        print(\"Hello my name is: \" + self.name + '!')"
   ]
  },
  {
   "cell_type": "code",
   "execution_count": 25,
   "metadata": {},
   "outputs": [],
   "source": [
    "class MnistModel(nn.Module):            # nn.Module classe base di ogni rete neurale\n",
    "\n",
    "    # All'interno di __init__ instaziamo pesi e bias attraverso nn.Linear\n",
    "\n",
    "    def __init__(self):\n",
    "        super().__init__()              # superlcasse, classe che include classi al suo interno (nn.Module)\n",
    "        self.linear = nn.Linear(input_size, num_classes)        #crea un attributo linear in cui definisce un modello lineare con la libreria nn di pytorch \n",
    "\n",
    "    # Nel metodo forward(self, xb) quando passiamo un lotto di di input questo viene appiattito e passato a self.linear\n",
    "    # xb: dimensione di un lotto\n",
    "\n",
    "    def forward(self, xb):              #funzione che \"scorre\" i lotti\n",
    "        xb = xb.reshape(-1, 784)           # xb = numero di lotto\n",
    "        out = self.linear(xb)\n",
    "        return out\n",
    "\n",
    "# -1 dentro al reshape viene usata per non dare una misura a una delle dimensioni così si sistemerà in base all'altra dimensione        "
   ]
  },
  {
   "cell_type": "code",
   "execution_count": 26,
   "metadata": {},
   "outputs": [],
   "source": [
    "model = MnistModel()        #creazione effettiva del modello attraverso la classe"
   ]
  },
  {
   "cell_type": "code",
   "execution_count": 27,
   "metadata": {},
   "outputs": [
    {
     "data": {
      "text/plain": [
       "Linear(in_features=784, out_features=10, bias=True)"
      ]
     },
     "execution_count": 27,
     "metadata": {},
     "output_type": "execute_result"
    }
   ],
   "source": [
    "model.linear"
   ]
  },
  {
   "cell_type": "code",
   "execution_count": 28,
   "metadata": {},
   "outputs": [
    {
     "name": "stdout",
     "output_type": "stream",
     "text": [
      "torch.Size([10, 784]) torch.Size([10])\n"
     ]
    }
   ],
   "source": [
    "print(model.linear.weight.shape, model.linear.bias.shape)"
   ]
  },
  {
   "attachments": {},
   "cell_type": "markdown",
   "metadata": {},
   "source": [
    "**NB!** model non ha più gli attributi weight e bias che si trovano all'interno dell'attributo .linear"
   ]
  },
  {
   "attachments": {},
   "cell_type": "markdown",
   "metadata": {},
   "source": [
    "In compenso possiede un metodo .parameters() che restituisce una lista che contiene pesi e bias"
   ]
  },
  {
   "cell_type": "code",
   "execution_count": 29,
   "metadata": {},
   "outputs": [
    {
     "data": {
      "text/plain": [
       "[Parameter containing:\n",
       " tensor([[ 0.0226,  0.0106,  0.0185,  ...,  0.0227,  0.0284,  0.0233],\n",
       "         [ 0.0281,  0.0005,  0.0184,  ..., -0.0024, -0.0063, -0.0176],\n",
       "         [-0.0309,  0.0017, -0.0183,  ..., -0.0178,  0.0008,  0.0159],\n",
       "         ...,\n",
       "         [-0.0207, -0.0046, -0.0287,  ..., -0.0084, -0.0058,  0.0043],\n",
       "         [-0.0209,  0.0071, -0.0155,  ...,  0.0187,  0.0291, -0.0035],\n",
       "         [ 0.0028,  0.0023, -0.0141,  ...,  0.0346, -0.0195, -0.0295]],\n",
       "        requires_grad=True),\n",
       " Parameter containing:\n",
       " tensor([ 0.0191, -0.0061,  0.0132,  0.0084, -0.0148,  0.0300,  0.0131, -0.0106,\n",
       "         -0.0351, -0.0184], requires_grad=True)]"
      ]
     },
     "execution_count": 29,
     "metadata": {},
     "output_type": "execute_result"
    }
   ],
   "source": [
    "list(model.parameters())"
   ]
  },
  {
   "cell_type": "code",
   "execution_count": 30,
   "metadata": {},
   "outputs": [
    {
     "name": "stdout",
     "output_type": "stream",
     "text": [
      "image shape: torch.Size([128, 1, 28, 28])\n",
      "outputs.shape :  torch.Size([128, 10])\n",
      "Sample outputs :\n",
      " tensor([[-0.1279,  0.1714,  0.2155,  0.1370,  0.0175,  0.0981, -0.2512, -0.1206,\n",
      "         -0.1311, -0.0988],\n",
      "        [-0.1724,  0.2358,  0.0367, -0.0986,  0.0650,  0.0328, -0.1653, -0.2858,\n",
      "         -0.2026, -0.2020],\n",
      "        [-0.3410, -0.0377,  0.1265,  0.0957, -0.0779,  0.1579, -0.2820, -0.1718,\n",
      "          0.1114, -0.2575],\n",
      "        [-0.3967,  0.1944,  0.2833, -0.0820, -0.0538,  0.0369, -0.5050, -0.0554,\n",
      "          0.1134, -0.3421],\n",
      "        [-0.0811,  0.2548,  0.0578, -0.1078,  0.0166, -0.1649, -0.3331, -0.4029,\n",
      "         -0.0510, -0.5495],\n",
      "        [-0.4202,  0.0632,  0.2333,  0.1820, -0.0555, -0.1070, -0.3868, -0.0291,\n",
      "         -0.0897, -0.1339],\n",
      "        [ 0.0068,  0.0776,  0.1094, -0.0378,  0.2193,  0.1667, -0.0942, -0.0737,\n",
      "         -0.0636, -0.0636],\n",
      "        [ 0.0278,  0.2168, -0.1446,  0.0220,  0.1127, -0.0766, -0.1932, -0.2860,\n",
      "         -0.0050, -0.2092],\n",
      "        [-0.0772,  0.0729, -0.0408,  0.0108, -0.1162,  0.0512,  0.1462, -0.1763,\n",
      "         -0.1351, -0.0468],\n",
      "        [-0.4188,  0.2205,  0.2257,  0.0268, -0.0028, -0.1063, -0.2340, -0.2303,\n",
      "         -0.0059, -0.4149]])\n"
     ]
    }
   ],
   "source": [
    "for images, labels in train_loader:\n",
    "    print('image shape:', images.shape)\n",
    "    outputs = model(images)\n",
    "    break\n",
    "\n",
    "print('outputs.shape : ', outputs.shape)\n",
    "print('Sample outputs :\\n', outputs[:10].data)"
   ]
  },
  {
   "attachments": {},
   "cell_type": "markdown",
   "metadata": {},
   "source": [
    "NB! Gli output devono rappresentare delle probabilità (positiva) e la loro somma risultare 1 (100% di possibilità). Per poter ottenere questo risultato possiamo applicare la funzione softmax presente nella libreria torch.nn.Functional"
   ]
  },
  {
   "cell_type": "code",
   "execution_count": 31,
   "metadata": {},
   "outputs": [],
   "source": [
    "import torch.nn.functional as F"
   ]
  },
  {
   "cell_type": "code",
   "execution_count": 32,
   "metadata": {},
   "outputs": [
    {
     "name": "stdout",
     "output_type": "stream",
     "text": [
      "Sample probabilities:\n",
      " tensor([[0.0878, 0.1184, 0.1238, 0.1144, 0.1015, 0.1101, 0.0776, 0.0884, 0.0875,\n",
      "         0.0904],\n",
      "        [0.0897, 0.1349, 0.1105, 0.0966, 0.1137, 0.1101, 0.0903, 0.0801, 0.0870,\n",
      "         0.0871]])\n",
      "Sum:  0.9999998807907104\n"
     ]
    }
   ],
   "source": [
    "# Apply softmax for each output row\n",
    "probs = F.softmax(outputs, dim = 1)      # F.softmax(risultato regressione lineare, dim = 1: cerca il valore massimo su una riga) \n",
    "\n",
    "print(\"Sample probabilities:\\n\", probs[:2].data)        # stampa le probabilità dei primi 2\n",
    "\n",
    "print(\"Sum: \", torch.sum(probs[0]).item())      # controllo della probabilità totale della prima immagine"
   ]
  },
  {
   "attachments": {},
   "cell_type": "markdown",
   "metadata": {},
   "source": [
    "Una volta stabilite le proprietà si può assumere che il collegamento con il peso maggiore sia quello che predice il nostro modello, quindi bisogna cercare il valore più grande all'interno delle 10 probabilità dell'immagine per capire quale valore ha predetto il modello"
   ]
  },
  {
   "attachments": {},
   "cell_type": "markdown",
   "metadata": {},
   "source": [
    "*Esempio: [0.0738, 0.0691, 0.1152, 0.0685, 0.0973, 0.0998, 0.0880,* **0.1613**, *0.0999, 0.1272] il valore maggiore è 0.1613, quindi il modello ha predetto che il valore all'interno dell'immagine è il numero 7 ([0, 1, 2, 3, 4, 5, 6,* **7**, *8, 9])*"
   ]
  },
  {
   "cell_type": "code",
   "execution_count": 33,
   "metadata": {},
   "outputs": [
    {
     "name": "stdout",
     "output_type": "stream",
     "text": [
      "tensor([2, 1, 5, 2, 1, 2, 4, 1, 6, 2, 4, 6, 1, 2, 2, 2, 4, 6, 3, 4, 2, 2, 1, 1,\n",
      "        1, 1, 5, 2, 1, 8, 1, 2, 1, 1, 2, 2, 1, 1, 4, 8, 6, 2, 2, 1, 2, 1, 2, 6,\n",
      "        2, 4, 2, 4, 4, 2, 4, 5, 5, 2, 2, 2, 2, 4, 4, 2, 3, 6, 1, 1, 3, 2, 1, 1,\n",
      "        1, 1, 5, 2, 2, 1, 2, 5, 1, 1, 1, 4, 2, 4, 4, 1, 6, 4, 1, 4, 4, 1, 1, 0,\n",
      "        1, 6, 1, 2, 2, 5, 1, 1, 1, 2, 4, 5, 4, 4, 2, 1, 2, 8, 3, 1, 4, 1, 2, 2,\n",
      "        2, 1, 1, 2, 1, 2, 2, 2])\n",
      "tensor([0.1238, 0.1349, 0.1234, 0.1397, 0.1442, 0.1334, 0.1208, 0.1296, 0.1188,\n",
      "        0.1344, 0.1177, 0.1282, 0.1301, 0.1263, 0.1448, 0.1348, 0.1211, 0.1289,\n",
      "        0.1215, 0.1255, 0.1283, 0.1500, 0.1303, 0.1333, 0.1598, 0.1273, 0.1241,\n",
      "        0.1263, 0.1301, 0.1215, 0.1581, 0.1246, 0.1482, 0.1199, 0.1295, 0.1309,\n",
      "        0.1254, 0.1187, 0.1233, 0.1170, 0.1194, 0.1379, 0.1551, 0.1200, 0.1420,\n",
      "        0.1276, 0.1164, 0.1340, 0.1422, 0.1174, 0.1515, 0.1446, 0.1375, 0.1174,\n",
      "        0.1247, 0.1109, 0.1250, 0.1637, 0.1191, 0.1641, 0.1583, 0.1377, 0.1387,\n",
      "        0.1272, 0.1211, 0.1262, 0.1515, 0.1429, 0.1277, 0.1137, 0.1317, 0.1292,\n",
      "        0.1334, 0.1586, 0.1222, 0.1260, 0.1518, 0.1287, 0.1332, 0.1298, 0.1288,\n",
      "        0.1250, 0.1404, 0.1404, 0.1326, 0.1613, 0.1233, 0.1380, 0.1237, 0.1526,\n",
      "        0.1567, 0.1417, 0.1361, 0.1174, 0.1485, 0.1151, 0.1300, 0.1336, 0.1352,\n",
      "        0.1453, 0.1284, 0.1335, 0.1277, 0.1326, 0.1411, 0.1339, 0.1184, 0.1267,\n",
      "        0.1219, 0.1247, 0.1394, 0.1222, 0.1566, 0.1105, 0.1175, 0.1327, 0.1352,\n",
      "        0.1341, 0.1392, 0.1386, 0.1196, 0.1194, 0.1391, 0.1278, 0.1470, 0.1448,\n",
      "        0.1303, 0.1449], grad_fn=<MaxBackward0>)\n"
     ]
    }
   ],
   "source": [
    "max_probs, preds = torch.max(probs, dim = 1)\n",
    "print(preds)\n",
    "print(max_probs)"
   ]
  },
  {
   "attachments": {},
   "cell_type": "markdown",
   "metadata": {},
   "source": [
    "Andiamo a controllarli con i risultati effettivi:"
   ]
  },
  {
   "cell_type": "code",
   "execution_count": 34,
   "metadata": {},
   "outputs": [
    {
     "data": {
      "text/plain": [
       "tensor([9, 7, 6, 6, 0, 0, 4, 1, 7, 4, 8, 0, 1, 3, 4, 9, 3, 0, 0, 0, 5, 9, 1, 7,\n",
       "        5, 2, 7, 0, 3, 3, 8, 4, 6, 4, 9, 4, 8, 7, 9, 0, 0, 6, 4, 1, 9, 8, 7, 0,\n",
       "        8, 2, 5, 8, 8, 3, 3, 1, 7, 4, 2, 6, 6, 3, 9, 2, 0, 0, 4, 9, 0, 4, 1, 5,\n",
       "        1, 8, 0, 6, 2, 1, 9, 9, 1, 1, 1, 3, 3, 3, 9, 8, 0, 4, 2, 4, 7, 3, 3, 6,\n",
       "        1, 0, 5, 3, 0, 7, 2, 6, 8, 6, 9, 0, 2, 9, 6, 7, 9, 0, 7, 8, 5, 1, 2, 3,\n",
       "        3, 0, 2, 0, 5, 9, 9, 3])"
      ]
     },
     "execution_count": 34,
     "metadata": {},
     "output_type": "execute_result"
    }
   ],
   "source": [
    "labels"
   ]
  },
  {
   "attachments": {},
   "cell_type": "markdown",
   "metadata": {},
   "source": [
    "# Valutazione misurazione e funzione di perdita"
   ]
  },
  {
   "attachments": {},
   "cell_type": "markdown",
   "metadata": {},
   "source": [
    "Valutiamo l'accuratezza della prevision attraverso una funzione di accuratezza"
   ]
  },
  {
   "cell_type": "code",
   "execution_count": 35,
   "metadata": {},
   "outputs": [
    {
     "name": "stdout",
     "output_type": "stream",
     "text": [
      "tensor([2, 1, 5, 2, 1, 2, 4, 1, 6, 2, 4, 6, 1, 2, 2, 2, 4, 6, 3, 4, 2, 2, 1, 1,\n",
      "        1, 1, 5, 2, 1, 8, 1, 2, 1, 1, 2, 2, 1, 1, 4, 8, 6, 2, 2, 1, 2, 1, 2, 6,\n",
      "        2, 4, 2, 4, 4, 2, 4, 5, 5, 2, 2, 2, 2, 4, 4, 2, 3, 6, 1, 1, 3, 2, 1, 1,\n",
      "        1, 1, 5, 2, 2, 1, 2, 5, 1, 1, 1, 4, 2, 4, 4, 1, 6, 4, 1, 4, 4, 1, 1, 0,\n",
      "        1, 6, 1, 2, 2, 5, 1, 1, 1, 2, 4, 5, 4, 4, 2, 1, 2, 8, 3, 1, 4, 1, 2, 2,\n",
      "        2, 1, 1, 2, 1, 2, 2, 2])\n",
      "tensor([9, 7, 6, 6, 0, 0, 4, 1, 7, 4, 8, 0, 1, 3, 4, 9, 3, 0, 0, 0, 5, 9, 1, 7,\n",
      "        5, 2, 7, 0, 3, 3, 8, 4, 6, 4, 9, 4, 8, 7, 9, 0, 0, 6, 4, 1, 9, 8, 7, 0,\n",
      "        8, 2, 5, 8, 8, 3, 3, 1, 7, 4, 2, 6, 6, 3, 9, 2, 0, 0, 4, 9, 0, 4, 1, 5,\n",
      "        1, 8, 0, 6, 2, 1, 9, 9, 1, 1, 1, 3, 3, 3, 9, 8, 0, 4, 2, 4, 7, 3, 3, 6,\n",
      "        1, 0, 5, 3, 0, 7, 2, 6, 8, 6, 9, 0, 2, 9, 6, 7, 9, 0, 7, 8, 5, 1, 2, 3,\n",
      "        3, 0, 2, 0, 5, 9, 9, 3])\n",
      "tensor([False, False, False, False, False, False,  True,  True, False, False,\n",
      "        False, False,  True, False, False, False, False, False, False, False,\n",
      "        False, False,  True, False, False, False, False, False, False, False,\n",
      "        False, False, False, False, False, False, False, False, False, False,\n",
      "        False, False, False,  True, False, False, False, False, False, False,\n",
      "        False, False, False, False, False, False, False, False,  True, False,\n",
      "        False, False, False,  True, False, False, False, False, False, False,\n",
      "         True, False,  True, False, False, False,  True,  True, False, False,\n",
      "         True,  True,  True, False, False, False, False, False, False,  True,\n",
      "        False,  True, False, False, False, False,  True, False, False, False,\n",
      "        False, False, False, False, False, False, False, False, False, False,\n",
      "        False, False, False, False, False, False, False,  True,  True, False,\n",
      "        False, False, False, False, False, False, False, False])\n"
     ]
    }
   ],
   "source": [
    "print(preds)\n",
    "print(labels)\n",
    "print(preds == labels)"
   ]
  },
  {
   "cell_type": "code",
   "execution_count": 36,
   "metadata": {},
   "outputs": [],
   "source": [
    "def accuracy(outputs, labels):\n",
    "    _, preds = torch.max(outputs, dim = 1)      # outputs: risultati della regressione lineare senza applicare il softmax\n",
    "    # _ (undescore da solo come variabile) restituisce l'ultimo risultato ottenuto dall'ultima espressione eseguita da Python\n",
    "\n",
    "    return torch.tensor(torch.sum(preds == labels).item() / len(preds))\n",
    "\n",
    "# torch.sum(preds == labels) è un counter, conta ogni volta che si trova un'iterazione vera in cui la\n",
    "# previsione corrisponde alla sua label"
   ]
  },
  {
   "cell_type": "code",
   "execution_count": 37,
   "metadata": {},
   "outputs": [
    {
     "data": {
      "text/plain": [
       "tensor(0.1484)"
      ]
     },
     "execution_count": 37,
     "metadata": {},
     "output_type": "execute_result"
    }
   ],
   "source": [
    "accuracy(outputs, labels)"
   ]
  },
  {
   "attachments": {},
   "cell_type": "markdown",
   "metadata": {},
   "source": [
    "**NB!** La funzione di accuratezza serve a noi per capire l'efficienza del modello ma non possiamo usarla come funzione di perdita per migliorare il modello poiché:\n",
    "1. Non è una funzione differenziabile\n",
    "1. Non tiene conto delle effettive probabilità"
   ]
  },
  {
   "attachments": {},
   "cell_type": "markdown",
   "metadata": {},
   "source": [
    "Una funzione di perdita molto utilizzata è la **cross-entropy** "
   ]
  },
  {
   "attachments": {},
   "cell_type": "markdown",
   "metadata": {},
   "source": [
    "* Per ogni fila di output viene selezionata la probabilità predetta per la label corretta (es: [0.1, 0.3, 0.2, ...] e la label corretta è il 1 quindi la sua probabilità è di 0.3)\n",
    "* Quindi si esegue il logaritmo della probabilità selezionata (se la probabilità è alta allora il logaritmo sarà un numero negativo molto piccolo e vicino allo 0 mentre se la probabilità è bassa allora si avrà un numero negativo molto grande)\n",
    "* Successivamente moltiplicando per -1 si ottiene la perdita di ogni riga\n",
    "* Infine si fa la media della cross-entropy su tutte le righe di output per trovare la perdità complessivo del lotto"
   ]
  },
  {
   "cell_type": "code",
   "execution_count": 38,
   "metadata": {},
   "outputs": [],
   "source": [
    "loss_fn = F.cross_entropy"
   ]
  },
  {
   "cell_type": "code",
   "execution_count": 39,
   "metadata": {},
   "outputs": [
    {
     "name": "stdout",
     "output_type": "stream",
     "text": [
      "tensor(2.3225, grad_fn=<NllLossBackward0>)\n"
     ]
    }
   ],
   "source": [
    "loss = loss_fn(outputs, labels)\n",
    "print(loss)"
   ]
  },
  {
   "attachments": {},
   "cell_type": "markdown",
   "metadata": {},
   "source": [
    "# Training del modello"
   ]
  },
  {
   "attachments": {},
   "cell_type": "markdown",
   "metadata": {},
   "source": [
    "Nella fase lineare bisogna aggiungere una **fase di validazione** per valutare il modello in ogni epoca"
   ]
  },
  {
   "cell_type": "code",
   "execution_count": 40,
   "metadata": {},
   "outputs": [],
   "source": [
    "def fit(epochs, lr, model, train_loader, val_loader, opt_func=torch.optim.SGD):     # lr: learning rate?\n",
    "    optimizer = opt_func(model.parameters(), lr)        # model.parameters() mette pesi e bias all'interno di una list\n",
    "    history = []            # per salvare il risultato di ogni epoch\n",
    "    \n",
    "    # ripetizione per il numero di epochs dato\n",
    "    for epoch in range(epochs):\n",
    "        \n",
    "        # Fase di training (in lotti)\n",
    "        for batch in train_loader:\n",
    "\n",
    "            # 1. calcolo perdita\n",
    "            loss = model.training_step(batch)\n",
    "\n",
    "            # 2. calcolo derivat\n",
    "            loss.backward()\n",
    "\n",
    "            # 3. Aggiornamento parametri usando le derivate\n",
    "            optimizer.step()\n",
    "\n",
    "            #4. Reset della derivata a 0\n",
    "            optimizer.zero_grad()\n",
    "        \n",
    "        #  Fase di validazione\n",
    "        result = evaluate(model, val_loader)            # val_loader: dataLoader di validazione\n",
    "        model.epoch_end(epoch, result)\n",
    "        history.append(result)\n",
    "\n",
    "    return history\n",
    "\n",
    "# NB! questa parte del codice può essere riutilizzata per ogni problema di deep learning "
   ]
  },
  {
   "cell_type": "code",
   "execution_count": 41,
   "metadata": {},
   "outputs": [],
   "source": [
    "def evaluate(model, val_loader):\n",
    "    outputs = [model.validation_step(batch) for batch in val_loader]        # esegue l'operazione per il numero di batch nel val_loader\n",
    "    return model.validation_epoch_end(outputs)"
   ]
  },
  {
   "cell_type": "code",
   "execution_count": 42,
   "metadata": {},
   "outputs": [],
   "source": [
    "class MnistModel(nn.Module):\n",
    "    def __init__(self):\n",
    "        super().__init__()\n",
    "        self.linear = nn.Linear(input_size, num_classes)\n",
    "\n",
    "    # Trasforma il batch in un array monodimensionale ed esegue la regressione lineare su questo\n",
    "    def forward(self, xb):\n",
    "        xb = xb.reshape(-1, 784)\n",
    "        out = self.linear(xb)\n",
    "        return out\n",
    "    \n",
    "    # Riceve in input un lotto di dati e restituisce la perdita\n",
    "    def training_step(self, batch):\n",
    "        images, labels = batch                      # Estrazione di immagini ed etichette dal lotto\n",
    "        out = self(images)                          # Generazione previsioni\n",
    "        loss = F.cross_entropy(out, labels)         # Calcolo perdita\n",
    "        return loss\n",
    "    \n",
    "    # Dato un lotto calcola la perdita e l'accuratezza\n",
    "\n",
    "    def validation_step(self, batch):\n",
    "        images, labels = batch \n",
    "        out = self(images)                              # Generazione previsioni\n",
    "        loss = F.cross_entropy(out, labels)             # Calculo perdita\n",
    "        acc = accuracy(out, labels)                     # Calculo accuratezza\n",
    "        return {'val_loss': loss, 'val_acc': acc}\n",
    "\n",
    "    # Restituisce la media delle perdite e delle accuratezze di tutto il lotto\n",
    "\n",
    "    def validation_epoch_end(self, outputs):\n",
    "        batch_losses = [x['val_loss'] for x in outputs]\n",
    "        epoch_loss = torch.stack(batch_losses).mean()           # Unione delle perdite\n",
    "        batch_accs = [x['val_acc'] for x in outputs]\n",
    "        epoch_acc = torch.stack(batch_accs).mean()              # Unione accuratezze\n",
    "        return {'val_loss': epoch_loss.item(), 'val_acc': epoch_acc.item()}\n",
    "    \n",
    "    # Stampa i risultati ottenuti da validation_epoch_end\n",
    "\n",
    "    def epoch_end(self, epoch, result):\n",
    "        print(\"Epoch [{}], val_loss: {:.4f}, val_acc: {:.4f}\".format(epoch, result['val_loss'], result['val_acc']))\n",
    "    \n",
    "model = MnistModel()"
   ]
  },
  {
   "cell_type": "code",
   "execution_count": 43,
   "metadata": {},
   "outputs": [
    {
     "data": {
      "text/plain": [
       "{'val_loss': 2.3074791431427, 'val_acc': 0.1191653460264206}"
      ]
     },
     "execution_count": 43,
     "metadata": {},
     "output_type": "execute_result"
    }
   ],
   "source": [
    "result0 = evaluate(model, val_loader)\n",
    "result0"
   ]
  },
  {
   "cell_type": "code",
   "execution_count": 44,
   "metadata": {},
   "outputs": [
    {
     "name": "stdout",
     "output_type": "stream",
     "text": [
      "Epoch [0], val_loss: 1.9381, val_acc: 0.6397\n",
      "Epoch [1], val_loss: 1.6691, val_acc: 0.7374\n",
      "Epoch [2], val_loss: 1.4685, val_acc: 0.7706\n",
      "Epoch [3], val_loss: 1.3172, val_acc: 0.7868\n",
      "Epoch [4], val_loss: 1.2011, val_acc: 0.8004\n"
     ]
    }
   ],
   "source": [
    "history1 = fit(5, 0.001, model, train_loader, val_loader)\n",
    "\n",
    "# Cos'è learning rate e come sceglierlo?"
   ]
  },
  {
   "cell_type": "code",
   "execution_count": 45,
   "metadata": {},
   "outputs": [
    {
     "name": "stdout",
     "output_type": "stream",
     "text": [
      "Epoch [0], val_loss: 1.1101, val_acc: 0.8073\n",
      "Epoch [1], val_loss: 1.0371, val_acc: 0.8160\n",
      "Epoch [2], val_loss: 0.9774, val_acc: 0.8225\n",
      "Epoch [3], val_loss: 0.9278, val_acc: 0.8278\n",
      "Epoch [4], val_loss: 0.8859, val_acc: 0.8312\n"
     ]
    }
   ],
   "source": [
    "history2 = fit(5, 0.001, model, train_loader, val_loader)"
   ]
  },
  {
   "cell_type": "code",
   "execution_count": 46,
   "metadata": {},
   "outputs": [
    {
     "name": "stdout",
     "output_type": "stream",
     "text": [
      "Epoch [0], val_loss: 0.8500, val_acc: 0.8343\n",
      "Epoch [1], val_loss: 0.8189, val_acc: 0.8379\n",
      "Epoch [2], val_loss: 0.7917, val_acc: 0.8412\n",
      "Epoch [3], val_loss: 0.7677, val_acc: 0.8433\n",
      "Epoch [4], val_loss: 0.7463, val_acc: 0.8450\n"
     ]
    }
   ],
   "source": [
    "history3 = fit(5, 0.001, model, train_loader, val_loader)"
   ]
  },
  {
   "cell_type": "code",
   "execution_count": 47,
   "metadata": {},
   "outputs": [
    {
     "name": "stdout",
     "output_type": "stream",
     "text": [
      "Epoch [0], val_loss: 0.7272, val_acc: 0.8469\n",
      "Epoch [1], val_loss: 0.7099, val_acc: 0.8484\n",
      "Epoch [2], val_loss: 0.6943, val_acc: 0.8498\n",
      "Epoch [3], val_loss: 0.6800, val_acc: 0.8524\n",
      "Epoch [4], val_loss: 0.6670, val_acc: 0.8536\n"
     ]
    }
   ],
   "source": [
    "history4 = fit(5, 0.001, model, train_loader, val_loader)"
   ]
  },
  {
   "cell_type": "code",
   "execution_count": 48,
   "metadata": {},
   "outputs": [
    {
     "data": {
      "text/plain": [
       "Text(0.5, 1.0, 'Accuracy vs # epochs')"
      ]
     },
     "execution_count": 48,
     "metadata": {},
     "output_type": "execute_result"
    },
    {
     "data": {
      "image/png": "[encoded data removed]",
      "text/plain": [
       "<Figure size 640x480 with 1 Axes>"
      ]
     },
     "metadata": {},
     "output_type": "display_data"
    }
   ],
   "source": [
    "history = [result0] + history1 + history2 + history3 + history4\n",
    "accuracies = [result['val_acc'] for result in history]          # cosa fa val_acc?\n",
    "plt.plot(accuracies, '-x')\n",
    "plt.xlabel('epoch')\n",
    "plt.ylabel('accuracy')\n",
    "plt.title('Accuracy vs # epochs')"
   ]
  },
  {
   "attachments": {},
   "cell_type": "markdown",
   "metadata": {},
   "source": [
    "# Testing con singole immagini"
   ]
  },
  {
   "cell_type": "code",
   "execution_count": 49,
   "metadata": {},
   "outputs": [],
   "source": [
    "# Definizione del dataset di testing\n",
    "\n",
    "test_dataset = MNIST(root = 'data/',\n",
    "                     train = False,\n",
    "                     transform = transforms.ToTensor())"
   ]
  },
  {
   "attachments": {},
   "cell_type": "markdown",
   "metadata": {},
   "source": [
    "Creiamo una funzione per predirre le immagini, questa ci restituisce la label della singola immagine passata"
   ]
  },
  {
   "attachments": {},
   "cell_type": "markdown",
   "metadata": {},
   "source": [
    "NB! il modello funziona con lotti di immagini mentre noi stiamo usando una singola immagine, quindi utilizziamo la funzione **.unsqueeze(0)** per aggiungere una dimensione per creare un lotto con una singola immagine: **[1, 28, 28]  --> [1, 1, 28, 28]**"
   ]
  },
  {
   "cell_type": "code",
   "execution_count": 50,
   "metadata": {},
   "outputs": [],
   "source": [
    "def predict_image(img, model):\n",
    "    xb = img.unsqueeze(0)                   # Crea un lotto con una singola immagine\n",
    "    yb = model(xb)\n",
    "    _, preds = torch.max(yb, dim = 1)\n",
    "    return preds[0].item()                  # .item() estra il numero dal tensore"
   ]
  },
  {
   "attachments": {},
   "cell_type": "markdown",
   "metadata": {},
   "source": [
    "Alcune prove:"
   ]
  },
  {
   "cell_type": "code",
   "execution_count": 51,
   "metadata": {},
   "outputs": [
    {
     "name": "stdout",
     "output_type": "stream",
     "text": [
      "Label:  7 , Predicted:  7\n"
     ]
    },
    {
     "data": {
      "image/png": "[encoded data removed]",
      "text/plain": [
       "<Figure size 640x480 with 1 Axes>"
      ]
     },
     "metadata": {},
     "output_type": "display_data"
    }
   ],
   "source": [
    "img, label = test_dataset[0]\n",
    "plt.imshow(img[0], cmap = 'gray')\n",
    "print('Label: ', label, ', Predicted: ', predict_image(img, model))"
   ]
  },
  {
   "cell_type": "code",
   "execution_count": 52,
   "metadata": {},
   "outputs": [
    {
     "name": "stdout",
     "output_type": "stream",
     "text": [
      "Label:  0 , Predicted:  0\n"
     ]
    },
    {
     "data": {
      "image/png": "[encoded data removed]",
      "text/plain": [
       "<Figure size 640x480 with 1 Axes>"
      ]
     },
     "metadata": {},
     "output_type": "display_data"
    }
   ],
   "source": [
    "img, label = test_dataset[10]\n",
    "plt.imshow(img[0], cmap = 'gray')\n",
    "print('Label: ', label, ', Predicted: ', predict_image(img, model))"
   ]
  },
  {
   "cell_type": "code",
   "execution_count": 53,
   "metadata": {},
   "outputs": [
    {
     "name": "stdout",
     "output_type": "stream",
     "text": [
      "Label:  9 , Predicted:  4\n"
     ]
    },
    {
     "data": {
      "image/png": "[encoded data removed]",
      "text/plain": [
       "<Figure size 640x480 with 1 Axes>"
      ]
     },
     "metadata": {},
     "output_type": "display_data"
    }
   ],
   "source": [
    "img, label = test_dataset[193]\n",
    "plt.imshow(img[0], cmap = 'gray')\n",
    "print('Label: ', label, ', Predicted: ', predict_image(img, model))"
   ]
  },
  {
   "cell_type": "code",
   "execution_count": 54,
   "metadata": {},
   "outputs": [
    {
     "name": "stdout",
     "output_type": "stream",
     "text": [
      "Label:  2 , Predicted:  8\n"
     ]
    },
    {
     "data": {
      "image/png": "[encoded data removed]",
      "text/plain": [
       "<Figure size 640x480 with 1 Axes>"
      ]
     },
     "metadata": {},
     "output_type": "display_data"
    }
   ],
   "source": [
    "img, label = test_dataset[1839]\n",
    "plt.imshow(img[0], cmap = 'gray')\n",
    "print('Label: ', label, ', Predicted: ', predict_image(img, model))"
   ]
  },
  {
   "attachments": {},
   "cell_type": "markdown",
   "metadata": {},
   "source": [
    "NB! Dovremmo avere che accuratezza e perdita del validation set se non dovesse esserlo abbiamo bisogno di un migliore validation set "
   ]
  },
  {
   "cell_type": "code",
   "execution_count": 55,
   "metadata": {},
   "outputs": [
    {
     "data": {
      "text/plain": [
       "{'val_loss': 0.6392480134963989, 'val_acc': 0.86181640625}"
      ]
     },
     "execution_count": 55,
     "metadata": {},
     "output_type": "execute_result"
    }
   ],
   "source": [
    "test_loader = DataLoader(test_dataset, batch_size = 256)\n",
    "result = evaluate(model, test_loader)\n",
    "result"
   ]
  },
  {
   "attachments": {},
   "cell_type": "markdown",
   "metadata": {},
   "source": [
    "# Salvataggio e caricamento del modello"
   ]
  },
  {
   "attachments": {},
   "cell_type": "markdown",
   "metadata": {},
   "source": [
    "Una volta raggiunto un buon risultato con il modello possiamo salvarlo per utilizzarlo successivamente senza dover rifare il training"
   ]
  },
  {
   "cell_type": "code",
   "execution_count": 56,
   "metadata": {},
   "outputs": [],
   "source": [
    "torch.save(model.state_dict(), 'mnist-logistic.pth')"
   ]
  },
  {
   "cell_type": "code",
   "execution_count": 57,
   "metadata": {},
   "outputs": [
    {
     "data": {
      "text/plain": [
       "OrderedDict([('linear.weight',\n",
       "              tensor([[-0.0255, -0.0171,  0.0164,  ..., -0.0301,  0.0022,  0.0328],\n",
       "                      [-0.0342,  0.0288, -0.0247,  ..., -0.0219,  0.0308, -0.0121],\n",
       "                      [ 0.0071,  0.0290,  0.0249,  ..., -0.0186, -0.0078, -0.0217],\n",
       "                      ...,\n",
       "                      [ 0.0092,  0.0255,  0.0025,  ...,  0.0283, -0.0110,  0.0105],\n",
       "                      [ 0.0123, -0.0258,  0.0214,  ...,  0.0160, -0.0049,  0.0350],\n",
       "                      [ 0.0222,  0.0074, -0.0192,  ...,  0.0065,  0.0073,  0.0123]])),\n",
       "             ('linear.bias',\n",
       "              tensor([-0.0259,  0.1160, -0.0463, -0.0121, -0.0060,  0.0191, -0.0051,  0.0299,\n",
       "                      -0.1234, -0.0384]))])"
      ]
     },
     "execution_count": 57,
     "metadata": {},
     "output_type": "execute_result"
    }
   ],
   "source": [
    "model.state_dict()"
   ]
  },
  {
   "attachments": {},
   "cell_type": "markdown",
   "metadata": {},
   "source": [
    "Per importare i pesi del modello si può instaziare la classe MnistModel usando il metodo .load_state_dict"
   ]
  },
  {
   "cell_type": "code",
   "execution_count": 58,
   "metadata": {},
   "outputs": [
    {
     "data": {
      "text/plain": [
       "OrderedDict([('linear.weight',\n",
       "              tensor([[-0.0255, -0.0171,  0.0164,  ..., -0.0301,  0.0022,  0.0328],\n",
       "                      [-0.0342,  0.0288, -0.0247,  ..., -0.0219,  0.0308, -0.0121],\n",
       "                      [ 0.0071,  0.0290,  0.0249,  ..., -0.0186, -0.0078, -0.0217],\n",
       "                      ...,\n",
       "                      [ 0.0092,  0.0255,  0.0025,  ...,  0.0283, -0.0110,  0.0105],\n",
       "                      [ 0.0123, -0.0258,  0.0214,  ...,  0.0160, -0.0049,  0.0350],\n",
       "                      [ 0.0222,  0.0074, -0.0192,  ...,  0.0065,  0.0073,  0.0123]])),\n",
       "             ('linear.bias',\n",
       "              tensor([-0.0259,  0.1160, -0.0463, -0.0121, -0.0060,  0.0191, -0.0051,  0.0299,\n",
       "                      -0.1234, -0.0384]))])"
      ]
     },
     "execution_count": 58,
     "metadata": {},
     "output_type": "execute_result"
    }
   ],
   "source": [
    "model2 = MnistModel()\n",
    "model2.load_state_dict(torch.load('mnist-logistic.pth'))\n",
    "model2.state_dict()"
   ]
  },
  {
   "attachments": {},
   "cell_type": "markdown",
   "metadata": {},
   "source": [
    "Per controllare che effettivamente siano stati salvati e importati i dati corretti possiamo fare una valutazione attraverso la funzione evaluate()"
   ]
  },
  {
   "cell_type": "code",
   "execution_count": 59,
   "metadata": {},
   "outputs": [
    {
     "data": {
      "text/plain": [
       "{'val_loss': 0.6392480134963989, 'val_acc': 0.86181640625}"
      ]
     },
     "execution_count": 59,
     "metadata": {},
     "output_type": "execute_result"
    }
   ],
   "source": [
    "test_loader = DataLoader(test_dataset, batch_size = 256)\n",
    "result = evaluate(model2, test_loader)\n",
    "result"
   ]
  }
 ],
 "metadata": {
  "kernelspec": {
   "display_name": "base",
   "language": "python",
   "name": "python3"
  },
  "language_info": {
   "codemirror_mode": {
    "name": "ipython",
    "version": 3
   },
   "file_extension": ".py",
   "mimetype": "text/x-python",
   "name": "python",
   "nbconvert_exporter": "python",
   "pygments_lexer": "ipython3",
   "version": "3.10.10"
  },
  "orig_nbformat": 4
 },
 "nbformat": 4,
 "nbformat_minor": 2
}
