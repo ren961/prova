{
 "cells": [
  {
   "cell_type": "code",
   "execution_count": null,
   "metadata": {},
   "outputs": [],
   "source": [
    "import torch\n",
    "import numpy as np"
   ]
  },
  {
   "attachments": {},
   "cell_type": "markdown",
   "metadata": {},
   "source": [
    "# Tensori"
   ]
  },
  {
   "cell_type": "code",
   "execution_count": null,
   "metadata": {},
   "outputs": [],
   "source": [
    "t1 = torch.tensor(4.)\n",
    "t1"
   ]
  },
  {
   "cell_type": "code",
   "execution_count": null,
   "metadata": {},
   "outputs": [],
   "source": [
    "t2 = torch.tensor([1., 2, 3, 4])\n",
    "#NB! Tutti i dati di un tensore hanno sempre lo stesso tipo, in questo caso anche gli int diventano dei float"
   ]
  },
  {
   "cell_type": "code",
   "execution_count": null,
   "metadata": {},
   "outputs": [],
   "source": [
    "t3 =torch.tensor([[5., 6],\n",
    "                  [7, 8],\n",
    "                  [9, 10]\n",
    "                ])\n",
    "t3"
   ]
  },
  {
   "cell_type": "code",
   "execution_count": null,
   "metadata": {},
   "outputs": [],
   "source": [
    "t4 = torch.tensor([\n",
    "    [[11, 12, 13],\n",
    "     [13, 14, 15]],\n",
    "    [[15, 16, 17],\n",
    "     [17, 18, 19]]\n",
    "])\n",
    "t4\n",
    "\n",
    "#crea una matrice tridimensionale 2x2x3 (2 \"strati\", 2 righe [righe in ogni strato], 3 colonne [elementi all'interno di ogni riga])"
   ]
  },
  {
   "cell_type": "code",
   "execution_count": null,
   "metadata": {},
   "outputs": [],
   "source": [
    "print(t1)\n",
    "t1.shape"
   ]
  },
  {
   "cell_type": "code",
   "execution_count": null,
   "metadata": {},
   "outputs": [],
   "source": [
    "print(t2)\n",
    "t2.shape"
   ]
  },
  {
   "cell_type": "code",
   "execution_count": null,
   "metadata": {},
   "outputs": [],
   "source": [
    "print(t3)\n",
    "t3.shape"
   ]
  },
  {
   "cell_type": "code",
   "execution_count": null,
   "metadata": {},
   "outputs": [],
   "source": [
    "print(t4)\n",
    "t4.shape"
   ]
  },
  {
   "cell_type": "code",
   "execution_count": null,
   "metadata": {},
   "outputs": [],
   "source": [
    "# NB! NON si possono creare tensori con shape non definiti, ossia non si possono lasciare \"spazi vuoti\", se la prima riga\n",
    "# è [1, 2, 3] la seconda non può essere ad esempio [5, 6] perché mancherebbe un elemento per completare la riga"
   ]
  },
  {
   "cell_type": "code",
   "execution_count": null,
   "metadata": {},
   "outputs": [],
   "source": [
    "xt = torch.tensor (3. )\n",
    "wt = torch. tensor (4., requires_grad =True)\n",
    "bt = torch.tensor (5., requires_grad = True)\n",
    "xt, wt, bt\n",
    "\n",
    "# requires_grad =True specifica che siamo interessati a calcolare le derivate di questa variabile all'interno del programma\n",
    "# se non lo mettiamo il programma non calcolerà mai la derivata rispetto quella determinata variabile"
   ]
  },
  {
   "cell_type": "code",
   "execution_count": null,
   "metadata": {},
   "outputs": [],
   "source": [
    "yt = wt * xt + bt\n",
    "yt"
   ]
  },
  {
   "cell_type": "code",
   "execution_count": null,
   "metadata": {},
   "outputs": [],
   "source": [
    "yt.backward()\n",
    "\n",
    "#esegue la derivata del tensore e salva i risultati all'interno della proprietà .grad del tensore"
   ]
  },
  {
   "cell_type": "code",
   "execution_count": null,
   "metadata": {},
   "outputs": [],
   "source": [
    "print('dy/dx: ', xt.grad)\n",
    "print('dy/dw: ', wt.grad)\n",
    "print('dy/db: ', bt.grad)"
   ]
  },
  {
   "cell_type": "code",
   "execution_count": null,
   "metadata": {},
   "outputs": [],
   "source": [
    "t6 = torch.full((3,2), 11)\n",
    "t6\n",
    "\n",
    "# torch.full((shape), num che inserisce)        serve a riempire un tensore con un numero specificando una shape"
   ]
  },
  {
   "cell_type": "code",
   "execution_count": null,
   "metadata": {},
   "outputs": [],
   "source": [
    "t7 = torch.cat((t3, t6))\n",
    "t7\n",
    "\n",
    "# torch.cat((tensore1, tensore2))       permette di concatenare due tensori NB! devono avere shape compatibili"
   ]
  },
  {
   "cell_type": "code",
   "execution_count": null,
   "metadata": {},
   "outputs": [],
   "source": [
    "t8 = torch.sin(t7)\n",
    "t8\n",
    "\n",
    "# torch.sin(tensore)     calcola il seno di ogni valore nel tensore"
   ]
  },
  {
   "cell_type": "code",
   "execution_count": null,
   "metadata": {},
   "outputs": [],
   "source": [
    "t9 = t8.reshape(3, 2, 2)\n",
    "t9\n",
    "\n",
    "# tensore.reshape(3, 2, 2)      permette di assegnare una nuova shape a un tensore NB! devono essere compatibili il numero di dati"
   ]
  },
  {
   "attachments": {},
   "cell_type": "markdown",
   "metadata": {},
   "source": [
    "# Numpy"
   ]
  },
  {
   "cell_type": "code",
   "execution_count": null,
   "metadata": {},
   "outputs": [],
   "source": [
    "a = np.array([[1,2],\n",
    "              [3, 4]])\n",
    "a"
   ]
  },
  {
   "cell_type": "code",
   "execution_count": null,
   "metadata": {},
   "outputs": [],
   "source": [
    "b = torch.from_numpy(x)\n",
    "b\n",
    "\n",
    "# torch.from_numpy(var_numpy)       trasforma un vettore numpy in un tensore torch"
   ]
  },
  {
   "cell_type": "code",
   "execution_count": null,
   "metadata": {},
   "outputs": [],
   "source": [
    "c = b.numpy()\n",
    "c\n",
    "\n",
    "# tensore.numpy()       trasforma un tensore in un array numpy"
   ]
  },
  {
   "attachments": {},
   "cell_type": "markdown",
   "metadata": {},
   "source": [
    "# Regressione lineare"
   ]
  },
  {
   "attachments": {},
   "cell_type": "markdown",
   "metadata": {},
   "source": [
    "In una regressione lineare ogni target è stimato da una somma pesata delle variabili in input a cui è sommata una distorsione detta bias\n",
    "Il training della regressione lineare avviene tramite il settaggio dei pesi e dei bias affinchè la predizione di nuove informazioni sia accurata"
   ]
  },
  {
   "cell_type": "code",
   "execution_count": null,
   "metadata": {},
   "outputs": [],
   "source": [
    "# Input (temp, precipitazioni, umidità)\n",
    "\n",
    "inputs = np.array([[72, 67, 43],\n",
    "                   [91, 88, 64],\n",
    "                   [87, 134, 58],\n",
    "                   [102, 43, 37],\n",
    "                   [69, 96, 70]],\n",
    "                   dtype = 'float32'\n",
    "                  )"
   ]
  },
  {
   "cell_type": "code",
   "execution_count": null,
   "metadata": {},
   "outputs": [],
   "source": [
    "# obiettivi (mele, arance)\n",
    "\n",
    "obiettivi = np.array([[56, 70],\n",
    "                    [81, 101],\n",
    "                    [119, 133],\n",
    "                    [22, 37],\n",
    "                    [103, 119]],\n",
    "                    dtype = 'float32'\n",
    "                   )"
   ]
  },
  {
   "attachments": {},
   "cell_type": "markdown",
   "metadata": {},
   "source": [
    "Solitamente i dati vengono importati da file csv in array numpy che vengono processati e infine convertiti in PyTorch"
   ]
  },
  {
   "cell_type": "code",
   "execution_count": null,
   "metadata": {},
   "outputs": [],
   "source": [
    "inputs = torch.from_numpy(inputs)\n",
    "obiettivi = torch.from_numpy(obiettivi)\n",
    "\n",
    "print(inputs)\n",
    "print(obiettivi)"
   ]
  },
  {
   "cell_type": "code",
   "execution_count": null,
   "metadata": {},
   "outputs": [],
   "source": [
    "pesi = torch.randn(2, 3, requires_grad = True)\n",
    "bias = torch.randn(2, requires_grad = True)\n",
    "\n",
    "# torch.randn(shape, requires_grad = True)      crea un tensore con la shape data con elementi random che hanno una distribuzione normalizzata\n",
    "\n",
    "print(pesi)\n",
    "print(bias)"
   ]
  },
  {
   "attachments": {},
   "cell_type": "markdown",
   "metadata": {},
   "source": [
    "Funzione che fa una predizione delle variabili target in base agli input dati"
   ]
  },
  {
   "cell_type": "code",
   "execution_count": null,
   "metadata": {},
   "outputs": [],
   "source": [
    "def model(x):\n",
    "    return x @ pesi.t() + bias\n",
    "\n",
    "# @ moltiplicazione matriciale in PyTorch\n",
    "# .t metodo che fa la trasposta del tensore"
   ]
  },
  {
   "cell_type": "code",
   "execution_count": null,
   "metadata": {},
   "outputs": [],
   "source": [
    "pred = model(inputs)\n",
    "print(pred)"
   ]
  },
  {
   "attachments": {},
   "cell_type": "markdown",
   "metadata": {},
   "source": [
    "Per migliorare la predizione dobbiamo prima compararla al target che ci si aspettava attraverso una funzione di costo come l'errore medio quadratico"
   ]
  },
  {
   "cell_type": "code",
   "execution_count": null,
   "metadata": {},
   "outputs": [],
   "source": [
    "def mse(t1, t2):\n",
    "    diff = t1 - t2\n",
    "    return torch.sum(diff * diff) / diff.numel()\n",
    "\n",
    "#torch.sum      restituisce la somma di tutti gli elementi del tensore\n",
    "# tensore.numel     restituisce numero di elementi all'interno del tensore"
   ]
  },
  {
   "cell_type": "code",
   "execution_count": null,
   "metadata": {},
   "outputs": [],
   "source": [
    "perdita = mse(pred, obiettivi)\n",
    "print(perdita)"
   ]
  },
  {
   "attachments": {},
   "cell_type": "markdown",
   "metadata": {},
   "source": [
    "Si ha una predizione migliore quanto più è minore la perdita calcolata"
   ]
  },
  {
   "cell_type": "code",
   "execution_count": null,
   "metadata": {},
   "outputs": [],
   "source": [
    "perdita.backward()"
   ]
  },
  {
   "cell_type": "code",
   "execution_count": null,
   "metadata": {},
   "outputs": [],
   "source": [
    "print(pesi)\n",
    "print(pesi.grad)"
   ]
  },
  {
   "cell_type": "code",
   "execution_count": null,
   "metadata": {},
   "outputs": [],
   "source": [
    "print(bias)\n",
    "print(bias.grad)"
   ]
  },
  {
   "cell_type": "code",
   "execution_count": null,
   "metadata": {},
   "outputs": [],
   "source": [
    "with torch.no_grad():\n",
    "    pesi -= pesi.grad * 1e-5\n",
    "    bias -= bias.grad * 1e-5\n",
    "\n",
    "# with torch.no_grad():         serve per non modificare la derivata mentre si aggiornano pesi e bias"
   ]
  },
  {
   "cell_type": "code",
   "execution_count": null,
   "metadata": {},
   "outputs": [],
   "source": [
    "pred = model(inputs)\n",
    "perdita = mse(pred, obiettivi)\n",
    "print(perdita)\n",
    "\n",
    "# la perdita diminuisce rispetto alla perdita precedente"
   ]
  },
  {
   "cell_type": "code",
   "execution_count": null,
   "metadata": {},
   "outputs": [],
   "source": [
    "pesi.grad.zero_()\n",
    "bias.grad.zero_()\n",
    "\n",
    "print(pesi.grad)\n",
    "print(bias.grad)\n",
    "\n",
    "# bisogna resettare le derivate a zero perché pytorch accumula le derivate (derivata prima, seconda...)"
   ]
  },
  {
   "attachments": {},
   "cell_type": "markdown",
   "metadata": {},
   "source": [
    "## Training"
   ]
  },
  {
   "attachments": {},
   "cell_type": "markdown",
   "metadata": {},
   "source": [
    "1. gerenare delle predizioni\n",
    "2. calcolare la perdita\n",
    "3. calcolare le derivata dei pesi e dei bias\n",
    "4. calibrare pesi e bias sottraendo una piccola porzione della derivata\n",
    "5. resettare la derivata a zero"
   ]
  },
  {
   "cell_type": "code",
   "execution_count": null,
   "metadata": {},
   "outputs": [],
   "source": [
    "# Generazione predizioni\n",
    "\n",
    "pred = model(inputs)\n",
    "print(pred)"
   ]
  },
  {
   "cell_type": "code",
   "execution_count": null,
   "metadata": {},
   "outputs": [],
   "source": [
    "# Calcolo della perdita\n",
    "\n",
    "perdita = mse(pred, obiettivi)\n",
    "print(perdita)"
   ]
  },
  {
   "cell_type": "code",
   "execution_count": null,
   "metadata": {},
   "outputs": [],
   "source": [
    "print(pesi)\n",
    "print(bias)"
   ]
  },
  {
   "cell_type": "code",
   "execution_count": null,
   "metadata": {},
   "outputs": [],
   "source": [
    "# Calcolo derivata\n",
    "\n",
    "perdita.backward()\n",
    "print(pesi.grad)\n",
    "print(bias.grad)"
   ]
  },
  {
   "cell_type": "code",
   "execution_count": null,
   "metadata": {},
   "outputs": [],
   "source": [
    "# Calibrazione pesi e bias\n",
    "\n",
    "with torch.no_grad():\n",
    "    pesi -= pesi.grad * 1e-5        #perché mi da errore: variable is 'unbound' ma il programma funziona lo stesso\n",
    "    bias -= bias.grad * 1e-5"
   ]
  },
  {
   "cell_type": "code",
   "execution_count": null,
   "metadata": {},
   "outputs": [],
   "source": [
    "# Azzeramento pesi e bias\n",
    "\n",
    "pesi.grad.zero_()\n",
    "bias.grad.zero_()"
   ]
  },
  {
   "cell_type": "code",
   "execution_count": null,
   "metadata": {},
   "outputs": [],
   "source": [
    "# visualizzazione nuovi pesi e bias calibrati\n",
    "\n",
    "print(pesi)\n",
    "print(bias)"
   ]
  },
  {
   "cell_type": "code",
   "execution_count": null,
   "metadata": {},
   "outputs": [],
   "source": [
    "pred = model(inputs)\n",
    "perdita = mse(pred, obiettivi)\n",
    "print(perdita)"
   ]
  },
  {
   "attachments": {},
   "cell_type": "markdown",
   "metadata": {},
   "source": [
    "## Training per più epochs"
   ]
  },
  {
   "cell_type": "code",
   "execution_count": null,
   "metadata": {},
   "outputs": [],
   "source": [
    "for i in range(100):\n",
    "    pred = model(inputs)\n",
    "    perdita = mse(pred, obiettivi)\n",
    "    perdita.backward()\n",
    "\n",
    "    with torch.no_grad():\n",
    "        pesi -= pesi.grad * 1e-5\n",
    "        bias -= bias.grad * 1e-5\n",
    "        pesi.grad.zero_()\n",
    "        bias.grad.zero_()"
   ]
  },
  {
   "cell_type": "code",
   "execution_count": null,
   "metadata": {},
   "outputs": [],
   "source": [
    "pred = model(inputs)\n",
    "perdita = mse(pred, obiettivi)\n",
    "print(perdita)"
   ]
  },
  {
   "cell_type": "code",
   "execution_count": null,
   "metadata": {},
   "outputs": [],
   "source": [
    "pred"
   ]
  },
  {
   "cell_type": "code",
   "execution_count": null,
   "metadata": {},
   "outputs": [],
   "source": [
    "obiettivi"
   ]
  },
  {
   "attachments": {},
   "cell_type": "markdown",
   "metadata": {},
   "source": [
    "# Regressione lineare usando funzioni già presenti su PyTorch"
   ]
  },
  {
   "cell_type": "code",
   "execution_count": 1375,
   "metadata": {},
   "outputs": [],
   "source": [
    "import torch.nn as nn"
   ]
  },
  {
   "cell_type": "code",
   "execution_count": 1402,
   "metadata": {},
   "outputs": [],
   "source": [
    "# inizializzazione input e obiettivi\n",
    "\n",
    "\n",
    "inputs = np.array([[73, 67, 43],\n",
    "                   [91, 88, 64],\n",
    "                   [87, 134, 58],\n",
    "                   [102, 43, 37],\n",
    "                   [69, 96, 70],\n",
    "                   [74, 66, 43],\n",
    "                   [91, 86, 65],\n",
    "                   [88, 134, 59],\n",
    "                   [101, 44, 37],\n",
    "                   [68, 96, 71],\n",
    "                   [73, 66, 44],\n",
    "                   [92, 87, 64],\n",
    "                   [87, 135, 57],\n",
    "                   [103, 43, 36],\n",
    "                   [68, 97, 70]],\n",
    "                   dtype = 'float32'\n",
    "                  )\n",
    "\n",
    "obiettivi = np.array([[56, 70],\n",
    "                    [81, 101],\n",
    "                    [119, 133],\n",
    "                    [22, 37],\n",
    "                    [103, 119],\n",
    "                    [57, 69],\n",
    "                    [80, 102],\n",
    "                    [118, 132],\n",
    "                    [21, 38],\n",
    "                    [104, 118],\n",
    "                    [57, 69],\n",
    "                    [82, 100],\n",
    "                    [118, 134],\n",
    "                    [20, 38],\n",
    "                    [102, 120]],\n",
    "                    dtype = 'float32'\n",
    "                   )"
   ]
  },
  {
   "cell_type": "code",
   "execution_count": 1403,
   "metadata": {},
   "outputs": [],
   "source": [
    "# Trasofrmazione degli input e obiettivi a tensori\n",
    "inputs = torch.from_numpy(inputs)\n",
    "obiettivi = torch.from_numpy(obiettivi)\n"
   ]
  },
  {
   "attachments": {},
   "cell_type": "markdown",
   "metadata": {},
   "source": [
    "## Dataset, DataLoader e regressione lineare"
   ]
  },
  {
   "cell_type": "code",
   "execution_count": 1404,
   "metadata": {},
   "outputs": [],
   "source": [
    "from torch.utils.data import TensorDataset\n",
    "from torch.utils.data import DataLoader"
   ]
  },
  {
   "cell_type": "code",
   "execution_count": 1405,
   "metadata": {},
   "outputs": [
    {
     "data": {
      "text/plain": [
       "(tensor([[ 73.,  67.,  43.],\n",
       "         [ 91.,  88.,  64.],\n",
       "         [ 87., 134.,  58.]]),\n",
       " tensor([[ 56.,  70.],\n",
       "         [ 81., 101.],\n",
       "         [119., 133.]]))"
      ]
     },
     "execution_count": 1405,
     "metadata": {},
     "output_type": "execute_result"
    }
   ],
   "source": [
    "# definizione del dataset\n",
    "train_ds = TensorDataset(inputs, obiettivi)\n",
    "train_ds[0:3]\n",
    "\n",
    "#TensorDataSet permette di accedere a piccole porzioni del data training usando la notazione array"
   ]
  },
  {
   "cell_type": "code",
   "execution_count": 1406,
   "metadata": {},
   "outputs": [],
   "source": [
    "# definizione data loader\n",
    "\n",
    "batch_size = 5\n",
    "train_dl = DataLoader(train_ds, batch_size, shuffle = True)\n",
    "\n",
    "# DataLoader spezza il set di dati in lotti di una dimensione predefinita durante il training"
   ]
  },
  {
   "cell_type": "code",
   "execution_count": 1407,
   "metadata": {},
   "outputs": [
    {
     "name": "stdout",
     "output_type": "stream",
     "text": [
      "tensor([[102.,  43.,  37.],\n",
      "        [103.,  43.,  36.],\n",
      "        [ 74.,  66.,  43.],\n",
      "        [ 69.,  96.,  70.],\n",
      "        [ 88., 134.,  59.]])\n",
      "tensor([[ 22.,  37.],\n",
      "        [ 20.,  38.],\n",
      "        [ 57.,  69.],\n",
      "        [103., 119.],\n",
      "        [118., 132.]])\n"
     ]
    }
   ],
   "source": [
    "for xb, yb in train_dl:\n",
    "    print(xb)\n",
    "    print(yb)\n",
    "    break"
   ]
  },
  {
   "cell_type": "code",
   "execution_count": 1408,
   "metadata": {},
   "outputs": [
    {
     "name": "stdout",
     "output_type": "stream",
     "text": [
      "Parameter containing:\n",
      "tensor([[ 0.3171, -0.3306, -0.1153],\n",
      "        [-0.5098,  0.1090, -0.1359]], requires_grad=True)\n",
      "Parameter containing:\n",
      "tensor([-0.3125,  0.5537], requires_grad=True)\n"
     ]
    }
   ],
   "source": [
    "# definizione del modello\n",
    "\n",
    "model = nn.Linear(3, 2)     #nn.Linear(numero input, numero output)\n",
    "print(model.weight)\n",
    "print(model.bias)"
   ]
  },
  {
   "cell_type": "code",
   "execution_count": 1409,
   "metadata": {},
   "outputs": [
    {
     "name": "stdout",
     "output_type": "stream",
     "text": [
      "tensor([[ -4.2754, -35.2066],\n",
      "        [ -7.9321, -44.9494],\n",
      "        [-23.7165, -37.0815],\n",
      "        [ 13.5454, -51.7909],\n",
      "        [-18.2438, -33.6774],\n",
      "        [ -3.6277, -35.8253],\n",
      "        [ -7.3862, -45.3033],\n",
      "        [-23.5147, -37.7272],\n",
      "        [ 12.8978, -51.1721],\n",
      "        [-18.6762, -33.3035],\n",
      "        [ -4.0601, -35.4515],\n",
      "        [ -7.2845, -45.5682],\n",
      "        [-23.9318, -36.8366],\n",
      "        [ 13.9778, -52.1648],\n",
      "        [-18.8915, -33.0586]], grad_fn=<AddmmBackward0>)\n"
     ]
    }
   ],
   "source": [
    "pred = model(inputs)\n",
    "print(pred)"
   ]
  },
  {
   "attachments": {},
   "cell_type": "markdown",
   "metadata": {},
   "source": [
    "## Funzione di perdita"
   ]
  },
  {
   "cell_type": "code",
   "execution_count": 1410,
   "metadata": {},
   "outputs": [],
   "source": [
    "import torch.nn.functional as F"
   ]
  },
  {
   "cell_type": "code",
   "execution_count": 1411,
   "metadata": {},
   "outputs": [],
   "source": [
    "funz_perdita = F.mse_loss\n",
    "\n",
    "# definizione funzione di perdita con mse"
   ]
  },
  {
   "cell_type": "code",
   "execution_count": 1412,
   "metadata": {},
   "outputs": [
    {
     "name": "stdout",
     "output_type": "stream",
     "text": [
      "tensor(13910.0918, grad_fn=<MseLossBackward0>)\n"
     ]
    }
   ],
   "source": [
    "perdita = funz_perdita(model(inputs), obiettivi)\n",
    "print(perdita)"
   ]
  },
  {
   "attachments": {},
   "cell_type": "markdown",
   "metadata": {},
   "source": [
    "## Ottimizzazione perdita"
   ]
  },
  {
   "cell_type": "code",
   "execution_count": 1413,
   "metadata": {},
   "outputs": [],
   "source": [
    "ott = torch.optim.SGD(model.parameters(), lr = 1e-5)"
   ]
  },
  {
   "attachments": {},
   "cell_type": "markdown",
   "metadata": {},
   "source": [
    "# Funzione per training"
   ]
  },
  {
   "cell_type": "code",
   "execution_count": 1414,
   "metadata": {},
   "outputs": [],
   "source": [
    "def fit(num_epochs, model, funz_perdita, ott, train_dl):\n",
    "    for epoch in range(num_epochs):\n",
    "        for xb, yb in train_dl:\n",
    "            # 1. genreazione predizioni\n",
    "            pred = model(xb)\n",
    "            # 2. calcolo perdita\n",
    "            perdita = funz_perdita(pred, yb)\n",
    "            # 3. calcolo derivata\n",
    "            perdita.backward()\n",
    "            # 4. aggiornamento parametri usando derivate\n",
    "            ott.step()\n",
    "            # reset derivate a zero\n",
    "            ott.zero_grad()\n",
    "        if(epoch+1) % 10 == 0:\n",
    "            print('Epoch [{}/{}], Perdita: {:.4f}'.format(epoch+1, num_epochs, perdita.item()))"
   ]
  },
  {
   "cell_type": "code",
   "execution_count": 1415,
   "metadata": {},
   "outputs": [
    {
     "name": "stdout",
     "output_type": "stream",
     "text": [
      "Epoch [10/100], Perdita: 764.8069\n",
      "Epoch [20/100], Perdita: 338.8612\n",
      "Epoch [30/100], Perdita: 378.7642\n",
      "Epoch [40/100], Perdita: 170.5118\n",
      "Epoch [50/100], Perdita: 119.1818\n",
      "Epoch [60/100], Perdita: 88.0113\n",
      "Epoch [70/100], Perdita: 51.4697\n",
      "Epoch [80/100], Perdita: 46.7861\n",
      "Epoch [90/100], Perdita: 60.8661\n",
      "Epoch [100/100], Perdita: 22.1664\n"
     ]
    }
   ],
   "source": [
    "fit(100, model, funz_perdita, ott, train_dl)"
   ]
  },
  {
   "cell_type": "code",
   "execution_count": 1416,
   "metadata": {},
   "outputs": [
    {
     "data": {
      "text/plain": [
       "tensor([[ 58.9055,  71.3608],\n",
       "        [ 81.1291,  97.7246],\n",
       "        [118.2683, 138.2172],\n",
       "        [ 31.3359,  42.0183],\n",
       "        [ 94.0051, 111.1863],\n",
       "        [ 57.8867,  70.2838],\n",
       "        [ 79.8197,  96.3281],\n",
       "        [118.4608, 138.5244],\n",
       "        [ 32.3546,  43.0953],\n",
       "        [ 94.5546, 111.7937],\n",
       "        [ 58.4363,  70.8912],\n",
       "        [ 80.1103,  96.6476],\n",
       "        [118.7375, 138.6868],\n",
       "        [ 30.7863,  41.4109],\n",
       "        [ 95.0238, 112.2633]], grad_fn=<AddmmBackward0>)"
      ]
     },
     "execution_count": 1416,
     "metadata": {},
     "output_type": "execute_result"
    }
   ],
   "source": [
    "pred = model(inputs)\n",
    "pred"
   ]
  },
  {
   "cell_type": "code",
   "execution_count": 1417,
   "metadata": {},
   "outputs": [
    {
     "data": {
      "text/plain": [
       "tensor([[ 56.,  70.],\n",
       "        [ 81., 101.],\n",
       "        [119., 133.],\n",
       "        [ 22.,  37.],\n",
       "        [103., 119.],\n",
       "        [ 57.,  69.],\n",
       "        [ 80., 102.],\n",
       "        [118., 132.],\n",
       "        [ 21.,  38.],\n",
       "        [104., 118.],\n",
       "        [ 57.,  69.],\n",
       "        [ 82., 100.],\n",
       "        [118., 134.],\n",
       "        [ 20.,  38.],\n",
       "        [102., 120.]])"
      ]
     },
     "execution_count": 1417,
     "metadata": {},
     "output_type": "execute_result"
    }
   ],
   "source": [
    "obiettivi"
   ]
  }
 ],
 "metadata": {
  "kernelspec": {
   "display_name": "base",
   "language": "python",
   "name": "python3"
  },
  "language_info": {
   "codemirror_mode": {
    "name": "ipython",
    "version": 3
   },
   "file_extension": ".py",
   "mimetype": "text/x-python",
   "name": "python",
   "nbconvert_exporter": "python",
   "pygments_lexer": "ipython3",
   "version": "3.10.10"
  },
  "orig_nbformat": 4
 },
 "nbformat": 4,
 "nbformat_minor": 2
}
