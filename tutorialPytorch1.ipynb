{
 "cells": [
  {
   "cell_type": "code",
   "execution_count": 390,
   "metadata": {},
   "outputs": [],
   "source": [
    "import torch\n",
    "import numpy as np"
   ]
  },
  {
   "attachments": {},
   "cell_type": "markdown",
   "metadata": {},
   "source": [
    "# Tensori"
   ]
  },
  {
   "cell_type": "code",
   "execution_count": 391,
   "metadata": {},
   "outputs": [
    {
     "data": {
      "text/plain": [
       "tensor(4.)"
      ]
     },
     "execution_count": 391,
     "metadata": {},
     "output_type": "execute_result"
    }
   ],
   "source": [
    "t1 = torch.tensor(4.)\n",
    "t1"
   ]
  },
  {
   "cell_type": "code",
   "execution_count": 392,
   "metadata": {},
   "outputs": [],
   "source": [
    "t2 = torch.tensor([1., 2, 3, 4])\n",
    "#NB! Tutti i dati di un tensore hanno sempre lo stesso tipo, in questo caso anche gli int diventano dei float"
   ]
  },
  {
   "cell_type": "code",
   "execution_count": 393,
   "metadata": {},
   "outputs": [
    {
     "data": {
      "text/plain": [
       "tensor([[ 5.,  6.],\n",
       "        [ 7.,  8.],\n",
       "        [ 9., 10.]])"
      ]
     },
     "execution_count": 393,
     "metadata": {},
     "output_type": "execute_result"
    }
   ],
   "source": [
    "t3 =torch.tensor([[5., 6],\n",
    "                  [7, 8],\n",
    "                  [9, 10]\n",
    "                ])\n",
    "t3"
   ]
  },
  {
   "cell_type": "code",
   "execution_count": 394,
   "metadata": {},
   "outputs": [
    {
     "data": {
      "text/plain": [
       "tensor([[[11, 12, 13],\n",
       "         [13, 14, 15]],\n",
       "\n",
       "        [[15, 16, 17],\n",
       "         [17, 18, 19]]])"
      ]
     },
     "execution_count": 394,
     "metadata": {},
     "output_type": "execute_result"
    }
   ],
   "source": [
    "t4 = torch.tensor([\n",
    "    [[11, 12, 13],\n",
    "     [13, 14, 15]],\n",
    "    [[15, 16, 17],\n",
    "     [17, 18, 19]]\n",
    "])\n",
    "t4\n",
    "\n",
    "#crea una matrice tridimensionale 2x2x3 (2 \"strati\", 2 righe [righe in ogni strato], 3 colonne [elementi all'interno di ogni riga])"
   ]
  },
  {
   "cell_type": "code",
   "execution_count": 395,
   "metadata": {},
   "outputs": [
    {
     "name": "stdout",
     "output_type": "stream",
     "text": [
      "tensor(4.)\n"
     ]
    },
    {
     "data": {
      "text/plain": [
       "torch.Size([])"
      ]
     },
     "execution_count": 395,
     "metadata": {},
     "output_type": "execute_result"
    }
   ],
   "source": [
    "print(t1)\n",
    "t1.shape"
   ]
  },
  {
   "cell_type": "code",
   "execution_count": 396,
   "metadata": {},
   "outputs": [
    {
     "name": "stdout",
     "output_type": "stream",
     "text": [
      "tensor([1., 2., 3., 4.])\n"
     ]
    },
    {
     "data": {
      "text/plain": [
       "torch.Size([4])"
      ]
     },
     "execution_count": 396,
     "metadata": {},
     "output_type": "execute_result"
    }
   ],
   "source": [
    "print(t2)\n",
    "t2.shape"
   ]
  },
  {
   "cell_type": "code",
   "execution_count": 397,
   "metadata": {},
   "outputs": [
    {
     "name": "stdout",
     "output_type": "stream",
     "text": [
      "tensor([[ 5.,  6.],\n",
      "        [ 7.,  8.],\n",
      "        [ 9., 10.]])\n"
     ]
    },
    {
     "data": {
      "text/plain": [
       "torch.Size([3, 2])"
      ]
     },
     "execution_count": 397,
     "metadata": {},
     "output_type": "execute_result"
    }
   ],
   "source": [
    "print(t3)\n",
    "t3.shape"
   ]
  },
  {
   "cell_type": "code",
   "execution_count": 398,
   "metadata": {},
   "outputs": [
    {
     "name": "stdout",
     "output_type": "stream",
     "text": [
      "tensor([[[11, 12, 13],\n",
      "         [13, 14, 15]],\n",
      "\n",
      "        [[15, 16, 17],\n",
      "         [17, 18, 19]]])\n"
     ]
    },
    {
     "data": {
      "text/plain": [
       "torch.Size([2, 2, 3])"
      ]
     },
     "execution_count": 398,
     "metadata": {},
     "output_type": "execute_result"
    }
   ],
   "source": [
    "print(t4)\n",
    "t4.shape"
   ]
  },
  {
   "cell_type": "code",
   "execution_count": 399,
   "metadata": {},
   "outputs": [],
   "source": [
    "# NB! NON si possono creare tensori con shape non definiti, ossia non si possono lasciare \"spazi vuoti\", se la prima riga\n",
    "# è [1, 2, 3] la seconda non può essere ad esempio [5, 6] perché mancherebbe un elemento per completare la riga"
   ]
  },
  {
   "cell_type": "code",
   "execution_count": 400,
   "metadata": {},
   "outputs": [
    {
     "data": {
      "text/plain": [
       "(tensor(3.), tensor(4., requires_grad=True), tensor(5., requires_grad=True))"
      ]
     },
     "execution_count": 400,
     "metadata": {},
     "output_type": "execute_result"
    }
   ],
   "source": [
    "xt = torch.tensor (3. )\n",
    "wt = torch. tensor (4., requires_grad =True)\n",
    "bt = torch.tensor (5., requires_grad = True)\n",
    "xt, wt, bt\n",
    "\n",
    "# requires_grad =True specifica che siamo interessati a calcolare le derivate di questa variabile all'interno del programma\n",
    "# se non lo mettiamo il programma non calcolerà mai la derivata rispetto quella determinata variabile"
   ]
  },
  {
   "cell_type": "code",
   "execution_count": 401,
   "metadata": {},
   "outputs": [
    {
     "data": {
      "text/plain": [
       "tensor(17., grad_fn=<AddBackward0>)"
      ]
     },
     "execution_count": 401,
     "metadata": {},
     "output_type": "execute_result"
    }
   ],
   "source": [
    "yt = wt * xt + bt\n",
    "yt"
   ]
  },
  {
   "cell_type": "code",
   "execution_count": 402,
   "metadata": {},
   "outputs": [],
   "source": [
    "yt.backward()\n",
    "\n",
    "#esegue la derivata del tensore e salva i risultati all'interno della proprietà .grad del tensore"
   ]
  },
  {
   "cell_type": "code",
   "execution_count": 403,
   "metadata": {},
   "outputs": [
    {
     "name": "stdout",
     "output_type": "stream",
     "text": [
      "dy/dx:  None\n",
      "dy/dw:  tensor(3.)\n",
      "dy/db:  tensor(1.)\n"
     ]
    }
   ],
   "source": [
    "print('dy/dx: ', xt.grad)\n",
    "print('dy/dw: ', wt.grad)\n",
    "print('dy/db: ', bt.grad)"
   ]
  },
  {
   "cell_type": "code",
   "execution_count": 404,
   "metadata": {},
   "outputs": [
    {
     "data": {
      "text/plain": [
       "tensor([[11, 11],\n",
       "        [11, 11],\n",
       "        [11, 11]])"
      ]
     },
     "execution_count": 404,
     "metadata": {},
     "output_type": "execute_result"
    }
   ],
   "source": [
    "t6 = torch.full((3,2), 11)\n",
    "t6\n",
    "\n",
    "# torch.full((shape), num che inserisce)        serve a riempire un tensore con un numero specificando una shape"
   ]
  },
  {
   "cell_type": "code",
   "execution_count": 405,
   "metadata": {},
   "outputs": [
    {
     "data": {
      "text/plain": [
       "tensor([[ 5.,  6.],\n",
       "        [ 7.,  8.],\n",
       "        [ 9., 10.],\n",
       "        [11., 11.],\n",
       "        [11., 11.],\n",
       "        [11., 11.]])"
      ]
     },
     "execution_count": 405,
     "metadata": {},
     "output_type": "execute_result"
    }
   ],
   "source": [
    "t7 = torch.cat((t3, t6))\n",
    "t7\n",
    "\n",
    "# torch.cat((tensore1, tensore2))       permette di concatenare due tensori NB! devono avere shape compatibili"
   ]
  },
  {
   "cell_type": "code",
   "execution_count": 406,
   "metadata": {},
   "outputs": [
    {
     "data": {
      "text/plain": [
       "tensor([[-0.9589, -0.2794],\n",
       "        [ 0.6570,  0.9894],\n",
       "        [ 0.4121, -0.5440],\n",
       "        [-1.0000, -1.0000],\n",
       "        [-1.0000, -1.0000],\n",
       "        [-1.0000, -1.0000]])"
      ]
     },
     "execution_count": 406,
     "metadata": {},
     "output_type": "execute_result"
    }
   ],
   "source": [
    "t8 = torch.sin(t7)\n",
    "t8\n",
    "\n",
    "# torch.sin(tensore)     calcola il seno di ogni valore nel tensore"
   ]
  },
  {
   "cell_type": "code",
   "execution_count": 407,
   "metadata": {},
   "outputs": [
    {
     "data": {
      "text/plain": [
       "tensor([[[-0.9589, -0.2794],\n",
       "         [ 0.6570,  0.9894]],\n",
       "\n",
       "        [[ 0.4121, -0.5440],\n",
       "         [-1.0000, -1.0000]],\n",
       "\n",
       "        [[-1.0000, -1.0000],\n",
       "         [-1.0000, -1.0000]]])"
      ]
     },
     "execution_count": 407,
     "metadata": {},
     "output_type": "execute_result"
    }
   ],
   "source": [
    "t9 = t8.reshape(3, 2, 2)\n",
    "t9\n",
    "\n",
    "# tensore.reshape(3, 2, 2)      permette di assegnare una nuova shape a un tensore NB! devono essere compatibili il numero di dati"
   ]
  },
  {
   "attachments": {},
   "cell_type": "markdown",
   "metadata": {},
   "source": [
    "# Numpy"
   ]
  },
  {
   "cell_type": "code",
   "execution_count": 408,
   "metadata": {},
   "outputs": [
    {
     "data": {
      "text/plain": [
       "array([[1, 2],\n",
       "       [3, 4]])"
      ]
     },
     "execution_count": 408,
     "metadata": {},
     "output_type": "execute_result"
    }
   ],
   "source": [
    "a = np.array([[1,2],\n",
    "              [3, 4]])\n",
    "a"
   ]
  },
  {
   "cell_type": "code",
   "execution_count": 409,
   "metadata": {},
   "outputs": [
    {
     "data": {
      "text/plain": [
       "tensor([[1, 2],\n",
       "        [3, 4]])"
      ]
     },
     "execution_count": 409,
     "metadata": {},
     "output_type": "execute_result"
    }
   ],
   "source": [
    "b = torch.from_numpy(a)\n",
    "b\n",
    "\n",
    "# torch.from_numpy(var_numpy)       trasforma un vettore numpy in un tensore torch"
   ]
  },
  {
   "cell_type": "code",
   "execution_count": 410,
   "metadata": {},
   "outputs": [
    {
     "data": {
      "text/plain": [
       "array([[1, 2],\n",
       "       [3, 4]])"
      ]
     },
     "execution_count": 410,
     "metadata": {},
     "output_type": "execute_result"
    }
   ],
   "source": [
    "c = b.numpy()\n",
    "c\n",
    "\n",
    "# tensore.numpy()       trasforma un tensore in un array numpy"
   ]
  },
  {
   "attachments": {},
   "cell_type": "markdown",
   "metadata": {},
   "source": [
    "# Regressione lineare"
   ]
  },
  {
   "attachments": {},
   "cell_type": "markdown",
   "metadata": {},
   "source": [
    "In una regressione lineare ogni target è stimato da una somma pesata delle variabili in input a cui è sommata una distorsione detta bias\n",
    "Il training della regressione lineare avviene tramite il settaggio dei pesi e dei bias affinchè la predizione di nuove informazioni sia accurata"
   ]
  },
  {
   "cell_type": "code",
   "execution_count": 411,
   "metadata": {},
   "outputs": [],
   "source": [
    "# Input (temp, precipitazioni, umidità)\n",
    "\n",
    "inputs = np.array([[72, 67, 43],\n",
    "                   [91, 88, 64],\n",
    "                   [87, 134, 58],\n",
    "                   [102, 43, 37],\n",
    "                   [69, 96, 70]],\n",
    "                   dtype = 'float32'\n",
    "                  )"
   ]
  },
  {
   "cell_type": "code",
   "execution_count": 412,
   "metadata": {},
   "outputs": [],
   "source": [
    "# obiettivi (mele, arance)\n",
    "\n",
    "obiettivi = np.array([[56, 70],\n",
    "                    [81, 101],\n",
    "                    [119, 133],\n",
    "                    [22, 37],\n",
    "                    [103, 119]],\n",
    "                    dtype = 'float32'\n",
    "                   )"
   ]
  },
  {
   "attachments": {},
   "cell_type": "markdown",
   "metadata": {},
   "source": [
    "Solitamente i dati vengono importati da file csv in array numpy che vengono processati e infine convertiti in PyTorch"
   ]
  },
  {
   "cell_type": "code",
   "execution_count": 413,
   "metadata": {},
   "outputs": [
    {
     "name": "stdout",
     "output_type": "stream",
     "text": [
      "tensor([[ 72.,  67.,  43.],\n",
      "        [ 91.,  88.,  64.],\n",
      "        [ 87., 134.,  58.],\n",
      "        [102.,  43.,  37.],\n",
      "        [ 69.,  96.,  70.]])\n",
      "tensor([[ 56.,  70.],\n",
      "        [ 81., 101.],\n",
      "        [119., 133.],\n",
      "        [ 22.,  37.],\n",
      "        [103., 119.]])\n"
     ]
    }
   ],
   "source": [
    "inputs = torch.from_numpy(inputs)\n",
    "obiettivi = torch.from_numpy(obiettivi)\n",
    "\n",
    "print(inputs)\n",
    "print(obiettivi)"
   ]
  },
  {
   "cell_type": "code",
   "execution_count": 414,
   "metadata": {},
   "outputs": [
    {
     "name": "stdout",
     "output_type": "stream",
     "text": [
      "tensor([[-0.8632, -0.1435, -0.9080],\n",
      "        [-0.6156,  0.1464,  0.0685]], requires_grad=True)\n",
      "tensor([1.1616, 2.0586], requires_grad=True)\n"
     ]
    }
   ],
   "source": [
    "pesi = torch.randn(2, 3, requires_grad = True)\n",
    "bias = torch.randn(2, requires_grad = True)\n",
    "\n",
    "# torch.randn(shape, requires_grad = True)      crea un tensore con la shape data con elementi random che hanno una distribuzione normalizzata\n",
    "\n",
    "print(pesi)\n",
    "print(bias)"
   ]
  },
  {
   "attachments": {},
   "cell_type": "markdown",
   "metadata": {},
   "source": [
    "Funzione che fa una predizione delle variabili target in base agli input dati"
   ]
  },
  {
   "cell_type": "code",
   "execution_count": 415,
   "metadata": {},
   "outputs": [],
   "source": [
    "def model(x):\n",
    "    return x @ pesi.t() + bias\n",
    "\n",
    "# @ moltiplicazione matriciale in PyTorch\n",
    "# .t metodo che fa la trasposta del tensore"
   ]
  },
  {
   "cell_type": "code",
   "execution_count": 416,
   "metadata": {},
   "outputs": [
    {
     "name": "stdout",
     "output_type": "stream",
     "text": [
      "tensor([[-109.6432,  -29.5107],\n",
      "        [-148.1248,  -36.6938],\n",
      "        [-145.8233,  -27.9082],\n",
      "        [-126.6463,  -51.9047],\n",
      "        [-135.7314,  -21.5674]], grad_fn=<AddBackward0>)\n"
     ]
    }
   ],
   "source": [
    "pred = model(inputs)\n",
    "print(pred)"
   ]
  },
  {
   "attachments": {},
   "cell_type": "markdown",
   "metadata": {},
   "source": [
    "Per migliorare la predizione dobbiamo prima compararla al target che ci si aspettava attraverso una funzione di costo come l'errore medio quadratico"
   ]
  },
  {
   "cell_type": "code",
   "execution_count": 417,
   "metadata": {},
   "outputs": [],
   "source": [
    "def mse(t1, t2):\n",
    "    diff = t1 - t2\n",
    "    return torch.sum(diff * diff) / diff.numel()\n",
    "\n",
    "#torch.sum      restituisce la somma di tutti gli elementi del tensore\n",
    "# tensore.numel     restituisce numero di elementi all'interno del tensore"
   ]
  },
  {
   "cell_type": "code",
   "execution_count": 418,
   "metadata": {},
   "outputs": [
    {
     "name": "stdout",
     "output_type": "stream",
     "text": [
      "tensor(31157.2285, grad_fn=<DivBackward0>)\n"
     ]
    }
   ],
   "source": [
    "perdita = mse(pred, obiettivi)\n",
    "print(perdita)"
   ]
  },
  {
   "attachments": {},
   "cell_type": "markdown",
   "metadata": {},
   "source": [
    "Si ha una predizione migliore quanto più è minore la perdita calcolata"
   ]
  },
  {
   "cell_type": "code",
   "execution_count": 419,
   "metadata": {},
   "outputs": [],
   "source": [
    "perdita.backward()"
   ]
  },
  {
   "cell_type": "code",
   "execution_count": 420,
   "metadata": {},
   "outputs": [
    {
     "name": "stdout",
     "output_type": "stream",
     "text": [
      "tensor([[-0.8632, -0.1435, -0.9080],\n",
      "        [-0.6156,  0.1464,  0.0685]], requires_grad=True)\n",
      "tensor([[-17490.1387, -19211.4824, -11871.5020],\n",
      "        [-10492.2695, -11532.6680,  -7110.6460]])\n"
     ]
    }
   ],
   "source": [
    "print(pesi)\n",
    "print(pesi.grad)"
   ]
  },
  {
   "cell_type": "code",
   "execution_count": 421,
   "metadata": {},
   "outputs": [
    {
     "name": "stdout",
     "output_type": "stream",
     "text": [
      "tensor([1.1616, 2.0586], requires_grad=True)\n",
      "tensor([-209.3938, -125.5170])\n"
     ]
    }
   ],
   "source": [
    "print(bias)\n",
    "print(bias.grad)"
   ]
  },
  {
   "cell_type": "code",
   "execution_count": 422,
   "metadata": {},
   "outputs": [],
   "source": [
    "with torch.no_grad():\n",
    "    pesi -= pesi.grad * 1e-5\n",
    "    bias -= bias.grad * 1e-5\n",
    "\n",
    "# with torch.no_grad():         serve per non modificare la derivata mentre si aggiornano pesi e bias"
   ]
  },
  {
   "cell_type": "code",
   "execution_count": 423,
   "metadata": {},
   "outputs": [
    {
     "name": "stdout",
     "output_type": "stream",
     "text": [
      "tensor(21053.0039, grad_fn=<DivBackward0>)\n"
     ]
    }
   ],
   "source": [
    "pred = model(inputs)\n",
    "perdita = mse(pred, obiettivi)\n",
    "print(perdita)\n",
    "\n",
    "# la perdita diminuisce rispetto alla perdita precedente"
   ]
  },
  {
   "cell_type": "code",
   "execution_count": 424,
   "metadata": {},
   "outputs": [
    {
     "name": "stdout",
     "output_type": "stream",
     "text": [
      "tensor([[0., 0., 0.],\n",
      "        [0., 0., 0.]])\n",
      "tensor([0., 0.])\n"
     ]
    }
   ],
   "source": [
    "pesi.grad.zero_()\n",
    "bias.grad.zero_()\n",
    "\n",
    "print(pesi.grad)\n",
    "print(bias.grad)\n",
    "\n",
    "# bisogna resettare le derivate a zero perché pytorch accumula le derivate (derivata prima, seconda...)"
   ]
  },
  {
   "attachments": {},
   "cell_type": "markdown",
   "metadata": {},
   "source": [
    "## Training"
   ]
  },
  {
   "attachments": {},
   "cell_type": "markdown",
   "metadata": {},
   "source": [
    "1. gerenare delle predizioni\n",
    "2. calcolare la perdita\n",
    "3. calcolare le derivata dei pesi e dei bias\n",
    "4. calibrare pesi e bias sottraendo una piccola porzione della derivata\n",
    "5. resettare la derivata a zero"
   ]
  },
  {
   "cell_type": "code",
   "execution_count": 425,
   "metadata": {},
   "outputs": [
    {
     "name": "stdout",
     "output_type": "stream",
     "text": [
      "tensor([[ -79.0718,  -11.1705],\n",
      "        [-107.7028,  -12.4451],\n",
      "        [ -97.9760,    0.7993],\n",
      "        [ -96.1509,  -33.6113],\n",
      "        [ -96.9081,    1.7224]], grad_fn=<AddBackward0>)\n"
     ]
    }
   ],
   "source": [
    "# Generazione predizioni\n",
    "\n",
    "pred = model(inputs)\n",
    "print(pred)"
   ]
  },
  {
   "cell_type": "code",
   "execution_count": 426,
   "metadata": {},
   "outputs": [
    {
     "name": "stdout",
     "output_type": "stream",
     "text": [
      "tensor(21053.0039, grad_fn=<DivBackward0>)\n"
     ]
    }
   ],
   "source": [
    "# Calcolo della perdita\n",
    "\n",
    "perdita = mse(pred, obiettivi)\n",
    "print(perdita)"
   ]
  },
  {
   "cell_type": "code",
   "execution_count": 427,
   "metadata": {},
   "outputs": [
    {
     "name": "stdout",
     "output_type": "stream",
     "text": [
      "tensor([[-0.6882,  0.0486, -0.7893],\n",
      "        [-0.5107,  0.2617,  0.1397]], requires_grad=True)\n",
      "tensor([1.1637, 2.0599], requires_grad=True)\n"
     ]
    }
   ],
   "source": [
    "print(pesi)\n",
    "print(bias)"
   ]
  },
  {
   "cell_type": "code",
   "execution_count": 428,
   "metadata": {},
   "outputs": [
    {
     "name": "stdout",
     "output_type": "stream",
     "text": [
      "tensor([[-14323.8164, -15800.4209,  -9766.9648],\n",
      "        [ -8592.7510,  -9486.2852,  -5848.1025]])\n",
      "tensor([-171.7619, -102.9411])\n"
     ]
    }
   ],
   "source": [
    "# Calcolo derivata\n",
    "\n",
    "perdita.backward()\n",
    "print(pesi.grad)\n",
    "print(bias.grad)"
   ]
  },
  {
   "cell_type": "code",
   "execution_count": 429,
   "metadata": {},
   "outputs": [],
   "source": [
    "# Calibrazione pesi e bias\n",
    "\n",
    "with torch.no_grad():\n",
    "    pesi -= pesi.grad * 1e-5        #perché mi da errore?: variable is 'unbound' ma il programma funziona lo stesso\n",
    "    bias -= bias.grad * 1e-5"
   ]
  },
  {
   "cell_type": "code",
   "execution_count": 430,
   "metadata": {},
   "outputs": [
    {
     "data": {
      "text/plain": [
       "tensor([0., 0.])"
      ]
     },
     "execution_count": 430,
     "metadata": {},
     "output_type": "execute_result"
    }
   ],
   "source": [
    "# Azzeramento pesi e bias\n",
    "\n",
    "pesi.grad.zero_()\n",
    "bias.grad.zero_()"
   ]
  },
  {
   "cell_type": "code",
   "execution_count": 431,
   "metadata": {},
   "outputs": [
    {
     "name": "stdout",
     "output_type": "stream",
     "text": [
      "tensor([[-0.5450,  0.2067, -0.6917],\n",
      "        [-0.4248,  0.3566,  0.1981]], requires_grad=True)\n",
      "tensor([1.1654, 2.0609], requires_grad=True)\n"
     ]
    }
   ],
   "source": [
    "# visualizzazione nuovi pesi e bias calibrati\n",
    "\n",
    "print(pesi)\n",
    "print(bias)"
   ]
  },
  {
   "cell_type": "code",
   "execution_count": 432,
   "metadata": {},
   "outputs": [
    {
     "name": "stdout",
     "output_type": "stream",
     "text": [
      "tensor(14239.1426, grad_fn=<DivBackward0>)\n"
     ]
    }
   ],
   "source": [
    "pred = model(inputs)\n",
    "perdita = mse(pred, obiettivi)\n",
    "print(perdita)"
   ]
  },
  {
   "attachments": {},
   "cell_type": "markdown",
   "metadata": {},
   "source": [
    "## Training per più epochs"
   ]
  },
  {
   "cell_type": "code",
   "execution_count": 433,
   "metadata": {},
   "outputs": [],
   "source": [
    "for i in range(100):\n",
    "    pred = model(inputs)\n",
    "    perdita = mse(pred, obiettivi)\n",
    "    perdita.backward()\n",
    "\n",
    "    with torch.no_grad():\n",
    "        pesi -= pesi.grad * 1e-5\n",
    "        bias -= bias.grad * 1e-5\n",
    "        pesi.grad.zero_()\n",
    "        bias.grad.zero_()"
   ]
  },
  {
   "cell_type": "code",
   "execution_count": 434,
   "metadata": {},
   "outputs": [
    {
     "name": "stdout",
     "output_type": "stream",
     "text": [
      "tensor(68.2037, grad_fn=<DivBackward0>)\n"
     ]
    }
   ],
   "source": [
    "pred = model(inputs)\n",
    "perdita = mse(pred, obiettivi)\n",
    "print(perdita)"
   ]
  },
  {
   "cell_type": "code",
   "execution_count": 435,
   "metadata": {},
   "outputs": [
    {
     "data": {
      "text/plain": [
       "tensor([[ 59.8985,  72.1854],\n",
       "        [ 77.3146,  98.4472],\n",
       "        [125.4897, 135.1190],\n",
       "        [ 34.8994,  44.9135],\n",
       "        [ 85.5778, 111.0749]], grad_fn=<AddBackward0>)"
      ]
     },
     "execution_count": 435,
     "metadata": {},
     "output_type": "execute_result"
    }
   ],
   "source": [
    "pred"
   ]
  },
  {
   "cell_type": "code",
   "execution_count": 436,
   "metadata": {},
   "outputs": [
    {
     "data": {
      "text/plain": [
       "tensor([[ 56.,  70.],\n",
       "        [ 81., 101.],\n",
       "        [119., 133.],\n",
       "        [ 22.,  37.],\n",
       "        [103., 119.]])"
      ]
     },
     "execution_count": 436,
     "metadata": {},
     "output_type": "execute_result"
    }
   ],
   "source": [
    "obiettivi"
   ]
  },
  {
   "attachments": {},
   "cell_type": "markdown",
   "metadata": {},
   "source": [
    "# Regressione lineare usando funzioni già presenti su PyTorch"
   ]
  },
  {
   "cell_type": "code",
   "execution_count": 437,
   "metadata": {},
   "outputs": [],
   "source": [
    "import torch.nn as nn"
   ]
  },
  {
   "cell_type": "code",
   "execution_count": 438,
   "metadata": {},
   "outputs": [],
   "source": [
    "# inizializzazione input e obiettivi\n",
    "\n",
    "\n",
    "inputs = np.array([[73, 67, 43],\n",
    "                   [91, 88, 64],\n",
    "                   [87, 134, 58],\n",
    "                   [102, 43, 37],\n",
    "                   [69, 96, 70],\n",
    "                   [74, 66, 43],\n",
    "                   [91, 86, 65],\n",
    "                   [88, 134, 59],\n",
    "                   [101, 44, 37],\n",
    "                   [68, 96, 71],\n",
    "                   [73, 66, 44],\n",
    "                   [92, 87, 64],\n",
    "                   [87, 135, 57],\n",
    "                   [103, 43, 36],\n",
    "                   [68, 97, 70]],\n",
    "                   dtype = 'float32'\n",
    "                  )\n",
    "\n",
    "obiettivi = np.array([[56, 70],\n",
    "                    [81, 101],\n",
    "                    [119, 133],\n",
    "                    [22, 37],\n",
    "                    [103, 119],\n",
    "                    [57, 69],\n",
    "                    [80, 102],\n",
    "                    [118, 132],\n",
    "                    [21, 38],\n",
    "                    [104, 118],\n",
    "                    [57, 69],\n",
    "                    [82, 100],\n",
    "                    [118, 134],\n",
    "                    [20, 38],\n",
    "                    [102, 120]],\n",
    "                    dtype = 'float32'\n",
    "                   )"
   ]
  },
  {
   "cell_type": "code",
   "execution_count": 439,
   "metadata": {},
   "outputs": [],
   "source": [
    "# Trasofrmazione degli input e obiettivi a tensori\n",
    "inputs = torch.from_numpy(inputs)\n",
    "obiettivi = torch.from_numpy(obiettivi)\n"
   ]
  },
  {
   "attachments": {},
   "cell_type": "markdown",
   "metadata": {},
   "source": [
    "## Dataset, DataLoader e regressione lineare"
   ]
  },
  {
   "cell_type": "code",
   "execution_count": 440,
   "metadata": {},
   "outputs": [],
   "source": [
    "from torch.utils.data import TensorDataset\n",
    "from torch.utils.data import DataLoader"
   ]
  },
  {
   "cell_type": "code",
   "execution_count": 441,
   "metadata": {},
   "outputs": [
    {
     "data": {
      "text/plain": [
       "(tensor([[ 73.,  67.,  43.],\n",
       "         [ 91.,  88.,  64.],\n",
       "         [ 87., 134.,  58.],\n",
       "         [102.,  43.,  37.],\n",
       "         [ 69.,  96.,  70.]]),\n",
       " tensor([[ 56.,  70.],\n",
       "         [ 81., 101.],\n",
       "         [119., 133.],\n",
       "         [ 22.,  37.],\n",
       "         [103., 119.]]))"
      ]
     },
     "execution_count": 441,
     "metadata": {},
     "output_type": "execute_result"
    }
   ],
   "source": [
    "# definizione del dataset\n",
    "train_ds = TensorDataset(inputs, obiettivi)\n",
    "train_ds[0:5]\n",
    "\n",
    "#TensorDataSet permette di accedere a piccole porzioni del data training usando la notazione array"
   ]
  },
  {
   "cell_type": "code",
   "execution_count": 442,
   "metadata": {},
   "outputs": [],
   "source": [
    "# definizione data loader\n",
    "\n",
    "batch_size = 5\n",
    "train_dl = DataLoader(train_ds, batch_size, shuffle = True)\n",
    "\n",
    "# DataLoader spezza il set di dati in lotti di una dimensione predefinita durante il training"
   ]
  },
  {
   "cell_type": "code",
   "execution_count": 443,
   "metadata": {},
   "outputs": [
    {
     "name": "stdout",
     "output_type": "stream",
     "text": [
      "tensor([[103.,  43.,  36.],\n",
      "        [ 92.,  87.,  64.],\n",
      "        [102.,  43.,  37.],\n",
      "        [ 73.,  67.,  43.],\n",
      "        [ 91.,  86.,  65.]])\n",
      "tensor([[ 20.,  38.],\n",
      "        [ 82., 100.],\n",
      "        [ 22.,  37.],\n",
      "        [ 56.,  70.],\n",
      "        [ 80., 102.]])\n"
     ]
    }
   ],
   "source": [
    "for xb, yb in train_dl:\n",
    "    print(xb)\n",
    "    print(yb)\n",
    "    break"
   ]
  },
  {
   "cell_type": "code",
   "execution_count": 444,
   "metadata": {},
   "outputs": [
    {
     "name": "stdout",
     "output_type": "stream",
     "text": [
      "Parameter containing:\n",
      "tensor([[ 0.3970, -0.5649,  0.3907],\n",
      "        [ 0.1361,  0.5138,  0.2441]], requires_grad=True)\n",
      "Parameter containing:\n",
      "tensor([-0.4026, -0.0020], requires_grad=True)\n",
      "torch.Size([2, 3])\n"
     ]
    }
   ],
   "source": [
    "# definizione del modello\n",
    "\n",
    "model = nn.Linear(3, 2)     #nn.Linear(numero input, numero output)\n",
    "print(model.weight)\n",
    "print(model.bias)\n",
    "\n",
    "print(model.weight.shape)"
   ]
  },
  {
   "cell_type": "code",
   "execution_count": null,
   "metadata": {},
   "outputs": [],
   "source": [
    "list()"
   ]
  },
  {
   "cell_type": "code",
   "execution_count": 445,
   "metadata": {},
   "outputs": [
    {
     "data": {
      "text/plain": [
       "torch.Size([2, 3])"
      ]
     },
     "execution_count": 445,
     "metadata": {},
     "output_type": "execute_result"
    }
   ],
   "source": [
    "model.weight.shape"
   ]
  },
  {
   "cell_type": "code",
   "execution_count": 446,
   "metadata": {},
   "outputs": [
    {
     "data": {
      "text/plain": [
       "torch.Size([2])"
      ]
     },
     "execution_count": 446,
     "metadata": {},
     "output_type": "execute_result"
    }
   ],
   "source": [
    "model.bias.shape"
   ]
  },
  {
   "cell_type": "code",
   "execution_count": 447,
   "metadata": {},
   "outputs": [
    {
     "name": "stdout",
     "output_type": "stream",
     "text": [
      "tensor([[  7.5356,  54.8581],\n",
      "        [ 11.0251,  73.2251],\n",
      "        [-18.8910,  94.8521],\n",
      "        [ 30.2616,  45.0086],\n",
      "        [  0.1160,  75.8061],\n",
      "        [  8.4974,  54.4804],\n",
      "        [ 12.5455,  72.4416],\n",
      "        [-18.1033,  95.2323],\n",
      "        [ 29.2997,  45.3864],\n",
      "        [  0.1097,  75.9141],\n",
      "        [  8.4911,  54.5884],\n",
      "        [ 11.9870,  72.8474],\n",
      "        [-19.8466,  95.1218],\n",
      "        [ 30.2679,  44.9006],\n",
      "        [ -0.8459,  76.1838]], grad_fn=<AddmmBackward0>)\n"
     ]
    }
   ],
   "source": [
    "pred = model(inputs)\n",
    "print(pred)"
   ]
  },
  {
   "attachments": {},
   "cell_type": "markdown",
   "metadata": {},
   "source": [
    "## Funzione di perdita"
   ]
  },
  {
   "cell_type": "code",
   "execution_count": 448,
   "metadata": {},
   "outputs": [],
   "source": [
    "import torch.nn.functional as F"
   ]
  },
  {
   "cell_type": "code",
   "execution_count": 449,
   "metadata": {},
   "outputs": [],
   "source": [
    "funz_perdita = F.mse_loss\n",
    "\n",
    "# definizione funzione di perdita con mse"
   ]
  },
  {
   "cell_type": "code",
   "execution_count": 450,
   "metadata": {},
   "outputs": [
    {
     "name": "stdout",
     "output_type": "stream",
     "text": [
      "tensor(4107.0879, grad_fn=<MseLossBackward0>)\n"
     ]
    }
   ],
   "source": [
    "perdita = funz_perdita(model(inputs), obiettivi)\n",
    "print(perdita)"
   ]
  },
  {
   "attachments": {},
   "cell_type": "markdown",
   "metadata": {},
   "source": [
    "## Ottimizzazione perdita"
   ]
  },
  {
   "cell_type": "code",
   "execution_count": 451,
   "metadata": {},
   "outputs": [],
   "source": [
    "ott = torch.optim.SGD(model.parameters(), lr = 1e-5)"
   ]
  },
  {
   "attachments": {},
   "cell_type": "markdown",
   "metadata": {},
   "source": [
    "# Funzione per training"
   ]
  },
  {
   "cell_type": "code",
   "execution_count": 452,
   "metadata": {},
   "outputs": [],
   "source": [
    "def fit(num_epochs, model, funz_perdita, ott, train_dl):\n",
    "    for epoch in range(num_epochs):\n",
    "        for xb, yb in train_dl:\n",
    "            \n",
    "            # 1. genreazione predizioni\n",
    "            pred = model(xb)\n",
    "            \n",
    "            # 2. calcolo perdita\n",
    "            perdita = funz_perdita(pred, yb)\n",
    "            \n",
    "            # 3. calcolo derivata\n",
    "            perdita.backward()\n",
    "            \n",
    "            # 4. aggiornamento parametri usando derivate\n",
    "            ott.step()\n",
    "            \n",
    "            # reset derivate a zero\n",
    "            ott.zero_grad()\n",
    "        if(epoch+1) % 10 == 0:\n",
    "            print('Epoch [{}/{}], Perdita: {:.4f}'.format(epoch+1, num_epochs, perdita.item()))"
   ]
  },
  {
   "cell_type": "code",
   "execution_count": 453,
   "metadata": {},
   "outputs": [
    {
     "name": "stdout",
     "output_type": "stream",
     "text": [
      "Epoch [10/100], Perdita: 732.0026\n",
      "Epoch [20/100], Perdita: 160.7530\n",
      "Epoch [30/100], Perdita: 462.4055\n",
      "Epoch [40/100], Perdita: 197.0450\n",
      "Epoch [50/100], Perdita: 136.1533\n",
      "Epoch [60/100], Perdita: 156.8247\n",
      "Epoch [70/100], Perdita: 56.5696\n",
      "Epoch [80/100], Perdita: 75.0165\n",
      "Epoch [90/100], Perdita: 44.7002\n",
      "Epoch [100/100], Perdita: 26.6781\n"
     ]
    }
   ],
   "source": [
    "fit(100, model, funz_perdita, ott, train_dl)"
   ]
  },
  {
   "cell_type": "code",
   "execution_count": 454,
   "metadata": {},
   "outputs": [
    {
     "data": {
      "text/plain": [
       "tensor([[ 58.7101,  71.4303],\n",
       "        [ 83.8615,  98.2213],\n",
       "        [111.9501, 136.9023],\n",
       "        [ 30.9102,  43.0715],\n",
       "        [ 99.0190, 111.3300],\n",
       "        [ 57.7831,  70.4012],\n",
       "        [ 83.2166,  96.9307],\n",
       "        [112.4293, 137.2647],\n",
       "        [ 31.8372,  44.1006],\n",
       "        [ 99.9848, 111.9625],\n",
       "        [ 58.7490,  71.0337],\n",
       "        [ 82.9345,  97.1922],\n",
       "        [111.9113, 137.2988],\n",
       "        [ 29.9444,  42.4389],\n",
       "        [ 99.9460, 112.3591]], grad_fn=<AddmmBackward0>)"
      ]
     },
     "execution_count": 454,
     "metadata": {},
     "output_type": "execute_result"
    }
   ],
   "source": [
    "pred = model(inputs)\n",
    "pred"
   ]
  },
  {
   "cell_type": "code",
   "execution_count": 455,
   "metadata": {},
   "outputs": [
    {
     "data": {
      "text/plain": [
       "tensor([[ 56.,  70.],\n",
       "        [ 81., 101.],\n",
       "        [119., 133.],\n",
       "        [ 22.,  37.],\n",
       "        [103., 119.],\n",
       "        [ 57.,  69.],\n",
       "        [ 80., 102.],\n",
       "        [118., 132.],\n",
       "        [ 21.,  38.],\n",
       "        [104., 118.],\n",
       "        [ 57.,  69.],\n",
       "        [ 82., 100.],\n",
       "        [118., 134.],\n",
       "        [ 20.,  38.],\n",
       "        [102., 120.]])"
      ]
     },
     "execution_count": 455,
     "metadata": {},
     "output_type": "execute_result"
    }
   ],
   "source": [
    "obiettivi"
   ]
  }
 ],
 "metadata": {
  "kernelspec": {
   "display_name": "base",
   "language": "python",
   "name": "python3"
  },
  "language_info": {
   "codemirror_mode": {
    "name": "ipython",
    "version": 3
   },
   "file_extension": ".py",
   "mimetype": "text/x-python",
   "name": "python",
   "nbconvert_exporter": "python",
   "pygments_lexer": "ipython3",
   "version": "3.10.10"
  },
  "orig_nbformat": 4
 },
 "nbformat": 4,
 "nbformat_minor": 2
}
