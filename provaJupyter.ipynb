{
 "cells": [
  {
   "cell_type": "code",
   "execution_count": 77,
   "metadata": {},
   "outputs": [
    {
     "name": "stdout",
     "output_type": "stream",
     "text": [
      "                   Gender  Age_at_scan_years Survival_from_surgery_days  \\\n",
      "ID                                                                        \n",
      "UPENN-GBM-00001_11      F              52.16              Not Available   \n",
      "UPENN-GBM-00002_11      F              61.30                        291   \n",
      "UPENN-GBM-00003_11      M              42.82              Not Available   \n",
      "UPENN-GBM-00004_11      M              33.43              Not Available   \n",
      "UPENN-GBM-00005_11      M              53.33              Not Available   \n",
      "UPENN-GBM-00006_11      M              52.99                        626   \n",
      "UPENN-GBM-00007_11      M              56.96              Not Available   \n",
      "UPENN-GBM-00008_11      F              55.06                        469   \n",
      "UPENN-GBM-00009_11      M              69.12                        561   \n",
      "UPENN-GBM-00010_11      M              77.54              Not Available   \n",
      "\n",
      "                        IDH1           MGMT            KPS GTR_over90percent  \\\n",
      "ID                                                                             \n",
      "UPENN-GBM-00001_11  Wildtype  Not Available  Not Available                 Y   \n",
      "UPENN-GBM-00002_11  Wildtype  Not Available  Not Available                 Y   \n",
      "UPENN-GBM-00003_11  Wildtype  Not Available  Not Available                 Y   \n",
      "UPENN-GBM-00004_11   NOS/NEC  Not Available  Not Available                 Y   \n",
      "UPENN-GBM-00005_11  Wildtype  Not Available  Not Available                 Y   \n",
      "UPENN-GBM-00006_11  Wildtype  Not Available  Not Available                 Y   \n",
      "UPENN-GBM-00007_11  Wildtype  Not Available  Not Available                 Y   \n",
      "UPENN-GBM-00008_11  Wildtype  Not Available  Not Available                 Y   \n",
      "UPENN-GBM-00009_11  Wildtype  Not Available  Not Available                 Y   \n",
      "UPENN-GBM-00010_11  Wildtype  Not Available  Not Available                 Y   \n",
      "\n",
      "                    Time_since_baseline_preop  PsP_TP_score  \n",
      "ID                                                           \n",
      "UPENN-GBM-00001_11                          0           NaN  \n",
      "UPENN-GBM-00002_11                          0           NaN  \n",
      "UPENN-GBM-00003_11                          0           NaN  \n",
      "UPENN-GBM-00004_11                          0           NaN  \n",
      "UPENN-GBM-00005_11                          0           NaN  \n",
      "UPENN-GBM-00006_11                          0           NaN  \n",
      "UPENN-GBM-00007_11                          0           NaN  \n",
      "UPENN-GBM-00008_11                          0           NaN  \n",
      "UPENN-GBM-00009_11                          0           NaN  \n",
      "UPENN-GBM-00010_11                          0           NaN  \n"
     ]
    }
   ],
   "source": [
    "import pandas as pd\n",
    "data = pd.read_csv('data/clinical_info_v1.0.csv', index_col = 'ID')\n",
    "\n",
    "print(data)"
   ]
  },
  {
   "cell_type": "code",
   "execution_count": 78,
   "metadata": {},
   "outputs": [
    {
     "data": {
      "text/html": [
       "<div>\n",
       "<style scoped>\n",
       "    .dataframe tbody tr th:only-of-type {\n",
       "        vertical-align: middle;\n",
       "    }\n",
       "\n",
       "    .dataframe tbody tr th {\n",
       "        vertical-align: top;\n",
       "    }\n",
       "\n",
       "    .dataframe thead th {\n",
       "        text-align: right;\n",
       "    }\n",
       "</style>\n",
       "<table border=\"1\" class=\"dataframe\">\n",
       "  <thead>\n",
       "    <tr style=\"text-align: right;\">\n",
       "      <th></th>\n",
       "      <th>Gender</th>\n",
       "      <th>Age_at_scan_years</th>\n",
       "      <th>Survival_from_surgery_days</th>\n",
       "      <th>IDH1</th>\n",
       "      <th>MGMT</th>\n",
       "      <th>KPS</th>\n",
       "      <th>GTR_over90percent</th>\n",
       "      <th>Time_since_baseline_preop</th>\n",
       "      <th>PsP_TP_score</th>\n",
       "    </tr>\n",
       "    <tr>\n",
       "      <th>ID</th>\n",
       "      <th></th>\n",
       "      <th></th>\n",
       "      <th></th>\n",
       "      <th></th>\n",
       "      <th></th>\n",
       "      <th></th>\n",
       "      <th></th>\n",
       "      <th></th>\n",
       "      <th></th>\n",
       "    </tr>\n",
       "  </thead>\n",
       "  <tbody>\n",
       "    <tr>\n",
       "      <th>UPENN-GBM-00001_11</th>\n",
       "      <td>F</td>\n",
       "      <td>52.16</td>\n",
       "      <td>Not Available</td>\n",
       "      <td>Wildtype</td>\n",
       "      <td>Not Available</td>\n",
       "      <td>Not Available</td>\n",
       "      <td>Y</td>\n",
       "      <td>0</td>\n",
       "      <td>NaN</td>\n",
       "    </tr>\n",
       "    <tr>\n",
       "      <th>UPENN-GBM-00002_11</th>\n",
       "      <td>F</td>\n",
       "      <td>61.30</td>\n",
       "      <td>291</td>\n",
       "      <td>Wildtype</td>\n",
       "      <td>Not Available</td>\n",
       "      <td>Not Available</td>\n",
       "      <td>Y</td>\n",
       "      <td>0</td>\n",
       "      <td>NaN</td>\n",
       "    </tr>\n",
       "    <tr>\n",
       "      <th>UPENN-GBM-00003_11</th>\n",
       "      <td>M</td>\n",
       "      <td>42.82</td>\n",
       "      <td>Not Available</td>\n",
       "      <td>Wildtype</td>\n",
       "      <td>Not Available</td>\n",
       "      <td>Not Available</td>\n",
       "      <td>Y</td>\n",
       "      <td>0</td>\n",
       "      <td>NaN</td>\n",
       "    </tr>\n",
       "    <tr>\n",
       "      <th>UPENN-GBM-00004_11</th>\n",
       "      <td>M</td>\n",
       "      <td>33.43</td>\n",
       "      <td>Not Available</td>\n",
       "      <td>NOS/NEC</td>\n",
       "      <td>Not Available</td>\n",
       "      <td>Not Available</td>\n",
       "      <td>Y</td>\n",
       "      <td>0</td>\n",
       "      <td>NaN</td>\n",
       "    </tr>\n",
       "    <tr>\n",
       "      <th>UPENN-GBM-00005_11</th>\n",
       "      <td>M</td>\n",
       "      <td>53.33</td>\n",
       "      <td>Not Available</td>\n",
       "      <td>Wildtype</td>\n",
       "      <td>Not Available</td>\n",
       "      <td>Not Available</td>\n",
       "      <td>Y</td>\n",
       "      <td>0</td>\n",
       "      <td>NaN</td>\n",
       "    </tr>\n",
       "    <tr>\n",
       "      <th>UPENN-GBM-00006_11</th>\n",
       "      <td>M</td>\n",
       "      <td>52.99</td>\n",
       "      <td>626</td>\n",
       "      <td>Wildtype</td>\n",
       "      <td>Not Available</td>\n",
       "      <td>Not Available</td>\n",
       "      <td>Y</td>\n",
       "      <td>0</td>\n",
       "      <td>NaN</td>\n",
       "    </tr>\n",
       "    <tr>\n",
       "      <th>UPENN-GBM-00007_11</th>\n",
       "      <td>M</td>\n",
       "      <td>56.96</td>\n",
       "      <td>Not Available</td>\n",
       "      <td>Wildtype</td>\n",
       "      <td>Not Available</td>\n",
       "      <td>Not Available</td>\n",
       "      <td>Y</td>\n",
       "      <td>0</td>\n",
       "      <td>NaN</td>\n",
       "    </tr>\n",
       "    <tr>\n",
       "      <th>UPENN-GBM-00008_11</th>\n",
       "      <td>F</td>\n",
       "      <td>55.06</td>\n",
       "      <td>469</td>\n",
       "      <td>Wildtype</td>\n",
       "      <td>Not Available</td>\n",
       "      <td>Not Available</td>\n",
       "      <td>Y</td>\n",
       "      <td>0</td>\n",
       "      <td>NaN</td>\n",
       "    </tr>\n",
       "    <tr>\n",
       "      <th>UPENN-GBM-00009_11</th>\n",
       "      <td>M</td>\n",
       "      <td>69.12</td>\n",
       "      <td>561</td>\n",
       "      <td>Wildtype</td>\n",
       "      <td>Not Available</td>\n",
       "      <td>Not Available</td>\n",
       "      <td>Y</td>\n",
       "      <td>0</td>\n",
       "      <td>NaN</td>\n",
       "    </tr>\n",
       "    <tr>\n",
       "      <th>UPENN-GBM-00010_11</th>\n",
       "      <td>M</td>\n",
       "      <td>77.54</td>\n",
       "      <td>Not Available</td>\n",
       "      <td>Wildtype</td>\n",
       "      <td>Not Available</td>\n",
       "      <td>Not Available</td>\n",
       "      <td>Y</td>\n",
       "      <td>0</td>\n",
       "      <td>NaN</td>\n",
       "    </tr>\n",
       "  </tbody>\n",
       "</table>\n",
       "</div>"
      ],
      "text/plain": [
       "                   Gender  Age_at_scan_years Survival_from_surgery_days  \\\n",
       "ID                                                                        \n",
       "UPENN-GBM-00001_11      F              52.16              Not Available   \n",
       "UPENN-GBM-00002_11      F              61.30                        291   \n",
       "UPENN-GBM-00003_11      M              42.82              Not Available   \n",
       "UPENN-GBM-00004_11      M              33.43              Not Available   \n",
       "UPENN-GBM-00005_11      M              53.33              Not Available   \n",
       "UPENN-GBM-00006_11      M              52.99                        626   \n",
       "UPENN-GBM-00007_11      M              56.96              Not Available   \n",
       "UPENN-GBM-00008_11      F              55.06                        469   \n",
       "UPENN-GBM-00009_11      M              69.12                        561   \n",
       "UPENN-GBM-00010_11      M              77.54              Not Available   \n",
       "\n",
       "                        IDH1           MGMT            KPS GTR_over90percent  \\\n",
       "ID                                                                             \n",
       "UPENN-GBM-00001_11  Wildtype  Not Available  Not Available                 Y   \n",
       "UPENN-GBM-00002_11  Wildtype  Not Available  Not Available                 Y   \n",
       "UPENN-GBM-00003_11  Wildtype  Not Available  Not Available                 Y   \n",
       "UPENN-GBM-00004_11   NOS/NEC  Not Available  Not Available                 Y   \n",
       "UPENN-GBM-00005_11  Wildtype  Not Available  Not Available                 Y   \n",
       "UPENN-GBM-00006_11  Wildtype  Not Available  Not Available                 Y   \n",
       "UPENN-GBM-00007_11  Wildtype  Not Available  Not Available                 Y   \n",
       "UPENN-GBM-00008_11  Wildtype  Not Available  Not Available                 Y   \n",
       "UPENN-GBM-00009_11  Wildtype  Not Available  Not Available                 Y   \n",
       "UPENN-GBM-00010_11  Wildtype  Not Available  Not Available                 Y   \n",
       "\n",
       "                    Time_since_baseline_preop  PsP_TP_score  \n",
       "ID                                                           \n",
       "UPENN-GBM-00001_11                          0           NaN  \n",
       "UPENN-GBM-00002_11                          0           NaN  \n",
       "UPENN-GBM-00003_11                          0           NaN  \n",
       "UPENN-GBM-00004_11                          0           NaN  \n",
       "UPENN-GBM-00005_11                          0           NaN  \n",
       "UPENN-GBM-00006_11                          0           NaN  \n",
       "UPENN-GBM-00007_11                          0           NaN  \n",
       "UPENN-GBM-00008_11                          0           NaN  \n",
       "UPENN-GBM-00009_11                          0           NaN  \n",
       "UPENN-GBM-00010_11                          0           NaN  "
      ]
     },
     "execution_count": 78,
     "metadata": {},
     "output_type": "execute_result"
    }
   ],
   "source": [
    "data.head(10)"
   ]
  },
  {
   "cell_type": "code",
   "execution_count": 79,
   "metadata": {},
   "outputs": [
    {
     "name": "stdout",
     "output_type": "stream",
     "text": [
      "                   ID Gender  Age_at_scan_years Survival_from_surgery_days  \\\n",
      "0  UPENN-GBM-00001_11      F              52.16              Not Available   \n",
      "1  UPENN-GBM-00002_11      F              61.30                        291   \n",
      "2  UPENN-GBM-00003_11      M              42.82              Not Available   \n",
      "3  UPENN-GBM-00004_11      M              33.43              Not Available   \n",
      "4  UPENN-GBM-00005_11      M              53.33              Not Available   \n",
      "5  UPENN-GBM-00006_11      M              52.99                        626   \n",
      "6  UPENN-GBM-00007_11      M              56.96              Not Available   \n",
      "7  UPENN-GBM-00008_11      F              55.06                        469   \n",
      "8  UPENN-GBM-00009_11      M              69.12                        561   \n",
      "9  UPENN-GBM-00010_11      M              77.54              Not Available   \n",
      "\n",
      "       IDH1           MGMT            KPS GTR_over90percent  \\\n",
      "0  Wildtype  Not Available  Not Available                 Y   \n",
      "1  Wildtype  Not Available  Not Available                 Y   \n",
      "2  Wildtype  Not Available  Not Available                 Y   \n",
      "3   NOS/NEC  Not Available  Not Available                 Y   \n",
      "4  Wildtype  Not Available  Not Available                 Y   \n",
      "5  Wildtype  Not Available  Not Available                 Y   \n",
      "6  Wildtype  Not Available  Not Available                 Y   \n",
      "7  Wildtype  Not Available  Not Available                 Y   \n",
      "8  Wildtype  Not Available  Not Available                 Y   \n",
      "9  Wildtype  Not Available  Not Available                 Y   \n",
      "\n",
      "   Time_since_baseline_preop  PsP_TP_score  \n",
      "0                          0           NaN  \n",
      "1                          0           NaN  \n",
      "2                          0           NaN  \n",
      "3                          0           NaN  \n",
      "4                          0           NaN  \n",
      "5                          0           NaN  \n",
      "6                          0           NaN  \n",
      "7                          0           NaN  \n",
      "8                          0           NaN  \n",
      "9                          0           NaN  \n"
     ]
    }
   ],
   "source": [
    "data = pd.read_csv('data/clinical_info_v1.0.csv')\n",
    "\n",
    "print(data)"
   ]
  },
  {
   "cell_type": "code",
   "execution_count": 80,
   "metadata": {},
   "outputs": [
    {
     "name": "stdout",
     "output_type": "stream",
     "text": [
      "       Age_at_scan_years  Time_since_baseline_preop  PsP_TP_score\n",
      "count          10.000000                       10.0           0.0\n",
      "mean           55.471000                        0.0           NaN\n",
      "std            12.370461                        0.0           NaN\n",
      "min            33.430000                        0.0           NaN\n",
      "25%            52.367500                        0.0           NaN\n",
      "50%            54.195000                        0.0           NaN\n",
      "75%            60.215000                        0.0           NaN\n",
      "max            77.540000                        0.0           NaN\n"
     ]
    }
   ],
   "source": [
    "print(data.describe())"
   ]
  },
  {
   "cell_type": "code",
   "execution_count": 81,
   "metadata": {},
   "outputs": [
    {
     "name": "stdout",
     "output_type": "stream",
     "text": [
      "UPENN-GBM-00001_11\n"
     ]
    }
   ],
   "source": [
    "print(data.iloc[0, 0])"
   ]
  },
  {
   "cell_type": "code",
   "execution_count": 82,
   "metadata": {},
   "outputs": [
    {
     "name": "stdout",
     "output_type": "stream",
     "text": [
      "0    Not Available\n",
      "1              291\n",
      "2    Not Available\n",
      "3    Not Available\n",
      "4    Not Available\n",
      "5              626\n",
      "6    Not Available\n",
      "7              469\n",
      "8              561\n",
      "9    Not Available\n",
      "Name: Survival_from_surgery_days, dtype: object\n"
     ]
    }
   ],
   "source": [
    "print(data.loc[:, 'Survival_from_surgery_days'])"
   ]
  },
  {
   "cell_type": "code",
   "execution_count": 83,
   "metadata": {},
   "outputs": [
    {
     "name": "stdout",
     "output_type": "stream",
     "text": [
      "                   ID Gender  Age_at_scan_years Survival_from_surgery_days  \\\n",
      "0  UPENN-GBM-00001_11      F              52.16              Not Available   \n",
      "1  UPENN-GBM-00002_11      F              61.30                        291   \n",
      "2  UPENN-GBM-00003_11      M              42.82              Not Available   \n",
      "3  UPENN-GBM-00004_11      M              33.43              Not Available   \n",
      "4  UPENN-GBM-00005_11      M              53.33              Not Available   \n",
      "5  UPENN-GBM-00006_11      M              52.99                        626   \n",
      "6  UPENN-GBM-00007_11      M              56.96              Not Available   \n",
      "7  UPENN-GBM-00008_11      F              55.06                        469   \n",
      "8  UPENN-GBM-00009_11      M              69.12                        561   \n",
      "9  UPENN-GBM-00010_11      M              77.54              Not Available   \n",
      "\n",
      "       IDH1           MGMT            KPS GTR_over90percent  \\\n",
      "0  Wildtype  Not Available  Not Available                 Y   \n",
      "1  Wildtype  Not Available  Not Available                 Y   \n",
      "2  Wildtype  Not Available  Not Available                 Y   \n",
      "3   NOS/NEC  Not Available  Not Available                 Y   \n",
      "4  Wildtype  Not Available  Not Available                 Y   \n",
      "5  Wildtype  Not Available  Not Available                 Y   \n",
      "6  Wildtype  Not Available  Not Available                 Y   \n",
      "7  Wildtype  Not Available  Not Available                 Y   \n",
      "8  Wildtype  Not Available  Not Available                 Y   \n",
      "9  Wildtype  Not Available  Not Available                 Y   \n",
      "\n",
      "   Time_since_baseline_preop  PsP_TP_score  \n",
      "0                          0           NaN  \n",
      "1                          0           NaN  \n",
      "2                          0           NaN  \n",
      "3                          0           NaN  \n",
      "4                          0           NaN  \n",
      "5                          0           NaN  \n",
      "6                          0           NaN  \n",
      "7                          0           NaN  \n",
      "8                          0           NaN  \n",
      "9                          0           NaN  \n"
     ]
    }
   ],
   "source": [
    "print(data)"
   ]
  },
  {
   "cell_type": "code",
   "execution_count": 84,
   "metadata": {},
   "outputs": [],
   "source": [
    "data.drop(data[data[\"Survival_from_surgery_days\"] == 'Not Available'].index, inplace =True)"
   ]
  },
  {
   "cell_type": "code",
   "execution_count": 85,
   "metadata": {},
   "outputs": [
    {
     "name": "stdout",
     "output_type": "stream",
     "text": [
      "                   ID Gender  Age_at_scan_years Survival_from_surgery_days  \\\n",
      "1  UPENN-GBM-00002_11      F              61.30                        291   \n",
      "5  UPENN-GBM-00006_11      M              52.99                        626   \n",
      "7  UPENN-GBM-00008_11      F              55.06                        469   \n",
      "8  UPENN-GBM-00009_11      M              69.12                        561   \n",
      "\n",
      "       IDH1           MGMT            KPS GTR_over90percent  \\\n",
      "1  Wildtype  Not Available  Not Available                 Y   \n",
      "5  Wildtype  Not Available  Not Available                 Y   \n",
      "7  Wildtype  Not Available  Not Available                 Y   \n",
      "8  Wildtype  Not Available  Not Available                 Y   \n",
      "\n",
      "   Time_since_baseline_preop  PsP_TP_score  \n",
      "1                          0           NaN  \n",
      "5                          0           NaN  \n",
      "7                          0           NaN  \n",
      "8                          0           NaN  \n"
     ]
    }
   ],
   "source": [
    "print(data)\n"
   ]
  },
  {
   "cell_type": "code",
   "execution_count": 92,
   "metadata": {},
   "outputs": [
    {
     "ename": "KeyError",
     "evalue": "'ID'",
     "output_type": "error",
     "traceback": [
      "\u001b[0;31m---------------------------------------------------------------------------\u001b[0m",
      "\u001b[0;31mKeyError\u001b[0m                                  Traceback (most recent call last)",
      "File \u001b[0;32m~/anaconda3/lib/python3.10/site-packages/pandas/core/indexes/base.py:3802\u001b[0m, in \u001b[0;36mIndex.get_loc\u001b[0;34m(self, key, method, tolerance)\u001b[0m\n\u001b[1;32m   3801\u001b[0m \u001b[39mtry\u001b[39;00m:\n\u001b[0;32m-> 3802\u001b[0m     \u001b[39mreturn\u001b[39;00m \u001b[39mself\u001b[39;49m\u001b[39m.\u001b[39;49m_engine\u001b[39m.\u001b[39;49mget_loc(casted_key)\n\u001b[1;32m   3803\u001b[0m \u001b[39mexcept\u001b[39;00m \u001b[39mKeyError\u001b[39;00m \u001b[39mas\u001b[39;00m err:\n",
      "File \u001b[0;32m~/anaconda3/lib/python3.10/site-packages/pandas/_libs/index.pyx:138\u001b[0m, in \u001b[0;36mpandas._libs.index.IndexEngine.get_loc\u001b[0;34m()\u001b[0m\n",
      "File \u001b[0;32m~/anaconda3/lib/python3.10/site-packages/pandas/_libs/index.pyx:146\u001b[0m, in \u001b[0;36mpandas._libs.index.IndexEngine.get_loc\u001b[0;34m()\u001b[0m\n",
      "File \u001b[0;32mpandas/_libs/index_class_helper.pxi:49\u001b[0m, in \u001b[0;36mpandas._libs.index.Int64Engine._check_type\u001b[0;34m()\u001b[0m\n",
      "\u001b[0;31mKeyError\u001b[0m: 'ID'",
      "\nThe above exception was the direct cause of the following exception:\n",
      "\u001b[0;31mKeyError\u001b[0m                                  Traceback (most recent call last)",
      "Cell \u001b[0;32mIn[92], line 1\u001b[0m\n\u001b[0;32m----> 1\u001b[0m \u001b[39mprint\u001b[39m(data\u001b[39m.\u001b[39;49mloc[\u001b[39m'\u001b[39;49m\u001b[39mID\u001b[39;49m\u001b[39m'\u001b[39;49m, \u001b[39m'\u001b[39;49m\u001b[39mSurvival_from_surgery_days\u001b[39;49m\u001b[39m'\u001b[39;49m])\n",
      "File \u001b[0;32m~/anaconda3/lib/python3.10/site-packages/pandas/core/indexing.py:1066\u001b[0m, in \u001b[0;36m_LocationIndexer.__getitem__\u001b[0;34m(self, key)\u001b[0m\n\u001b[1;32m   1064\u001b[0m     key \u001b[39m=\u001b[39m \u001b[39mtuple\u001b[39m(com\u001b[39m.\u001b[39mapply_if_callable(x, \u001b[39mself\u001b[39m\u001b[39m.\u001b[39mobj) \u001b[39mfor\u001b[39;00m x \u001b[39min\u001b[39;00m key)\n\u001b[1;32m   1065\u001b[0m     \u001b[39mif\u001b[39;00m \u001b[39mself\u001b[39m\u001b[39m.\u001b[39m_is_scalar_access(key):\n\u001b[0;32m-> 1066\u001b[0m         \u001b[39mreturn\u001b[39;00m \u001b[39mself\u001b[39;49m\u001b[39m.\u001b[39;49mobj\u001b[39m.\u001b[39;49m_get_value(\u001b[39m*\u001b[39;49mkey, takeable\u001b[39m=\u001b[39;49m\u001b[39mself\u001b[39;49m\u001b[39m.\u001b[39;49m_takeable)\n\u001b[1;32m   1067\u001b[0m     \u001b[39mreturn\u001b[39;00m \u001b[39mself\u001b[39m\u001b[39m.\u001b[39m_getitem_tuple(key)\n\u001b[1;32m   1068\u001b[0m \u001b[39melse\u001b[39;00m:\n\u001b[1;32m   1069\u001b[0m     \u001b[39m# we by definition only have the 0th axis\u001b[39;00m\n",
      "File \u001b[0;32m~/anaconda3/lib/python3.10/site-packages/pandas/core/frame.py:3924\u001b[0m, in \u001b[0;36mDataFrame._get_value\u001b[0;34m(self, index, col, takeable)\u001b[0m\n\u001b[1;32m   3918\u001b[0m engine \u001b[39m=\u001b[39m \u001b[39mself\u001b[39m\u001b[39m.\u001b[39mindex\u001b[39m.\u001b[39m_engine\n\u001b[1;32m   3920\u001b[0m \u001b[39mif\u001b[39;00m \u001b[39mnot\u001b[39;00m \u001b[39misinstance\u001b[39m(\u001b[39mself\u001b[39m\u001b[39m.\u001b[39mindex, MultiIndex):\n\u001b[1;32m   3921\u001b[0m     \u001b[39m# CategoricalIndex: Trying to use the engine fastpath may give incorrect\u001b[39;00m\n\u001b[1;32m   3922\u001b[0m     \u001b[39m#  results if our categories are integers that dont match our codes\u001b[39;00m\n\u001b[1;32m   3923\u001b[0m     \u001b[39m# IntervalIndex: IntervalTree has no get_loc\u001b[39;00m\n\u001b[0;32m-> 3924\u001b[0m     row \u001b[39m=\u001b[39m \u001b[39mself\u001b[39;49m\u001b[39m.\u001b[39;49mindex\u001b[39m.\u001b[39;49mget_loc(index)\n\u001b[1;32m   3925\u001b[0m     \u001b[39mreturn\u001b[39;00m series\u001b[39m.\u001b[39m_values[row]\n\u001b[1;32m   3927\u001b[0m \u001b[39m# For MultiIndex going through engine effectively restricts us to\u001b[39;00m\n\u001b[1;32m   3928\u001b[0m \u001b[39m#  same-length tuples; see test_get_set_value_no_partial_indexing\u001b[39;00m\n",
      "File \u001b[0;32m~/anaconda3/lib/python3.10/site-packages/pandas/core/indexes/base.py:3804\u001b[0m, in \u001b[0;36mIndex.get_loc\u001b[0;34m(self, key, method, tolerance)\u001b[0m\n\u001b[1;32m   3802\u001b[0m     \u001b[39mreturn\u001b[39;00m \u001b[39mself\u001b[39m\u001b[39m.\u001b[39m_engine\u001b[39m.\u001b[39mget_loc(casted_key)\n\u001b[1;32m   3803\u001b[0m \u001b[39mexcept\u001b[39;00m \u001b[39mKeyError\u001b[39;00m \u001b[39mas\u001b[39;00m err:\n\u001b[0;32m-> 3804\u001b[0m     \u001b[39mraise\u001b[39;00m \u001b[39mKeyError\u001b[39;00m(key) \u001b[39mfrom\u001b[39;00m \u001b[39merr\u001b[39;00m\n\u001b[1;32m   3805\u001b[0m \u001b[39mexcept\u001b[39;00m \u001b[39mTypeError\u001b[39;00m:\n\u001b[1;32m   3806\u001b[0m     \u001b[39m# If we have a listlike key, _check_indexing_error will raise\u001b[39;00m\n\u001b[1;32m   3807\u001b[0m     \u001b[39m#  InvalidIndexError. Otherwise we fall through and re-raise\u001b[39;00m\n\u001b[1;32m   3808\u001b[0m     \u001b[39m#  the TypeError.\u001b[39;00m\n\u001b[1;32m   3809\u001b[0m     \u001b[39mself\u001b[39m\u001b[39m.\u001b[39m_check_indexing_error(key)\n",
      "\u001b[0;31mKeyError\u001b[0m: 'ID'"
     ]
    }
   ],
   "source": [
    "# print(data.loc['ID', 'Survival_from_surgery_days'])\n",
    "#cosa cazzo non funziona?"
   ]
  },
  {
   "cell_type": "code",
   "execution_count": null,
   "metadata": {},
   "outputs": [
    {
     "data": {
      "text/plain": [
       "Text(0, 0.5, 'Position (km)')"
      ]
     },
     "execution_count": 1,
     "metadata": {},
     "output_type": "execute_result"
    },
    {
     "data": {
      "image/png": "[encoded data removed]",
      "text/plain": [
       "<Figure size 640x480 with 1 Axes>"
      ]
     },
     "metadata": {},
     "output_type": "display_data"
    }
   ],
   "source": [
    "import matplotlib.pyplot as plt\n",
    "\n",
    "time = [0, 1, 2, 3]\n",
    "position = [0, 100, 200, 300]\n",
    "\n",
    "plt.plot(time, position)\n",
    "plt.xlabel('Time (hr)')\n",
    "plt.ylabel('Position (km)')"
   ]
  },
  {
   "cell_type": "code",
   "execution_count": null,
   "metadata": {},
   "outputs": [],
   "source": []
  }
 ],
 "metadata": {
  "kernelspec": {
   "display_name": "Python 3",
   "language": "python",
   "name": "python3"
  },
  "language_info": {
   "codemirror_mode": {
    "name": "ipython",
    "version": 3
   },
   "file_extension": ".py",
   "mimetype": "text/x-python",
   "name": "python",
   "nbconvert_exporter": "python",
   "pygments_lexer": "ipython3",
   "version": "3.10.10"
  },
  "orig_nbformat": 4
 },
 "nbformat": 4,
 "nbformat_minor": 2
}
